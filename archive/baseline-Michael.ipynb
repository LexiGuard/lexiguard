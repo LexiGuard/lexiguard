{
 "cells": [
  {
   "cell_type": "markdown",
   "metadata": {},
   "source": [
    "# Baseline-model experiments Michael"
   ]
  },
  {
   "cell_type": "markdown",
   "metadata": {},
   "source": [
    "## Basic setup"
   ]
  },
  {
   "cell_type": "code",
   "execution_count": null,
   "metadata": {},
   "outputs": [],
   "source": [
    "import pandas as pd\n",
    "import numpy as np\n",
    "import matplotlib.pyplot as plt\n",
    "import seaborn as sns\n",
    "\n",
    "from sklearn.dummy import DummyClassifier\n",
    "from sklearn.linear_model import LogisticRegression\n",
    "from sklearn.feature_extraction.text import CountVectorizer, TfidfVectorizer\n",
    "from sklearn.model_selection import train_test_split\n",
    "from sklearn.metrics import accuracy_score, classification_report,\\\n",
    "    f1_score, ConfusionMatrixDisplay, roc_auc_score, RocCurveDisplay\n",
    "\n",
    "# remove max number of displayed df columns, since our data has quite many\n",
    "# (default is 20)\n",
    "pd.options.display.max_columns = None"
   ]
  },
  {
   "cell_type": "markdown",
   "metadata": {},
   "source": [
    "## Load data"
   ]
  },
  {
   "cell_type": "code",
   "execution_count": null,
   "metadata": {},
   "outputs": [],
   "source": [
    "# merged_data.csv contains only complete observations (~ 450,000 of a total 2M)\n",
    "# 'toxic' column = target! (1 if 'toxicity' >= 0.5)\n",
    "#df = pd.read_csv('data/merged_data.csv')\n",
    "\n",
    "# all_data.csv contains full dataset (only ~ 25% of which is labelled for\n",
    "# identity)\n",
    "#df = pd.read_csv('data/all_data.csv')\n",
    "\n",
    "# train.csv contains ~1.8M rows of labeled data\n",
    "df = pd.read_csv('../data/train.csv')\n",
    "\n",
    "# drop rows with NaN in comment_text, just 3 or 4 depending on file\n",
    "#print('# of rows before:', df.shape[0])\n",
    "#display(df[df['comment_text'].isna()])\n",
    "df.dropna(subset=['comment_text'], inplace=True)\n",
    "#print('# of rows after:', df.shape[0])\n",
    "\n",
    "X = df['comment_text']\n",
    "y = (df['target'] >= 0.5)"
   ]
  },
  {
   "cell_type": "markdown",
   "metadata": {},
   "source": [
    "## Create variable to store experiment results\n",
    "Can be viewed with VSC variable/data viewer."
   ]
  },
  {
   "cell_type": "code",
   "execution_count": null,
   "metadata": {},
   "outputs": [],
   "source": [
    "experiments = [{'model_name': '',\n",
    "                'data_len': 0,\n",
    "                'auc': 0.0,\n",
    "                'acc': 0.0,\n",
    "                'f1': 0.0,\n",
    "                'notes': ''}]\n",
    "experiments.pop(0)"
   ]
  },
  {
   "cell_type": "markdown",
   "metadata": {},
   "source": [
    "## Vectorize text columns"
   ]
  },
  {
   "cell_type": "code",
   "execution_count": null,
   "metadata": {},
   "outputs": [],
   "source": [
    "# simple bag of words\n",
    "vectorizer = CountVectorizer()\n",
    "X_vect = vectorizer.fit_transform(X)"
   ]
  },
  {
   "cell_type": "code",
   "execution_count": null,
   "metadata": {},
   "outputs": [],
   "source": [
    "print(type(X_vect))\n",
    "print(X_vect.shape)"
   ]
  },
  {
   "cell_type": "markdown",
   "metadata": {},
   "source": [
    "## Split into train/test data"
   ]
  },
  {
   "cell_type": "code",
   "execution_count": null,
   "metadata": {},
   "outputs": [],
   "source": [
    "# default is 75% train, 25% test\n",
    "X_train, X_test, y_train, y_test = train_test_split(X_vect, y)"
   ]
  },
  {
   "cell_type": "markdown",
   "metadata": {},
   "source": [
    "## Logistic Regression"
   ]
  },
  {
   "cell_type": "code",
   "execution_count": null,
   "metadata": {},
   "outputs": [],
   "source": [
    "lr_clf = LogisticRegression(max_iter=2000)\n",
    "lr_clf.fit(X_train, y_train)"
   ]
  },
  {
   "cell_type": "code",
   "execution_count": null,
   "metadata": {},
   "outputs": [],
   "source": [
    "y_test_pred = lr_clf.predict(X_test)\n",
    "y_test_pred_proba = lr_clf.predict_proba(X_test)[:,1]\n",
    "\n",
    "# Input for roc_auc_score() must be probabilities from .predict_proba,\n",
    "# not predictions from .predict! There's no error raised and the result\n",
    "# looks okay, although it's wrong! I've walked into this trap a couple\n",
    "# of times during bootcamp, so watch out!\n",
    "auc = roc_auc_score(y_test, y_test_pred_proba)\n",
    "\n",
    "acc = accuracy_score(y_test, y_test_pred)\n",
    "f1 = f1_score(y_test, y_test_pred)\n",
    "\n",
    "experiments.append({'model_name': 'LogisticRegression',\n",
    "                'data_len': X_train.shape[0],\n",
    "                'auc': auc,\n",
    "                'acc': acc,\n",
    "                'f1': f1,\n",
    "                'notes': 'max_iter=500'})\n",
    "\n",
    "print(classification_report(y_test, y_test_pred))\n",
    "\n",
    "ConfusionMatrixDisplay.from_estimator(lr_clf, X_test, y_test)\n",
    "\n",
    "RocCurveDisplay.from_estimator(lr_clf, X_test, y_test);"
   ]
  },
  {
   "cell_type": "markdown",
   "metadata": {},
   "source": [
    "## DummyClassifier\n",
    "### strategy='stratified'"
   ]
  },
  {
   "cell_type": "code",
   "execution_count": null,
   "metadata": {},
   "outputs": [],
   "source": [
    "dummy_clf = DummyClassifier(strategy='stratified')\n",
    "dummy_clf.fit(X_train, y_train)\n",
    "\n",
    "y_test_pred = dummy_clf.predict(X_test)\n",
    "y_test_pred_proba = dummy_clf.predict_proba(X_test)[:,1]\n",
    "\n",
    "auc = roc_auc_score(y_test, y_test_pred_proba)\n",
    "acc = accuracy_score(y_test, y_test_pred)\n",
    "f1 = f1_score(y_test, y_test_pred)\n",
    "\n",
    "experiments.append({'model_name': 'DummyClassifier',\n",
    "                'data_len': X_train.shape[0],\n",
    "                'auc': auc,\n",
    "                'acc': acc,\n",
    "                'f1': f1,\n",
    "                'notes': 'strategy=stratified'})\n",
    "\n",
    "print(classification_report(y_test, y_test_pred))\n",
    "\n",
    "ConfusionMatrixDisplay.from_estimator(dummy_clf, X_test, y_test);"
   ]
  },
  {
   "cell_type": "markdown",
   "metadata": {},
   "source": [
    "### strategy='prior'\n",
    "Default strategy, basically the same as 'most_frequent'."
   ]
  },
  {
   "cell_type": "code",
   "execution_count": null,
   "metadata": {},
   "outputs": [],
   "source": [
    "dummy_clf = DummyClassifier(strategy='prior')\n",
    "dummy_clf.fit(X_train, y_train)\n",
    "\n",
    "y_test_pred = dummy_clf.predict(X_test)\n",
    "y_test_pred_proba = dummy_clf.predict_proba(X_test)[:,1]\n",
    "\n",
    "auc = roc_auc_score(y_test, y_test_pred_proba)\n",
    "acc = accuracy_score(y_test, y_test_pred)\n",
    "f1 = f1_score(y_test, y_test_pred)\n",
    "\n",
    "experiments.append({'model_name': 'DummyClassifier',\n",
    "                'data_len': X_train.shape[0],\n",
    "                'auc': auc,\n",
    "                'acc': acc,\n",
    "                'f1': f1,\n",
    "                'notes': 'strategy=prior'})\n",
    "\n",
    "print(classification_report(y_test, y_test_pred))\n",
    "\n",
    "ConfusionMatrixDisplay.from_estimator(dummy_clf, X_test, y_test);"
   ]
  }
 ],
 "metadata": {
  "interpreter": {
   "hash": "7ee5ce8695951d3743acb1574d7cbc518a435066b16546d59d44a9748127e061"
  },
  "kernelspec": {
   "display_name": "Python 3 (ipykernel)",
   "language": "python",
   "name": "python3"
  },
  "language_info": {
   "codemirror_mode": {
    "name": "ipython",
    "version": 3
   },
   "file_extension": ".py",
   "mimetype": "text/x-python",
   "name": "python",
   "nbconvert_exporter": "python",
   "pygments_lexer": "ipython3",
   "version": "3.11.3"
  }
 },
 "nbformat": 4,
 "nbformat_minor": 4
}
