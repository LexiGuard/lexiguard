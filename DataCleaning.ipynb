{
 "cells": [
  {
   "cell_type": "markdown",
   "metadata": {},
   "source": [
    "## <span style=\"color: yellow;\"><b>Data Cleaning</b></span>\n"
   ]
  },
  {
   "cell_type": "markdown",
   "metadata": {},
   "source": [
    "### Merge"
   ]
  },
  {
   "cell_type": "code",
   "execution_count": 1,
   "metadata": {},
   "outputs": [],
   "source": [
    "import pandas as pd"
   ]
  },
  {
   "cell_type": "code",
   "execution_count": 2,
   "metadata": {},
   "outputs": [],
   "source": [
    "train = pd.read_csv('data/train.csv')\n",
    "test_pvt = pd.read_csv('data/test_private_expanded.csv')"
   ]
  },
  {
   "cell_type": "code",
   "execution_count": 3,
   "metadata": {},
   "outputs": [],
   "source": [
    "merged = pd.concat([train, test_pvt], ignore_index=True)"
   ]
  },
  {
   "cell_type": "code",
   "execution_count": 4,
   "metadata": {},
   "outputs": [
    {
     "name": "stdout",
     "output_type": "stream",
     "text": [
      "No of Columns : 46\n",
      "No of Rows : 1902194\n"
     ]
    }
   ],
   "source": [
    "print(f'No of Columns : {len(merged.columns)}')\n",
    "print(f'No of Rows : {len(merged)}')"
   ]
  },
  {
   "cell_type": "markdown",
   "metadata": {},
   "source": [
    "### Data Cleaning"
   ]
  },
  {
   "cell_type": "code",
   "execution_count": 5,
   "metadata": {},
   "outputs": [],
   "source": [
    "# Step 1 - Fill NANs in Toxicity with Target values\n",
    "\n",
    "merged['toxicity'].fillna(merged['target'], inplace=True)"
   ]
  },
  {
   "cell_type": "code",
   "execution_count": 6,
   "metadata": {},
   "outputs": [],
   "source": [
    "# Step 2 - Remove column Target\n",
    "\n",
    "merged.drop(columns='target', inplace=True)"
   ]
  },
  {
   "cell_type": "code",
   "execution_count": 7,
   "metadata": {},
   "outputs": [],
   "source": [
    "# Step 3 - Add new column toxic, toxicity >= 0.5 then toxic = 1 otherwise toxic = 0\n",
    "\n",
    "merged['toxic'] = (merged['toxicity'] >= 0.5).astype(int)"
   ]
  },
  {
   "cell_type": "code",
   "execution_count": 8,
   "metadata": {},
   "outputs": [
    {
     "data": {
      "text/plain": [
       "array([0, 1])"
      ]
     },
     "execution_count": 8,
     "metadata": {},
     "output_type": "execute_result"
    }
   ],
   "source": [
    "merged['toxic'].unique()"
   ]
  },
  {
   "cell_type": "code",
   "execution_count": 9,
   "metadata": {},
   "outputs": [
    {
     "data": {
      "text/plain": [
       "array([0.        , 0.89361702, 0.66666667, ..., 0.00341006, 0.48780488,\n",
       "       0.96731572])"
      ]
     },
     "execution_count": 9,
     "metadata": {},
     "output_type": "execute_result"
    }
   ],
   "source": [
    "merged['toxicity'].unique()"
   ]
  },
  {
   "cell_type": "code",
   "execution_count": 10,
   "metadata": {},
   "outputs": [
    {
     "data": {
      "text/plain": [
       "id                                           0\n",
       "comment_text                                 3\n",
       "severe_toxicity                              0\n",
       "obscene                                      0\n",
       "identity_attack                              0\n",
       "insult                                       0\n",
       "threat                                       0\n",
       "asian                                  1475487\n",
       "atheist                                1475487\n",
       "bisexual                               1475487\n",
       "black                                  1475487\n",
       "buddhist                               1475487\n",
       "christian                              1475487\n",
       "female                                 1475487\n",
       "heterosexual                           1475487\n",
       "hindu                                  1475487\n",
       "homosexual_gay_or_lesbian              1475487\n",
       "intellectual_or_learning_disability    1475487\n",
       "jewish                                 1475487\n",
       "latino                                 1475487\n",
       "male                                   1475487\n",
       "muslim                                 1475487\n",
       "other_disability                       1475487\n",
       "other_gender                           1475487\n",
       "other_race_or_ethnicity                1475487\n",
       "other_religion                         1475487\n",
       "other_sexual_orientation               1475487\n",
       "physical_disability                    1475487\n",
       "psychiatric_or_mental_illness          1475487\n",
       "transgender                            1475487\n",
       "white                                  1475487\n",
       "created_date                                 0\n",
       "publication_id                               0\n",
       "parent_id                               821840\n",
       "article_id                                   0\n",
       "rating                                       0\n",
       "funny                                        0\n",
       "wow                                          0\n",
       "sad                                          0\n",
       "likes                                        0\n",
       "disagree                                     0\n",
       "sexual_explicit                              0\n",
       "identity_annotator_count                     0\n",
       "toxicity_annotator_count                     0\n",
       "toxicity                                     0\n",
       "toxic                                        0\n",
       "dtype: int64"
      ]
     },
     "execution_count": 10,
     "metadata": {},
     "output_type": "execute_result"
    }
   ],
   "source": [
    "merged.isnull().sum()"
   ]
  },
  {
   "cell_type": "code",
   "execution_count": 11,
   "metadata": {},
   "outputs": [],
   "source": [
    "# drop rows for below columns where values are NaNs\n",
    "\n",
    "columns_to_check = ['asian', 'atheist', 'bisexual', 'black', 'buddhist', 'christian',\n",
    "                    'female', 'heterosexual', 'hindu', 'homosexual_gay_or_lesbian',\n",
    "                    'intellectual_or_learning_disability', 'jewish', 'latino', 'male',\n",
    "                    'muslim', 'other_disability', 'other_gender', 'other_race_or_ethnicity',\n",
    "                    'other_religion', 'other_sexual_orientation', 'physical_disability',\n",
    "                    'psychiatric_or_mental_illness', 'transgender', 'white']\n",
    "\n",
    "# Drop rows where all specified columns have NaN values\n",
    "merged.dropna(subset=columns_to_check, how='all', inplace=True)\n",
    "\n"
   ]
  },
  {
   "cell_type": "code",
   "execution_count": 12,
   "metadata": {},
   "outputs": [
    {
     "data": {
      "text/plain": [
       "Index(['id', 'comment_text', 'severe_toxicity', 'obscene', 'identity_attack',\n",
       "       'insult', 'threat', 'asian', 'atheist', 'bisexual', 'black', 'buddhist',\n",
       "       'christian', 'female', 'heterosexual', 'hindu',\n",
       "       'homosexual_gay_or_lesbian', 'intellectual_or_learning_disability',\n",
       "       'jewish', 'latino', 'male', 'muslim', 'other_disability',\n",
       "       'other_gender', 'other_race_or_ethnicity', 'other_religion',\n",
       "       'other_sexual_orientation', 'physical_disability',\n",
       "       'psychiatric_or_mental_illness', 'transgender', 'white', 'created_date',\n",
       "       'publication_id', 'parent_id', 'article_id', 'rating', 'funny', 'wow',\n",
       "       'sad', 'likes', 'disagree', 'sexual_explicit',\n",
       "       'identity_annotator_count', 'toxicity_annotator_count', 'toxicity',\n",
       "       'toxic'],\n",
       "      dtype='object')"
      ]
     },
     "execution_count": 12,
     "metadata": {},
     "output_type": "execute_result"
    }
   ],
   "source": [
    "merged.columns"
   ]
  },
  {
   "cell_type": "code",
   "execution_count": 13,
   "metadata": {},
   "outputs": [
    {
     "data": {
      "text/plain": [
       "id                                          0\n",
       "comment_text                                2\n",
       "severe_toxicity                             0\n",
       "obscene                                     0\n",
       "identity_attack                             0\n",
       "insult                                      0\n",
       "threat                                      0\n",
       "asian                                       0\n",
       "atheist                                     0\n",
       "bisexual                                    0\n",
       "black                                       0\n",
       "buddhist                                    0\n",
       "christian                                   0\n",
       "female                                      0\n",
       "heterosexual                                0\n",
       "hindu                                       0\n",
       "homosexual_gay_or_lesbian                   0\n",
       "intellectual_or_learning_disability         0\n",
       "jewish                                      0\n",
       "latino                                      0\n",
       "male                                        0\n",
       "muslim                                      0\n",
       "other_disability                            0\n",
       "other_gender                                0\n",
       "other_race_or_ethnicity                     0\n",
       "other_religion                              0\n",
       "other_sexual_orientation                    0\n",
       "physical_disability                         0\n",
       "psychiatric_or_mental_illness               0\n",
       "transgender                                 0\n",
       "white                                       0\n",
       "created_date                                0\n",
       "publication_id                              0\n",
       "parent_id                              179311\n",
       "article_id                                  0\n",
       "rating                                      0\n",
       "funny                                       0\n",
       "wow                                         0\n",
       "sad                                         0\n",
       "likes                                       0\n",
       "disagree                                    0\n",
       "sexual_explicit                             0\n",
       "identity_annotator_count                    0\n",
       "toxicity_annotator_count                    0\n",
       "toxicity                                    0\n",
       "toxic                                       0\n",
       "dtype: int64"
      ]
     },
     "execution_count": 13,
     "metadata": {},
     "output_type": "execute_result"
    }
   ],
   "source": [
    "merged.isnull().sum()"
   ]
  },
  {
   "cell_type": "code",
   "execution_count": 14,
   "metadata": {},
   "outputs": [],
   "source": [
    "# Step 4 - Drop columns parent_id, publication_id, article_id\n",
    "\n",
    "columns_to_drop = ['parent_id', 'publication_id', 'article_id']\n",
    "merged = merged.drop(columns=columns_to_drop)"
   ]
  },
  {
   "cell_type": "code",
   "execution_count": 15,
   "metadata": {},
   "outputs": [
    {
     "data": {
      "text/plain": [
       "id                                     0\n",
       "comment_text                           2\n",
       "severe_toxicity                        0\n",
       "obscene                                0\n",
       "identity_attack                        0\n",
       "insult                                 0\n",
       "threat                                 0\n",
       "asian                                  0\n",
       "atheist                                0\n",
       "bisexual                               0\n",
       "black                                  0\n",
       "buddhist                               0\n",
       "christian                              0\n",
       "female                                 0\n",
       "heterosexual                           0\n",
       "hindu                                  0\n",
       "homosexual_gay_or_lesbian              0\n",
       "intellectual_or_learning_disability    0\n",
       "jewish                                 0\n",
       "latino                                 0\n",
       "male                                   0\n",
       "muslim                                 0\n",
       "other_disability                       0\n",
       "other_gender                           0\n",
       "other_race_or_ethnicity                0\n",
       "other_religion                         0\n",
       "other_sexual_orientation               0\n",
       "physical_disability                    0\n",
       "psychiatric_or_mental_illness          0\n",
       "transgender                            0\n",
       "white                                  0\n",
       "created_date                           0\n",
       "rating                                 0\n",
       "funny                                  0\n",
       "wow                                    0\n",
       "sad                                    0\n",
       "likes                                  0\n",
       "disagree                               0\n",
       "sexual_explicit                        0\n",
       "identity_annotator_count               0\n",
       "toxicity_annotator_count               0\n",
       "toxicity                               0\n",
       "toxic                                  0\n",
       "dtype: int64"
      ]
     },
     "execution_count": 15,
     "metadata": {},
     "output_type": "execute_result"
    }
   ],
   "source": [
    "merged.isnull().sum()"
   ]
  },
  {
   "cell_type": "code",
   "execution_count": 16,
   "metadata": {},
   "outputs": [],
   "source": [
    "# Step 5 - remove NaNs columns of comment_text\n",
    "\n",
    "# comment_text                                2\n",
    "# 2 rows having NaNs\n",
    "\n",
    "\n",
    "merged = merged.dropna(subset=['comment_text'])\n"
   ]
  },
  {
   "cell_type": "code",
   "execution_count": 17,
   "metadata": {},
   "outputs": [
    {
     "data": {
      "text/plain": [
       "id                                     0\n",
       "comment_text                           0\n",
       "severe_toxicity                        0\n",
       "obscene                                0\n",
       "identity_attack                        0\n",
       "insult                                 0\n",
       "threat                                 0\n",
       "asian                                  0\n",
       "atheist                                0\n",
       "bisexual                               0\n",
       "black                                  0\n",
       "buddhist                               0\n",
       "christian                              0\n",
       "female                                 0\n",
       "heterosexual                           0\n",
       "hindu                                  0\n",
       "homosexual_gay_or_lesbian              0\n",
       "intellectual_or_learning_disability    0\n",
       "jewish                                 0\n",
       "latino                                 0\n",
       "male                                   0\n",
       "muslim                                 0\n",
       "other_disability                       0\n",
       "other_gender                           0\n",
       "other_race_or_ethnicity                0\n",
       "other_religion                         0\n",
       "other_sexual_orientation               0\n",
       "physical_disability                    0\n",
       "psychiatric_or_mental_illness          0\n",
       "transgender                            0\n",
       "white                                  0\n",
       "created_date                           0\n",
       "rating                                 0\n",
       "funny                                  0\n",
       "wow                                    0\n",
       "sad                                    0\n",
       "likes                                  0\n",
       "disagree                               0\n",
       "sexual_explicit                        0\n",
       "identity_annotator_count               0\n",
       "toxicity_annotator_count               0\n",
       "toxicity                               0\n",
       "toxic                                  0\n",
       "dtype: int64"
      ]
     },
     "execution_count": 17,
     "metadata": {},
     "output_type": "execute_result"
    }
   ],
   "source": [
    "merged.isnull().sum()"
   ]
  },
  {
   "cell_type": "code",
   "execution_count": 19,
   "metadata": {},
   "outputs": [],
   "source": [
    "# Step 6 - create .csv file from merged dataset\n",
    "\n",
    "merged.to_csv('data/merged_data.csv', index=False)"
   ]
  },
  {
   "cell_type": "code",
   "execution_count": 20,
   "metadata": {},
   "outputs": [
    {
     "data": {
      "text/plain": [
       "Index(['id', 'comment_text', 'severe_toxicity', 'obscene', 'identity_attack',\n",
       "       'insult', 'threat', 'asian', 'atheist', 'bisexual', 'black', 'buddhist',\n",
       "       'christian', 'female', 'heterosexual', 'hindu',\n",
       "       'homosexual_gay_or_lesbian', 'intellectual_or_learning_disability',\n",
       "       'jewish', 'latino', 'male', 'muslim', 'other_disability',\n",
       "       'other_gender', 'other_race_or_ethnicity', 'other_religion',\n",
       "       'other_sexual_orientation', 'physical_disability',\n",
       "       'psychiatric_or_mental_illness', 'transgender', 'white', 'created_date',\n",
       "       'rating', 'funny', 'wow', 'sad', 'likes', 'disagree', 'sexual_explicit',\n",
       "       'identity_annotator_count', 'toxicity_annotator_count', 'toxicity',\n",
       "       'toxic'],\n",
       "      dtype='object')"
      ]
     },
     "execution_count": 20,
     "metadata": {},
     "output_type": "execute_result"
    }
   ],
   "source": [
    "merged.columns"
   ]
  },
  {
   "cell_type": "code",
   "execution_count": 21,
   "metadata": {},
   "outputs": [
    {
     "name": "stdout",
     "output_type": "stream",
     "text": [
      "toxic\n",
      "0    378271\n",
      "1     48434\n",
      "Name: count, dtype: int64\n",
      "toxic\n",
      "0    88.6\n",
      "1    11.4\n",
      "Name: count, dtype: float64\n"
     ]
    }
   ],
   "source": [
    "# Checking how the data is balanced\n",
    "toxic_counts = merged['toxic'].value_counts()\n",
    "print(toxic_counts)\n",
    "\n",
    "toxic_percentages = ((toxic_counts / len(merged)) * 100).round(1)\n",
    "print(toxic_percentages)"
   ]
  },
  {
   "cell_type": "markdown",
   "metadata": {},
   "source": [
    "<span style=\"color: yellow;\"><b>Imbalanced data. Work on this after EDA</b></span>"
   ]
  },
  {
   "cell_type": "code",
   "execution_count": 22,
   "metadata": {},
   "outputs": [
    {
     "name": "stdout",
     "output_type": "stream",
     "text": [
      "No of Columns : 43\n",
      "No of Rows : 426705\n"
     ]
    }
   ],
   "source": [
    "print(f'No of Columns : {len(merged.columns)}')\n",
    "print(f'No of Rows : {len(merged)}')"
   ]
  },
  {
   "cell_type": "code",
   "execution_count": null,
   "metadata": {},
   "outputs": [],
   "source": []
  }
 ],
 "metadata": {
  "interpreter": {
   "hash": "7ee5ce8695951d3743acb1574d7cbc518a435066b16546d59d44a9748127e061"
  },
  "kernelspec": {
   "display_name": "Python 3 (ipykernel)",
   "language": "python",
   "name": "python3"
  },
  "language_info": {
   "codemirror_mode": {
    "name": "ipython",
    "version": 3
   },
   "file_extension": ".py",
   "mimetype": "text/x-python",
   "name": "python",
   "nbconvert_exporter": "python",
   "pygments_lexer": "ipython3",
   "version": "3.11.3"
  }
 },
 "nbformat": 4,
 "nbformat_minor": 4
}
