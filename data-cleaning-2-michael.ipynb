{
  "cells": [
    {
      "cell_type": "markdown",
      "metadata": {
        "id": "8ChnD36qHhuy"
      },
      "source": [
        "# Data cleaning (Michael)\n",
        "\n",
        "Remove URLs etc."
      ]
    },
    {
      "cell_type": "markdown",
      "metadata": {
        "id": "sLTUtsD6HupB"
      },
      "source": [
        "## Setup"
      ]
    },
    {
      "cell_type": "code",
      "execution_count": 81,
      "metadata": {
        "colab": {
          "base_uri": "https://localhost:8080/"
        },
        "id": "nisbn3mTG0fj",
        "outputId": "c3a65a47-0bea-4de2-c594-1b5ca57dec48"
      },
      "outputs": [],
      "source": [
        "# import the usual suspects / basics\n",
        "import time; full_run_time_start = time.time() # start timing exec right away\n",
        "import pandas as pd\n",
        "import numpy as np\n",
        "import matplotlib.pyplot as plt\n",
        "import seaborn as sns\n",
        "import pickle\n",
        "import re\n",
        "\n",
        "# scikit-learn\n",
        "from sklearn.model_selection import train_test_split\n",
        "from sklearn.feature_extraction.text import CountVectorizer, TfidfVectorizer\n",
        "from sklearn.linear_model import LogisticRegression\n",
        "from sklearn.metrics import roc_auc_score, classification_report, f1_score,\\\n",
        "    accuracy_score, precision_score, recall_score, confusion_matrix\n",
        "\n",
        "# XGBoost\n",
        "from xgboost import XGBClassifier\n",
        "\n",
        "# currently not used and thus commented out\n",
        "# import nltk\n",
        "# nltk.download('wordnet')\n",
        "# nltk.download('omw-1.4')\n",
        "\n",
        "# display all df columns (default is 20)\n",
        "pd.options.display.max_columns = None"
      ]
    },
    {
      "cell_type": "markdown",
      "metadata": {
        "id": "-MP847vfIJMN"
      },
      "source": [
        "## Load data"
      ]
    },
    {
      "cell_type": "code",
      "execution_count": 82,
      "metadata": {
        "id": "r6YNY0NIIL4d"
      },
      "outputs": [
        {
          "data": {
            "text/plain": [
              "(360835, 6)"
            ]
          },
          "execution_count": 82,
          "metadata": {},
          "output_type": "execute_result"
        }
      ],
      "source": [
        "df = pd.read_csv('data/undersampled_data_60_40.csv')\n",
        "df.shape"
      ]
    },
    {
      "cell_type": "markdown",
      "metadata": {},
      "source": [
        "## Optional: Create smaller sample from data to speed up experiments"
      ]
    },
    {
      "cell_type": "code",
      "execution_count": 83,
      "metadata": {},
      "outputs": [
        {
          "name": "stdout",
          "output_type": "stream",
          "text": [
            "Using full data (360835 rows).\n"
          ]
        }
      ],
      "source": [
        "sample_size = None\n",
        "\n",
        "# uncomment to create sample of desired size\n",
        "#sample_size = 25_000\n",
        "\n",
        "if sample_size != None:\n",
        "    # ratio toxic/nontoxic\n",
        "    tox_perc = 0.4\n",
        "    nontox_perc = 0.6\n",
        "\n",
        "    # number of toxic/nontoxic rows\n",
        "    sample_size_tox = int(sample_size * tox_perc)\n",
        "    sample_size_nontox = int(sample_size * nontox_perc)\n",
        "\n",
        "    sample_tox = df[df['toxic'] == 1].sample(sample_size_tox,\n",
        "                                             random_state=42)\n",
        "    sample_nontox = df[df['toxic'] == 0].sample(sample_size_nontox,\n",
        "                                                random_state=42)\n",
        "\n",
        "    df = pd.concat([sample_tox, sample_nontox])\n",
        "    print(f'Using sample ({df.shape[0]} rows).')\n",
        "\n",
        "else:\n",
        "    print(f'Using full data ({df.shape[0]} rows).')"
      ]
    },
    {
      "cell_type": "markdown",
      "metadata": {},
      "source": [
        "## Data cleaning (URLs etc.)"
      ]
    },
    {
      "cell_type": "code",
      "execution_count": 84,
      "metadata": {},
      "outputs": [],
      "source": [
        "pd.options.display.max_colwidth = None\n",
        "\n",
        "corp_raw = df['comment_text']"
      ]
    },
    {
      "cell_type": "markdown",
      "metadata": {},
      "source": [
        "### Remove URLs"
      ]
    },
    {
      "cell_type": "code",
      "execution_count": 85,
      "metadata": {},
      "outputs": [
        {
          "name": "stdout",
          "output_type": "stream",
          "text": [
            "9760\n"
          ]
        },
        {
          "data": {
            "text/plain": [
              "3                      We are already owed $488 M plus interest($2Billion) from 2006 audits the state has not collected.\\nhttps://www.adn.com/energy/article/oil-audit-draft/2014/11/20/\\n\\nThis amount of interest doesn't seem correct...\\n\\n'$416 million in taxes, plus another $368 million in interest between 2007 and 2009'\\n\\nWhen oil companies sued the state they wanted $100 M plus $400 M interest from 2006.\\nhttps://www.adn.com/business-economy/energy/2016/12/16/state-wins-case-against-oil-companies-worth-an-estimated-500-million/\\n\\nIs the state interest rate is much lower than the one oil companies set for us, or the legislature is letting them off with only 3 years of interest?\\n\\n \"The new law includes the unbelievable provision that after three years the companies will pay zero additional interest on delinquent taxes.\"\\nhttps://www.adn.com/opinions/2016/11/29/with-pfd-cut-on-the-line-oil-company-arguments-about-fine-points-of-tax-regs-will-backfire/\n",
              "65                                                                                                                                                                                                                                                         http://hedgeclippers.org\\nWHO ARE THE HEDGE CLIPPERS?\\nWhistleblowers for Working People  \\n\\nInstead of draining the swamp, Donald Trump brought it into the White House. Members of Trump’s inner circle include Wall Street billionaires with a history of destroying jobs, harming working people, and protecting the wealthiest Americans at everyone else’s expense. Hedge Clippers unites organizations and movements to cut through Trump’s swamp, and blow the whistle on Trump’s advisors who put their own financial gain before the public good. We’re giving Americans the tools and infrastructure to fight, and win, a multi-year battle against Trump’s agenda in Washington, and in states, cities, and towns across America.\n",
              "75                                                                                                                                                             WATCH KIRK CALDWELL LIE ON YOU TUBE DEBATE!! This will show you all how much kirk lies! On the link below as he debates with Ben he talks about how bad Ben is for going down Kapiolani messing up all the monkey pod trees! Now this hippocrite and Hart has plans to go down kapiolani destroying the trees !' Well where is the mayor why dont he do a press conference condeming them going down kapiolani destroying trees.. ?? Why because lies and GGP and his pal jennifer Sabas and all his ala moana friends dont want it going down Kona street and how would they know to build the parking lot blocking the path unless they knew the route was going to change.. \\nGo to 11:17. And watch lying kirk .. rail now going down kapiolani!! \\nhttps://m.youtube.com/watch?v=eIPTPIx3wtw\\nWhat now lex or keala whats his excuse?\n",
              "91                                                                                                                                                                                                                                                                                                                                                                                                                                                                                                                                                                                                                                                                                                                                                                                                                Pushing the costs on to others while keeping the profits. the continuing bad idea of gmos.... .http://www.oregonlive.com/business/index.ssf/2017/01/grass_seed_industry_fearful_ab.html\n",
              "100    More comprehensive with better nuance specific to US Prosperity Gospel movements:\\n\\nhttps://en.wikipedia.org/wiki/Prosperity_theology\\n\\n teachers of prosperity theology usually draw attention to its descriptions of physical wealth. Frequently quoted verses include:\\nMalachi 3:10: \"Bring to the storehouse a full tenth of what you earn so there will be food in my house. Test me in this,\" says the Lord All-Powerful. \"I will open the windows of heaven for you and pour out all the blessings you need\" \\nMatthew 25:14–30: the Parable of the talents\\nJohn 10:10: \"I am come that they might have life, and that they might have it more abundantly\" \\nPhilippians 4:19: \"My God shall supply all your need according to his riches in glory by Christ Jesus\" \\n Prosperity theology casts itself as the reclamation of true doctrine and thus part of a path to Christian dominion over secular society  Prosperity churches place a strong emphasis on the importance of giving\n",
              "Name: comment_text, dtype: object"
            ]
          },
          "execution_count": 85,
          "metadata": {},
          "output_type": "execute_result"
        }
      ],
      "source": [
        "regex = r'https?://\\S+'\n",
        "print(corp_raw.str.count(regex, flags=re.IGNORECASE).sum())\n",
        "corp_raw[corp_raw.str.contains(regex, na=False, case=False)].head()"
      ]
    },
    {
      "cell_type": "code",
      "execution_count": 86,
      "metadata": {},
      "outputs": [
        {
          "name": "stdout",
          "output_type": "stream",
          "text": [
            "0\n"
          ]
        }
      ],
      "source": [
        "corp_raw = corp_raw.str.replace(regex, '', regex=True, case=False)\n",
        "print(corp_raw.str.count(regex, flags=re.IGNORECASE).sum())"
      ]
    },
    {
      "cell_type": "markdown",
      "metadata": {},
      "source": [
        "### Remove linebreaks"
      ]
    },
    {
      "cell_type": "code",
      "execution_count": 87,
      "metadata": {},
      "outputs": [
        {
          "name": "stdout",
          "output_type": "stream",
          "text": [
            "392196\n"
          ]
        },
        {
          "data": {
            "text/plain": [
              "1                                                                                                                                                                                                                                                                                                                                                                           The moment of critical mass is approaching when the deeds of Gupta & Co, like huge turbine engines slow down, halt and the reverse direction of the wheels of justice are set in motion leaving no hiding room.\\n\\n‘...unintended consequences’…. uneasy sleep ahead for many.\n",
              "2                                                                                                                                                                                                                                                                                                                                                                                                                                                 \"Hey listen to me,\" he said. \"I'm not going to put up with your crap about all this.\" He shouldn't have to prove himself to a reporter, he said.\\n\\nUh, actually Ben, you do.  And you didn't.  Buh-bye.\n",
              "3    We are already owed $488 M plus interest($2Billion) from 2006 audits the state has not collected.\\n\\n\\nThis amount of interest doesn't seem correct...\\n\\n'$416 million in taxes, plus another $368 million in interest between 2007 and 2009'\\n\\nWhen oil companies sued the state they wanted $100 M plus $400 M interest from 2006.\\n\\n\\nIs the state interest rate is much lower than the one oil companies set for us, or the legislature is letting them off with only 3 years of interest?\\n\\n \"The new law includes the unbelievable provision that after three years the companies will pay zero additional interest on delinquent taxes.\"\\n\n",
              "4                                                                                                                                                                                                                                                                                                                                                                                                           There is a reason there are no teeth to the law. It is an unlawful law. There is no way anyone can be forced to give someone else free electricity. Not yet at least.\\n\\nYou want to be green , pay for it yourself like every body else must.\n",
              "7                                                                                                                                                                                                                                                                                                    I think it's clear where this debate is headed in light of Minister Joly's response to the Conservative's motion was that the very motion proposed by the conservatives was islamaphobic.  Case closed.\\n\\nSo any objection, counter thought, difference of opinion, etc is now a sign of islamaphobia?  Best keep your mouth shut and move on I say.\n",
              "Name: comment_text, dtype: object"
            ]
          },
          "execution_count": 87,
          "metadata": {},
          "output_type": "execute_result"
        }
      ],
      "source": [
        "regex = r'\\n'\n",
        "print(corp_raw.str.count(regex, flags=re.IGNORECASE).sum())\n",
        "corp_raw[corp_raw.str.contains(regex, na=False, case=False)].head()"
      ]
    },
    {
      "cell_type": "code",
      "execution_count": 88,
      "metadata": {},
      "outputs": [
        {
          "name": "stdout",
          "output_type": "stream",
          "text": [
            "0\n"
          ]
        }
      ],
      "source": [
        "corp_raw = corp_raw.str.replace(regex, ' ', regex=True, case=False)\n",
        "print(corp_raw.str.count(regex, flags=re.IGNORECASE).sum())"
      ]
    },
    {
      "cell_type": "markdown",
      "metadata": {},
      "source": [
        "### Remove HTML tags"
      ]
    },
    {
      "cell_type": "code",
      "execution_count": 89,
      "metadata": {},
      "outputs": [
        {
          "name": "stdout",
          "output_type": "stream",
          "text": [
            "123\n"
          ]
        },
        {
          "data": {
            "text/plain": [
              "5268     430edward You wrote:  \"The solution to the second question is for you to write a letter to the person you harmed or do a graveside amends.\"  But, what i wrote was:  \"Or, what <b>if you are the hurt person</b> and by the time you come to the point of knowing to offer forgiveness <b>you can not because the person who hurt you is dead.\"\"</b>  Lastly, you wrote:  \"The solution to the first question is that it is not your business how the other takes your forgiveness, only that it is sincere.\"  However, when you forgive someone, you hope there will be <b>Reconciliation</b> so it is the business of the one who forgives.  Forgiveness without Reconciliation leaves a hollow spot in one's heart that never gets filled in.\n",
              "8294                                                                                                                                                                                                                                                                                                                                                                                                                                                                       You can buy from our large and diverse collection of salwar kameez, party wear suits, bollywood collection, cotton kurtis, Anarrkali suits,Bollywood saree and many other products..... We Have Some For You In Your Budget For more… Plz visit:- <a href= \" Salwar Kameez</a>\n",
              "9459                                                                                                                                                                                                                                                                                                                                                                                                                                                 <i>Smokers have reduced productivity at work and more health issues and cost all of us in higher insurance costs.</i>  The costs from obesity and Type II diabetes are even worse, but I don't see any push to implement the type of laws that smokers and tobacco companies have been subjected to.\n",
              "18350                                                                                                                                                                                                                                                                                                                                                                                                                                                                                                                                                                                                                           I tried to \"like\" your post multiple times, but the system still doesn't allow it; but if I could have, I would have. <g>\n",
              "24328                                                                                                                                                                                                                                                                                                                                                                                                                                                                         YOU and no one else, condemned the man to hell for distributing condoms. You have a nasty habit strongly implying that <x> shall go to hell for doing or saying <y>, and then claiming \"Whoever goes to hell that is between themselves and God, I condemn no one to hell.\"\n",
              "Name: comment_text, dtype: object"
            ]
          },
          "execution_count": 89,
          "metadata": {},
          "output_type": "execute_result"
        }
      ],
      "source": [
        "regex = r'</?\\S>'\n",
        "print(corp_raw.str.count(regex, flags=re.IGNORECASE).sum())\n",
        "corp_raw[corp_raw.str.contains(regex, na=False, case=False)].head()"
      ]
    },
    {
      "cell_type": "code",
      "execution_count": 90,
      "metadata": {},
      "outputs": [
        {
          "name": "stdout",
          "output_type": "stream",
          "text": [
            "0\n"
          ]
        }
      ],
      "source": [
        "corp_raw = corp_raw.str.replace(regex, '', regex=True, case=False)\n",
        "print(corp_raw.str.count(regex, flags=re.IGNORECASE).sum())"
      ]
    },
    {
      "cell_type": "markdown",
      "metadata": {},
      "source": [
        "### Remove numbers"
      ]
    },
    {
      "cell_type": "code",
      "execution_count": 91,
      "metadata": {},
      "outputs": [
        {
          "name": "stdout",
          "output_type": "stream",
          "text": [
            "168642\n"
          ]
        },
        {
          "data": {
            "text/plain": [
              "3     We are already owed $488 M plus interest($2Billion) from 2006 audits the state has not collected.   This amount of interest doesn't seem correct...  '$416 million in taxes, plus another $368 million in interest between 2007 and 2009'  When oil companies sued the state they wanted $100 M plus $400 M interest from 2006.   Is the state interest rate is much lower than the one oil companies set for us, or the legislature is letting them off with only 3 years of interest?   \"The new law includes the unbelievable provision that after three years the companies will pay zero additional interest on delinquent taxes.\" \n",
              "9                                                                                                                                                                                                                                                                                                        Why leave my basement? It's 1800 square feet with full bar stocked with Guinness, Old Speckled Hen., some Gibsons and a modest amount of wine.  Movie theater, spare guest room and full bath, gym, office, spacious utility room laundry. Big popcorn maker, hot dog cooker, and a really neat margarita maker.  How's your trailer?\n",
              "24                                                                                                                                                                                                                                                                                                                                                                                                                          Survey tell us 60% of Muslims in Europe want separate sharia law for themselves, and 40% believe killing infidels is justified if the Prophet Mohammad is insulted.  Lone wolf terrorists have many friends. @; (>\n",
              "42                                                                                        You know you're being lied to when someone takes a brief peak, like the cost of power on the open market in 2008, and uses that as the point of comparison for how far things have gone down. Power prices fluctuate. If EWEB thought the peak would be the price forever, that in itself makes a compelling case for mismanagement. Add in that another board member has already apologized for the Seneca dirty power fiasco, and I don't trust John Simpson in the slightest way.  If he thinks EWEB is doing a great job, he's almost all alone.\n",
              "52                                                                                                                                                                                                                                                                                And now it begins.  Look for the shuffling of money from different budgets into Rail.  10K here, 100K there and a couple of million from over there.  The tax rate won't change - for now.   But other services and capital spending will get hit. The roads will get repaved at a slower rate. The parks will get cleaned up even less often than now, etc.\n",
              "Name: comment_text, dtype: object"
            ]
          },
          "execution_count": 91,
          "metadata": {},
          "output_type": "execute_result"
        }
      ],
      "source": [
        "regex = r'\\d+'\n",
        "print(corp_raw.str.count(regex, flags=re.IGNORECASE).sum())\n",
        "corp_raw[corp_raw.str.contains(regex, na=False, case=False)].head()"
      ]
    },
    {
      "cell_type": "code",
      "execution_count": 92,
      "metadata": {},
      "outputs": [
        {
          "name": "stdout",
          "output_type": "stream",
          "text": [
            "0\n"
          ]
        }
      ],
      "source": [
        "corp_raw = corp_raw.str.replace(regex, '', regex=True, case=False)\n",
        "print(corp_raw.str.count(regex, flags=re.IGNORECASE).sum())"
      ]
    },
    {
      "cell_type": "markdown",
      "metadata": {},
      "source": [
        "### Remove multiple spaces"
      ]
    },
    {
      "cell_type": "code",
      "execution_count": 93,
      "metadata": {},
      "outputs": [
        {
          "name": "stdout",
          "output_type": "stream",
          "text": [
            "551214\n"
          ]
        },
        {
          "data": {
            "text/plain": [
              "1                                                                                                                                                                                                                                                                                                                               The moment of critical mass is approaching when the deeds of Gupta & Co, like huge turbine engines slow down, halt and the reverse direction of the wheels of justice are set in motion leaving no hiding room.  ‘...unintended consequences’…. uneasy sleep ahead for many.\n",
              "2                                                                                                                                                                                                                                                                                                                                                                                                     \"Hey listen to me,\" he said. \"I'm not going to put up with your crap about all this.\" He shouldn't have to prove himself to a reporter, he said.  Uh, actually Ben, you do.  And you didn't.  Buh-bye.\n",
              "3    We are already owed $ M plus interest($Billion) from  audits the state has not collected.   This amount of interest doesn't seem correct...  '$ million in taxes, plus another $ million in interest between  and '  When oil companies sued the state they wanted $ M plus $ M interest from .   Is the state interest rate is much lower than the one oil companies set for us, or the legislature is letting them off with only  years of interest?   \"The new law includes the unbelievable provision that after three years the companies will pay zero additional interest on delinquent taxes.\" \n",
              "4                                                                                                                                                                                                                                                                                                                                                               There is a reason there are no teeth to the law. It is an unlawful law. There is no way anyone can be forced to give someone else free electricity. Not yet at least.  You want to be green , pay for it yourself like every body else must.\n",
              "7                                                                                                                                                                                                                                                        I think it's clear where this debate is headed in light of Minister Joly's response to the Conservative's motion was that the very motion proposed by the conservatives was islamaphobic.  Case closed.  So any objection, counter thought, difference of opinion, etc is now a sign of islamaphobia?  Best keep your mouth shut and move on I say.\n",
              "Name: comment_text, dtype: object"
            ]
          },
          "execution_count": 93,
          "metadata": {},
          "output_type": "execute_result"
        }
      ],
      "source": [
        "regex = r' {2,}'\n",
        "print(corp_raw.str.count(regex, flags=re.IGNORECASE).sum())\n",
        "corp_raw[corp_raw.str.contains(regex, na=False, case=False)].head()"
      ]
    },
    {
      "cell_type": "code",
      "execution_count": 94,
      "metadata": {},
      "outputs": [
        {
          "name": "stdout",
          "output_type": "stream",
          "text": [
            "0\n"
          ]
        }
      ],
      "source": [
        "corp_raw = corp_raw.str.replace(regex, ' ', regex=True, case=False)\n",
        "print(corp_raw.str.count(regex, flags=re.IGNORECASE).sum())"
      ]
    },
    {
      "cell_type": "code",
      "execution_count": 95,
      "metadata": {},
      "outputs": [
        {
          "data": {
            "text/plain": [
              "339899                                                                                                                                                                                                                                                                                                         This ridiculous argument appeared on the new HART website recently. The Tax Foundation and independent CPAs have long established that this rail GET surcharge tax costs each individual on Oahu between $ and $ per year - for years. That is about $, for each couple. Enough - no more taxes for rail.\n",
              "335832                                                                                                                                                                                                                                                                                                                                                                                                                                                                                                                                                                                 White privilege? Cry little ones!\n",
              "199801                                                                                                                                                                                                                                                                                                                                                                                                                                                                                                              Please vote NO to Charisse millet for house and NO to Vanessa white superior court judge in Wasilla.\n",
              "34596                                                                                                                                                                                                                                                                                                                                                                                                                                        Judge Watson is an idiot. How can this that only blocks people from Muslim nations leaving % of the remaining worlds Muslims to apply to enter the country be anti Muslim??\n",
              "84208                                                                                                                                                                                                                                                                                         there may be a war, but not a nuclear war. little rocket man will fire a missile or two and then we shoot it down and just go in with conventional weapons and get rid of the dictatorship and put kim in his place once and for all. the liberal media is doing the fear mongering to get viewers to read their articles.\n",
              "19585                                                                                                                                                                                                                                                                                                                                                                                                                                                                                                                      Typical dumb Anchorage thugs. I cannot believe how many of these idiots we have in this town.\n",
              "153075    Ashley Judd. Do NOT pity Weistein or advise him to seek therapy. His criminality is incurable and is ingrained into Hollywood culture. Arm yourselves and shoot him and any rapist. It will be worth it. The public and jury will understand. Chief Ballard will understand. You are terrified and have no means of escape. The cops are not around to help. So shoot, shoot, shoot them until they are dead. I guarantee you a wave of calm will finally engulf you and bring everlasting peace. They will no longer rape another female again. You will become the best spokesperson for women against rape.\n",
              "308796                                                                                                                                                                                                                                                                                                                                                                                                                                                                                                  Anyone who votes for Trump and his ilk have no moral backbone and are stupid, besides. As an example: Your post.\n",
              "32452                                                                                                                                          \"...a readable work such as Prof. MacCulloch's \"The Reformation.\" It is an excellent work! So many insights like this one on page : \"In fact, England judicially murdered more Roman Catholics than any other country in Europe, which puts English pride in national tolerance in an interesting perspective.\" I can't forget that quote because English Catholics -- two especially -- always remind me of it, especially the family with whom I will spend a few days.\n",
              "172372                                                                                                                                                                                                                                                                                                                                                                                                                                                               \"In Alaska, we have an obligation to consider the zany, impossible and impractical.\" So that's how we ended up with that dysfunctional legislature?\n",
              "Name: comment_text, dtype: object"
            ]
          },
          "execution_count": 95,
          "metadata": {},
          "output_type": "execute_result"
        }
      ],
      "source": [
        "corp_raw.sample(10)"
      ]
    }
  ],
  "metadata": {
    "colab": {
      "provenance": []
    },
    "kernelspec": {
      "display_name": "Python 3",
      "name": "python3"
    },
    "language_info": {
      "codemirror_mode": {
        "name": "ipython",
        "version": 3
      },
      "file_extension": ".py",
      "mimetype": "text/x-python",
      "name": "python",
      "nbconvert_exporter": "python",
      "pygments_lexer": "ipython3",
      "version": "3.11.3"
    }
  },
  "nbformat": 4,
  "nbformat_minor": 0
}
