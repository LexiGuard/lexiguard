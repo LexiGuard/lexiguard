{
  "cells": [
    {
      "cell_type": "markdown",
      "metadata": {
        "id": "8ChnD36qHhuy"
      },
      "source": [
        "# Data cleaning (Michael)\n",
        "\n",
        "Remove URLs etc."
      ]
    },
    {
      "cell_type": "markdown",
      "metadata": {
        "id": "sLTUtsD6HupB"
      },
      "source": [
        "## Setup"
      ]
    },
    {
      "cell_type": "code",
      "execution_count": 1,
      "metadata": {
        "colab": {
          "base_uri": "https://localhost:8080/"
        },
        "id": "nisbn3mTG0fj",
        "outputId": "c3a65a47-0bea-4de2-c594-1b5ca57dec48"
      },
      "outputs": [],
      "source": [
        "# import the usual suspects / basics\n",
        "import pandas as pd\n",
        "import numpy as np\n",
        "import re\n",
        "import pickle\n",
        "\n",
        "# spaCy\n",
        "import spacy\n",
        "\n",
        "# display all df columns (default is 20)\n",
        "pd.options.display.max_columns = None\n",
        "\n",
        "# show all data in columns so that full comment is visible\n",
        "pd.options.display.max_colwidth = None"
      ]
    },
    {
      "cell_type": "markdown",
      "metadata": {
        "id": "-MP847vfIJMN"
      },
      "source": [
        "## Load/unpickle data"
      ]
    },
    {
      "cell_type": "code",
      "execution_count": 2,
      "metadata": {
        "id": "r6YNY0NIIL4d"
      },
      "outputs": [
        {
          "data": {
            "text/plain": [
              "(360835, 6)"
            ]
          },
          "execution_count": 2,
          "metadata": {},
          "output_type": "execute_result"
        }
      ],
      "source": [
        "#df = pd.read_csv('data/undersampled_data_60_40_ft.csv')\n",
        "#with open('pickle/undersampled_data_60_40.pkl', mode='wb') as f:\n",
        "#    pickle.dump(df, f)\n",
        "\n",
        "with open('pickle/undersampled_data_60_40.pkl', mode='rb') as f:\n",
        "    df = pickle.load(f)\n",
        "\n",
        "df.shape"
      ]
    },
    {
      "cell_type": "markdown",
      "metadata": {},
      "source": [
        "## Optional: Create smaller sample from data to speed up things while experimenting"
      ]
    },
    {
      "cell_type": "code",
      "execution_count": 3,
      "metadata": {},
      "outputs": [
        {
          "name": "stdout",
          "output_type": "stream",
          "text": [
            "Using full data (360835 rows).\n"
          ]
        }
      ],
      "source": [
        "sample_size = None\n",
        "\n",
        "# uncomment to create sample of desired size\n",
        "#sample_size = 25_000\n",
        "\n",
        "if sample_size != None:\n",
        "    # ratio toxic/nontoxic\n",
        "    tox_perc = 0.4\n",
        "    nontox_perc = 0.6\n",
        "\n",
        "    # number of toxic/nontoxic rows\n",
        "    sample_size_tox = int(sample_size * tox_perc)\n",
        "    sample_size_nontox = int(sample_size * nontox_perc)\n",
        "\n",
        "    sample_tox = df[df['toxic'] == 1].sample(sample_size_tox,\n",
        "                                             random_state=42)\n",
        "    sample_nontox = df[df['toxic'] == 0].sample(sample_size_nontox,\n",
        "                                                random_state=42)\n",
        "\n",
        "    df = pd.concat([sample_tox, sample_nontox])\n",
        "    print(f'Using sample ({df.shape[0]} rows).')\n",
        "\n",
        "else:\n",
        "    print(f'Using full data ({df.shape[0]} rows).')"
      ]
    },
    {
      "cell_type": "code",
      "execution_count": 4,
      "metadata": {},
      "outputs": [
        {
          "name": "stdout",
          "output_type": "stream",
          "text": [
            "<class 'pandas.core.frame.DataFrame'>\n",
            "RangeIndex: 360835 entries, 0 to 360834\n",
            "Data columns (total 6 columns):\n",
            " #   Column                 Non-Null Count   Dtype \n",
            "---  ------                 --------------   ----- \n",
            " 0   comment_text           360835 non-null  object\n",
            " 1   toxic                  360835 non-null  int64 \n",
            " 2   stopwords_punct_lemma  360301 non-null  object\n",
            " 3   vector_spacy           360835 non-null  object\n",
            " 4   pos_tags               360835 non-null  object\n",
            " 5   pos_tags_str           360835 non-null  object\n",
            "dtypes: int64(1), object(5)\n",
            "memory usage: 16.5+ MB\n"
          ]
        }
      ],
      "source": [
        "df.info()"
      ]
    },
    {
      "cell_type": "markdown",
      "metadata": {},
      "source": [
        "## Create corpus"
      ]
    },
    {
      "cell_type": "code",
      "execution_count": 5,
      "metadata": {},
      "outputs": [],
      "source": [
        "corp = df['comment_text']"
      ]
    },
    {
      "cell_type": "markdown",
      "metadata": {},
      "source": [
        "## Data cleaning"
      ]
    },
    {
      "cell_type": "markdown",
      "metadata": {},
      "source": [
        "### Remove anchor HTML tags (\\<a\\>)"
      ]
    },
    {
      "cell_type": "code",
      "execution_count": 6,
      "metadata": {},
      "outputs": [
        {
          "name": "stdout",
          "output_type": "stream",
          "text": [
            "77\n"
          ]
        },
        {
          "data": {
            "text/plain": [
              "8294                                                                                                                                             You can buy from our large and diverse collection of salwar kameez, party wear suits, bollywood collection, cotton kurtis, Anarrkali suits,Bollywood saree and many other products.....\\nWe Have Some For You In Your Budget For more…\\nPlz visit:- <a href= \"http://www.dooiitt.com/\">Designer Salwar Kameez</a>\n",
              "28676                                                                                                                                                                <a href=\"http://www.newfitnessbooster.com/dermessence/\">Dermessence</a> has most essential nutrients that this formula has and that act directly and indirectly in combating again signs from the inside out. for more information please visit http://www.newfitnessbooster.com/dermessence/\n",
              "32307                                                                                                                                                  <a href=\"http://www.replicaswatchesuks.co.uk\" title=\"fake rolex watches\">fake rolex watches</a>\\n\\n<a href=\"http://www.visitdevonandcornwall.co.uk\" title=\"breitling replica\">breitling replica</a>\\n\\n<a href=\"http://www.replicawatches2u.uk.com\" title=\"swiss replica watches\">swiss replica watches</a>\n",
              "32939                                                                                                                                                                                                           Tomorrowland 2017 in clebration of this festival related all information provided in our article.\\n Like timeing,rules and regulation,weekand date.etc.\\n Plz visit:- <a href=\"http://www.dooiitt.com/category/tomorrowland/\">Tomorrowland2017</a>\n",
              "45413                 Shri Krishna Janmashtami is the Hindu festival celebrated every year on Krishna paksh ashtami of Bhadrapada month according to the Hindu calendar. The day is also known as gokulashtami, saatam aatham, rohiniashtami etc. Janmashtami is the celebration of Lord Krishna's birth that was eighth avatar of Lord Vishnu.\\nfor more\\nPlz visit:- <a href=\"http://www.dooiitt.com/category/indianfestivals/janmashtami/\">Janmashtami 2017</a>\n",
              "68125     Just amazing blog!!!! got some better opinion for <a href=\"http://www.arethajewels.com\">Fashion</a> treads because I am just 15 and really want be like so trendy when I will become of 17 or more then this so for that i have to updated on all kind Fashion and treads on going days .. so thanks a lot for sharing this such a needed information to us ,which  do really great help in collecting information in my search about Fashion and treads\n",
              "69063                                                                                                                                                                                                                                                                                                                                  yaah this is good posting for women  <a href=\"http://www.adultvibes.in/index.php?main_page=page&id=9l\">sexual</a>  feeeling\n",
              "83900                                                                                                                                    I agree with you but now a days for IT people it's a good thing for them while in search of higher salary and promotions and on similar note you can also check this <a href=\"http://careerfunda.info/3-positive-reasons-explain-frequent-job-changes/\"> career advice </a> which also be great follow in this situation.\n",
              "88607                                                                                                                                                                                     <A modernist heretic tries to school someone on Catholicism!>\\nWell, somebody has to do it.  \"Instructing the ignorant\" is one of the Spiritual Works of Mercy.  \\n\\n<Baum was a terrible theologian and a heretic himself.>\\nHow would you know? You don't have a clue.\n",
              "118344                                                                                                                                                                                                                                                                                                        Wow. cool post. I’d like to write like this too <a href=\"http://www.commonrailparts.net/common-rail-parts/common-rail-nozzle\">Common Rail Nozzle</a>\n",
              "Name: comment_text, dtype: object"
            ]
          },
          "execution_count": 6,
          "metadata": {},
          "output_type": "execute_result"
        }
      ],
      "source": [
        "regex = r'<a .*?>|</a>' # *? for non-greedy repetition\n",
        "print(corp.str.count(regex, flags=re.IGNORECASE).sum())\n",
        "corp[corp.str.contains(regex, na=False, case=False)].head(10)"
      ]
    },
    {
      "cell_type": "code",
      "execution_count": 7,
      "metadata": {},
      "outputs": [
        {
          "name": "stdout",
          "output_type": "stream",
          "text": [
            "0\n"
          ]
        }
      ],
      "source": [
        "corp = corp.str.replace(regex, '', regex=True, case=False)\n",
        "print(corp.str.count(regex, flags=re.IGNORECASE).sum())"
      ]
    },
    {
      "cell_type": "markdown",
      "metadata": {},
      "source": [
        "### Remove URLs"
      ]
    },
    {
      "cell_type": "code",
      "execution_count": 8,
      "metadata": {},
      "outputs": [
        {
          "name": "stdout",
          "output_type": "stream",
          "text": [
            "Total matches: 9725\n"
          ]
        },
        {
          "data": {
            "text/plain": [
              "3                                    We are already owed $488 M plus interest($2Billion) from 2006 audits the state has not collected.\\nhttps://www.adn.com/energy/article/oil-audit-draft/2014/11/20/\\n\\nThis amount of interest doesn't seem correct...\\n\\n'$416 million in taxes, plus another $368 million in interest between 2007 and 2009'\\n\\nWhen oil companies sued the state they wanted $100 M plus $400 M interest from 2006.\\nhttps://www.adn.com/business-economy/energy/2016/12/16/state-wins-case-against-oil-companies-worth-an-estimated-500-million/\\n\\nIs the state interest rate is much lower than the one oil companies set for us, or the legislature is letting them off with only 3 years of interest?\\n\\n \"The new law includes the unbelievable provision that after three years the companies will pay zero additional interest on delinquent taxes.\"\\nhttps://www.adn.com/opinions/2016/11/29/with-pfd-cut-on-the-line-oil-company-arguments-about-fine-points-of-tax-regs-will-backfire/\n",
              "65                                                                                                                                                                                                                                                                       http://hedgeclippers.org\\nWHO ARE THE HEDGE CLIPPERS?\\nWhistleblowers for Working People  \\n\\nInstead of draining the swamp, Donald Trump brought it into the White House. Members of Trump’s inner circle include Wall Street billionaires with a history of destroying jobs, harming working people, and protecting the wealthiest Americans at everyone else’s expense. Hedge Clippers unites organizations and movements to cut through Trump’s swamp, and blow the whistle on Trump’s advisors who put their own financial gain before the public good. We’re giving Americans the tools and infrastructure to fight, and win, a multi-year battle against Trump’s agenda in Washington, and in states, cities, and towns across America.\n",
              "75                                                                                                                                                                           WATCH KIRK CALDWELL LIE ON YOU TUBE DEBATE!! This will show you all how much kirk lies! On the link below as he debates with Ben he talks about how bad Ben is for going down Kapiolani messing up all the monkey pod trees! Now this hippocrite and Hart has plans to go down kapiolani destroying the trees !' Well where is the mayor why dont he do a press conference condeming them going down kapiolani destroying trees.. ?? Why because lies and GGP and his pal jennifer Sabas and all his ala moana friends dont want it going down Kona street and how would they know to build the parking lot blocking the path unless they knew the route was going to change.. \\nGo to 11:17. And watch lying kirk .. rail now going down kapiolani!! \\nhttps://m.youtube.com/watch?v=eIPTPIx3wtw\\nWhat now lex or keala whats his excuse?\n",
              "91                                                                                                                                                                                                                                                                                                                                                                                                                                                                                                                                                                                                                                                                                                                                                                                                                              Pushing the costs on to others while keeping the profits. the continuing bad idea of gmos.... .http://www.oregonlive.com/business/index.ssf/2017/01/grass_seed_industry_fearful_ab.html\n",
              "100                  More comprehensive with better nuance specific to US Prosperity Gospel movements:\\n\\nhttps://en.wikipedia.org/wiki/Prosperity_theology\\n\\n teachers of prosperity theology usually draw attention to its descriptions of physical wealth. Frequently quoted verses include:\\nMalachi 3:10: \"Bring to the storehouse a full tenth of what you earn so there will be food in my house. Test me in this,\" says the Lord All-Powerful. \"I will open the windows of heaven for you and pour out all the blessings you need\" \\nMatthew 25:14–30: the Parable of the talents\\nJohn 10:10: \"I am come that they might have life, and that they might have it more abundantly\" \\nPhilippians 4:19: \"My God shall supply all your need according to his riches in glory by Christ Jesus\" \\n Prosperity theology casts itself as the reclamation of true doctrine and thus part of a path to Christian dominion over secular society  Prosperity churches place a strong emphasis on the importance of giving\n",
              "150                                                                                                                                                                                                                                                                                                                                                                                                                                                                                                                                                                                                                  Disabled people did not get beat up.  That is a lie.\\nExercising their free speech rights does not include criminal trespass. That is ignorance.  \\nAssuming/accusing someone you do not know of sadism is delusional. Such close-mindedness is textbook fascism. \\nSo, you are an ignorant, lying, Fascist.  Deal with it.  \\nhttp://www.youngcons.com/the-12-unspoken-rules-for-being-a-liberal/\n",
              "179                                                                                                                                                                                                                                                                                                                                                                                                                                                                                                                                                                                                                                                                                                                                                                                   And way too many priests and bishops do not want to offend these people, whose median income is higher than that of Clinton voters.  https://www.theguardian.com/us-news/2016/nov/09/white-voters-victory-donald-trump-exit-polls\n",
              "196    Yes, Leo, the discussion of propaganda messages by elites to extract tribute are well worth having.  Those large, complex civilizations didn't collapse because the common people paid tribute, but because the elites demanded too much.  It's not at all different from what we see in today's world.  The elites have always crashed civilization. . . . unless it was a super volcano.\\n\\nI'm not really a \"fan\" of civilization, but I doubt there's any going back.  If government and people collectively will not pay for what is needed, who does?  If you know anything about electromagnetic weaponry, which is very real and operational at this moment, you'll be able to deduce how close we are to collapse ourselves.  \\n\\n\"According to Obama the World is \"Safer\" Sitting On Top Of the Bomb\".\\n\\nhttp://www.voltairenet.org/article187267.html\\n\\n\\n“I know not with what weapons World War III will be fought, but World War IV will be fought with sticks and stones.”\\n\\n― Albert Einstein\n",
              "214                                                                                                                                                                                                                                                                                                                                                                                                                                                                                                                                                                                                                                        Well if they are made to feel unwelcome, that's a plus. Enough with making feminist poster girls out of practitioners of the most oppressive patriarchal religious beliefs ever devised by *man*.\\n\\nWhat feminists should be celebrating is women like Henda Ayari:\\n\\nhttps://www.nytimes.com/2017/11/03/world/europe/henda-ayari-tariq-ramadan-oxford-muslim-scholar.html\n",
              "326                                                         \"handicapping the Legislature and hamstringing the governor\"\\n\\nSeriously?  The budget 'crisis' of their own making hasn't hurt them one bit.  They still get all of their perks, bought themselves two LIOs, still have their boondoggles, still giving away our oil revenue and tax credits from our savings.  Walker has been hiring gas line executives at huge salaries, spent $10 million to open a gas marketing office in Houston, Texas.\\n\\nThen they cut troopers to hurt us.  They want to force us to give them our PFD. \\n\\nThey assume that people have not been paying attention and will believe their propaganda, playing victim to oil prices when they are the criminals that passed legislation to give our revenue away.\\n\\nalso see: ConocoPhillips employees steer Alaska oil tax cut bill through Legislature \\nhttps://www.adn.com/politics/article/series-conoco-employees-help-ease-oil-tax-bill-through-legislature/2013/03/28/\n",
              "Name: comment_text, dtype: object"
            ]
          },
          "execution_count": 8,
          "metadata": {},
          "output_type": "execute_result"
        }
      ],
      "source": [
        "regex = r'https?://\\S+'\n",
        "print('Total matches:',\n",
        "      corp.str.count(regex, flags=re.IGNORECASE).sum())\n",
        "corp[corp.str.contains(regex, na=False, case=False)].head(10)"
      ]
    },
    {
      "cell_type": "code",
      "execution_count": 9,
      "metadata": {},
      "outputs": [
        {
          "name": "stdout",
          "output_type": "stream",
          "text": [
            "Total matches after: 0\n"
          ]
        }
      ],
      "source": [
        "corp = corp.str.replace(regex, '', regex=True, case=False)\n",
        "print('Total matches after:',\n",
        "      corp.str.count(regex, flags=re.IGNORECASE).sum())"
      ]
    },
    {
      "cell_type": "markdown",
      "metadata": {},
      "source": [
        "### Remove newlines (\\n), carriage returns (\\r), unicode line separators (U+2028)\n",
        "\n",
        "\\r actually causes an error when trying to load the saved csv file with read_csv()"
      ]
    },
    {
      "cell_type": "code",
      "execution_count": 10,
      "metadata": {},
      "outputs": [
        {
          "name": "stdout",
          "output_type": "stream",
          "text": [
            "Total matches: 392196\n"
          ]
        },
        {
          "data": {
            "text/plain": [
              "1                                                                                                                                                                                                                                                                                                                                                                            The moment of critical mass is approaching when the deeds of Gupta & Co, like huge turbine engines slow down, halt and the reverse direction of the wheels of justice are set in motion leaving no hiding room.\\n\\n‘...unintended consequences’…. uneasy sleep ahead for many.\n",
              "2                                                                                                                                                                                                                                                                                                                                                                                                                                                  \"Hey listen to me,\" he said. \"I'm not going to put up with your crap about all this.\" He shouldn't have to prove himself to a reporter, he said.\\n\\nUh, actually Ben, you do.  And you didn't.  Buh-bye.\n",
              "3     We are already owed $488 M plus interest($2Billion) from 2006 audits the state has not collected.\\n\\n\\nThis amount of interest doesn't seem correct...\\n\\n'$416 million in taxes, plus another $368 million in interest between 2007 and 2009'\\n\\nWhen oil companies sued the state they wanted $100 M plus $400 M interest from 2006.\\n\\n\\nIs the state interest rate is much lower than the one oil companies set for us, or the legislature is letting them off with only 3 years of interest?\\n\\n \"The new law includes the unbelievable provision that after three years the companies will pay zero additional interest on delinquent taxes.\"\\n\n",
              "4                                                                                                                                                                                                                                                                                                                                                                                                            There is a reason there are no teeth to the law. It is an unlawful law. There is no way anyone can be forced to give someone else free electricity. Not yet at least.\\n\\nYou want to be green , pay for it yourself like every body else must.\n",
              "7                                                                                                                                                                                                                                                                                                     I think it's clear where this debate is headed in light of Minister Joly's response to the Conservative's motion was that the very motion proposed by the conservatives was islamaphobic.  Case closed.\\n\\nSo any objection, counter thought, difference of opinion, etc is now a sign of islamaphobia?  Best keep your mouth shut and move on I say.\n",
              "9                                                                                                                                                                                                                                                                                                                    Why leave my basement? It's 1800 square feet with full bar stocked with Guinness, Old Speckled Hen., some Gibsons and a modest amount of wine.  Movie theater, spare guest room and full bath, gym, office, spacious utility room laundry. Big popcorn maker, hot dog cooker, and a really neat margarita maker. \\nHow's your trailer?\n",
              "15                                                                                                                                                                                 Kept us tied to it? If you want to thank them for anything, thank them for not taking every last dime out of you pocket to finance Solyndra and all the other idiotic schemes global warming has produced. And just for the record, this is a wild fire, not an oil fire. And in closing, do you think solar powered cars would well in a smoke screen?\\nCom'on Frank, I don't care that you hate all things conservative, but put some effort into your complaints huh?\n",
              "18                                                                                                                                                                                                                                                                                                                                                                                                                                                                                                         Obstruction at its highest level. Still can't accept the POTUS lost!\\nWhat a bunch of highly educated elitist morons....If that makes any sense!\n",
              "19                                                                                                                                                                                                                                                            As if the Russians, mired in their own continuous, mobster-controlled economic collapse, \"unauthorized entrepreneurs\" hocking unaccounted-for nuclear weapons (we may see them again), a rising fascist/nationalist movement and a host of other nightmarish catastrophes in-the-making, care enough about our own self-inflicted slide into oblivion to even pay attention it.\\n\\nBozhe moi.\n",
              "20                                                                                                                                                                                                                                                                                                                                                                                                                            I'm being silly but you're being really on it? wow. That's good. \\n\\n\\nI'm not asking anyone to give up anything. I just questioned your statement, \"btw...how do you propose to persuade if not by use of monetary support?\"\n",
              "Name: comment_text, dtype: object"
            ]
          },
          "execution_count": 10,
          "metadata": {},
          "output_type": "execute_result"
        }
      ],
      "source": [
        "regex = r'\\n'\n",
        "print('Total matches:',\n",
        "      corp.str.count(regex, flags=re.IGNORECASE).sum())\n",
        "corp[corp.str.contains(regex, na=False, case=False)].head(10)"
      ]
    },
    {
      "cell_type": "code",
      "execution_count": 11,
      "metadata": {},
      "outputs": [
        {
          "name": "stdout",
          "output_type": "stream",
          "text": [
            "Total matches after: 0\n"
          ]
        }
      ],
      "source": [
        "corp = corp.str.replace(regex, ' ', regex=True, case=False)\n",
        "print('Total matches after:',\n",
        "      corp.str.count(regex, flags=re.IGNORECASE).sum())"
      ]
    },
    {
      "cell_type": "code",
      "execution_count": null,
      "metadata": {},
      "outputs": [],
      "source": [
        "regex = r'\\r'\n",
        "print('Before:', corp.str.count(regex, flags=re.IGNORECASE).sum())\n",
        "corp = corp.str.replace(regex, ' ', regex=True, case=False)\n",
        "print('After:', corp.str.count(regex, flags=re.IGNORECASE).sum())"
      ]
    },
    {
      "cell_type": "code",
      "execution_count": null,
      "metadata": {},
      "outputs": [],
      "source": [
        "regex = r'\\u2028'\n",
        "print('Before:', corp.str.count(regex, flags=re.IGNORECASE).sum())\n",
        "corp = corp.str.replace(regex, ' ', regex=True, case=False)\n",
        "print('After:', corp.str.count(regex, flags=re.IGNORECASE).sum())"
      ]
    },
    {
      "cell_type": "markdown",
      "metadata": {},
      "source": [
        "### Remove numbers"
      ]
    },
    {
      "cell_type": "code",
      "execution_count": 12,
      "metadata": {},
      "outputs": [
        {
          "name": "stdout",
          "output_type": "stream",
          "text": [
            "168643\n"
          ]
        },
        {
          "data": {
            "text/plain": [
              "3                                                                                                                                                                                                                                                                                                                                                                                      We are already owed $488 M plus interest($2Billion) from 2006 audits the state has not collected.   This amount of interest doesn't seem correct...  '$416 million in taxes, plus another $368 million in interest between 2007 and 2009'  When oil companies sued the state they wanted $100 M plus $400 M interest from 2006.   Is the state interest rate is much lower than the one oil companies set for us, or the legislature is letting them off with only 3 years of interest?   \"The new law includes the unbelievable provision that after three years the companies will pay zero additional interest on delinquent taxes.\" \n",
              "9                                                                                                                                                                                                                                                                                                                                                                                                                                                                                                                                                                                                                                                                                         Why leave my basement? It's 1800 square feet with full bar stocked with Guinness, Old Speckled Hen., some Gibsons and a modest amount of wine.  Movie theater, spare guest room and full bath, gym, office, spacious utility room laundry. Big popcorn maker, hot dog cooker, and a really neat margarita maker.  How's your trailer?\n",
              "24                                                                                                                                                                                                                                                                                                                                                                                                                                                                                                                                                                                                                                                                                                                                                                                                           Survey tell us 60% of Muslims in Europe want separate sharia law for themselves, and 40% believe killing infidels is justified if the Prophet Mohammad is insulted.  Lone wolf terrorists have many friends. @; (>\n",
              "42                                                                                                                                                                                                                                                                                                                                                                                                                                                                         You know you're being lied to when someone takes a brief peak, like the cost of power on the open market in 2008, and uses that as the point of comparison for how far things have gone down. Power prices fluctuate. If EWEB thought the peak would be the price forever, that in itself makes a compelling case for mismanagement. Add in that another board member has already apologized for the Seneca dirty power fiasco, and I don't trust John Simpson in the slightest way.  If he thinks EWEB is doing a great job, he's almost all alone.\n",
              "52                                                                                                                                                                                                                                                                                                                                                                                                                                                                                                                                                                                                                                                                 And now it begins.  Look for the shuffling of money from different budgets into Rail.  10K here, 100K there and a couple of million from over there.  The tax rate won't change - for now.   But other services and capital spending will get hit. The roads will get repaved at a slower rate. The parks will get cleaned up even less often than now, etc.\n",
              "53                                                                                                                                                                                                                                                                                                                                                                                  Windsor would ONLY make sense if it was connected across the Detroit river to Michigan and all way to Chicago. It would have to operate at 250-300+ kph to make that distance competitive with planes. But if there is no desire to connect to a US high speed network, then at best it should go as far as KW/Guelph and instead go to Ottawa/MTL and on to New York state.  Windsor or even London is silly with no onward connection. And from the outset it needs to be 250-300+ kph for the entire length in order to be competitive timewise with planes. 200 is not fast enough. MTL-TO in 2-2.5 hrs is MAX with a stop in Kingston.\n",
              "55                                                                                                                                                                                                                                                                                                                                                                                                                                                                                                                                                                                                                                                                                                            Additionally, if you are benefiting from a $21k medical deduction, your AGI is under $200k.  If you do the math (and I did) you also benefit from the recalculated tax brackets whether your income is $50k, $100k or $150k.  So your specific situation benefits in multiple ways from the proposed tax changes.\n",
              "57                                                                                                                                                                                                                                                                                                                                                                                                                                                                                                                                                                                                                                                                                                                                                                                                                                                                                                                                                        ISIS cowards use civilians as shields. For instance, the mother of 4.\n",
              "62                                                                                                                                                                                                                                                                                                                                                                                                                                                                                                                                                                                                                                                                                                    you used the word \"imply\" that's your opinion, how you think he meant to use the word. The losers are always looking for a chance to crack/disrupt.   As to what TheDonald has done in only 50+ days in office compared to what Barry has inked in History, now? You'll eat \"crow\" soon as to what TheDonald will do! lol\n",
              "70    \"....folks are either incredibly inept....\" Actually, as everyone should know, the police are adept at only one thing, cleaning up the carnage after the act. My \"primary\" point in my OP and responses is, that people, willy nilly, drawing their weapons without recognition of a \"clear and present danger\" is NOT anything any responsible self-defense agency would be teaching about an \"active shooter\" situation. Too many people think by going armed they are \"prepared,\" NOT! I have over 55 years experience with firearms, 20 of those in the Marine Corps, some in armed security. Anywhere I am & some \"active shooter\" emerges, my 1st response is to assess my/our endangerment, not immediate, I seek to exit, if an exit is not available, I will be seeking cover/concealment, I WILL NOT have a weapon exposed unless I/mine are in IMMEDIATE danger! There are a myriad other elements that anybody thinking to go ARMED should have knowledge of. Start on Youtube and search DHS Active Shooter.\n",
              "Name: comment_text, dtype: object"
            ]
          },
          "execution_count": 12,
          "metadata": {},
          "output_type": "execute_result"
        }
      ],
      "source": [
        "regex = r'\\d+'\n",
        "print(corp.str.count(regex, flags=re.IGNORECASE).sum())\n",
        "corp[corp.str.contains(regex, na=False, case=False)].head(10)"
      ]
    },
    {
      "cell_type": "code",
      "execution_count": 13,
      "metadata": {},
      "outputs": [
        {
          "name": "stdout",
          "output_type": "stream",
          "text": [
            "0\n"
          ]
        }
      ],
      "source": [
        "corp = corp.str.replace(regex, '_number_', regex=True, case=False)\n",
        "print(corp.str.count(regex, flags=re.IGNORECASE).sum())"
      ]
    },
    {
      "cell_type": "markdown",
      "metadata": {},
      "source": [
        "### \"Unmask\" morst frequent swearwords, insults etc. (e.g. f*ck, cr@p)\n",
        "\n",
        "Also correct some (on-purpose) misspellings that reflect pronunciation, e.g. \"huuuge\", \"stooopid\"."
      ]
    },
    {
      "cell_type": "code",
      "execution_count": 14,
      "metadata": {},
      "outputs": [
        {
          "name": "stdout",
          "output_type": "stream",
          "text": [
            "3961\n"
          ]
        },
        {
          "data": {
            "text/plain": [
              "comment_text\n",
              "[]              357614\n",
              "[sh*t]              77\n",
              "[***]               49\n",
              "[a**]               44\n",
              "[****]              36\n",
              "[s**t]              32\n",
              "[*****]             31\n",
              "[f***]              27\n",
              "[p***y]             25\n",
              "[f**k]              23\n",
              "[p*ssy]             19\n",
              "[p****]             19\n",
              "[a**.]              17\n",
              "[s***]              17\n",
              "[h*ll]              16\n",
              "[F***]              16\n",
              "[*is*]              14\n",
              "[h***]              12\n",
              "[*any*]             12\n",
              "[sh*t.]             12\n",
              "[pu**y]             11\n",
              "[sh**]              11\n",
              "[cr*p]              11\n",
              "[*not*]             11\n",
              "[F*ck]              10\n",
              "[*sigh*]            10\n",
              "[f***ing]           10\n",
              "[***, ***]           9\n",
              "[*are*]              9\n",
              "[s**t.]              9\n",
              "[****, ****]         9\n",
              "[**]                 9\n",
              "[*&^%]               9\n",
              "[*some*]             8\n",
              "[*could*]            8\n",
              "[b*tch]              8\n",
              "[*lol*]              8\n",
              "[*you*]              8\n",
              "[*ss]                8\n",
              "[a**es]              8\n",
              "[*only*]             8\n",
              "[f*ck]               8\n",
              "[a**hole]            7\n",
              "[*I]                 7\n",
              "[*did*]              7\n",
              "[f*cking]            7\n",
              "[bullsh*t]           7\n",
              "[****ing]            7\n",
              "[d*mn]               6\n",
              "[\"F***]              6\n",
              "Name: count, dtype: int64"
            ]
          },
          "execution_count": 14,
          "metadata": {},
          "output_type": "execute_result"
        }
      ],
      "source": [
        "# search patterns used to create list of replacements (see next cell)\n",
        "\n",
        "regex = r'\\S*\\*\\S+'\n",
        "#regex = r'\\S*@\\S+'\n",
        "#regex = r'\\S*#\\S+'\n",
        "#regex = r'\\S*a{3,}\\S*'\n",
        "#egex = r'\\S*e{3,}\\S*'\n",
        "#regex = r'\\S*i{3,}\\S*'\n",
        "#regex = r'\\S*o{3,}\\S*'\n",
        "#regex = r'\\S*u{3,}\\S*'\n",
        "\n",
        "print(corp.str.count(regex, flags=re.IGNORECASE).sum())\n",
        "corp.str.findall(regex, flags=re.IGNORECASE).value_counts().head(50)"
      ]
    },
    {
      "cell_type": "code",
      "execution_count": 15,
      "metadata": {},
      "outputs": [],
      "source": [
        "match_list = '(?i)f*ck, (?i)sh*t, (?i)s**t, (?i)f***, (?i)p***y, (?i)b*tch, (?i)f**k, (?i)p*ssy, (?i)p****, (?i)s***, (?i)a**, (?i)h*ll, (?i)h***, (?i)sh*t, (?i)pu**y, (?i)sh**, (?i)cr*p, (?i)@ss, (?i)cr@p, (?i)b@lls, (?i)f@ck, (?i)waaay, (?i)waaaay, (?i)riiiight, (?i)soo+, (?i)stooooopid, (?i)huu+ge, (?i)yuu+ge, (?i)suu+re'\\\n",
        "    .replace('*', r'\\*').split(', ')\n",
        "replace_list = 'fuck, shit, shit, fuck, pussy, bitch, fuck, pussy, pussy, shit, ass, hell, hell, shit, pussy, shit, crap, ass, crap, balls, fuck, way, way, right, so, stupid, huge, huge, sure'\\\n",
        "    .split(', ')\n",
        "\n",
        "corp.replace(match_list, replace_list, regex=True, inplace=True)"
      ]
    },
    {
      "cell_type": "markdown",
      "metadata": {},
      "source": [
        "### Remove multiple spaces"
      ]
    },
    {
      "cell_type": "code",
      "execution_count": 16,
      "metadata": {},
      "outputs": [
        {
          "name": "stdout",
          "output_type": "stream",
          "text": [
            "496937\n"
          ]
        },
        {
          "data": {
            "text/plain": [
              "1                                                                                                                                                                                                                                                                                                                                                                                                                       The moment of critical mass is approaching when the deeds of Gupta & Co, like huge turbine engines slow down, halt and the reverse direction of the wheels of justice are set in motion leaving no hiding room.  ‘...unintended consequences’…. uneasy sleep ahead for many.\n",
              "2                                                                                                                                                                                                                                                                                                                                                                                                                                                                                             \"Hey listen to me,\" he said. \"I'm not going to put up with your crap about all this.\" He shouldn't have to prove himself to a reporter, he said.  Uh, actually Ben, you do.  And you didn't.  Buh-bye.\n",
              "3    We are already owed $_number_ M plus interest($_number_Billion) from _number_ audits the state has not collected.   This amount of interest doesn't seem correct...  '$_number_ million in taxes, plus another $_number_ million in interest between _number_ and _number_'  When oil companies sued the state they wanted $_number_ M plus $_number_ M interest from _number_.   Is the state interest rate is much lower than the one oil companies set for us, or the legislature is letting them off with only _number_ years of interest?   \"The new law includes the unbelievable provision that after three years the companies will pay zero additional interest on delinquent taxes.\" \n",
              "4                                                                                                                                                                                                                                                                                                                                                                                                                                                       There is a reason there are no teeth to the law. It is an unlawful law. There is no way anyone can be forced to give someone else free electricity. Not yet at least.  You want to be green , pay for it yourself like every body else must.\n",
              "7                                                                                                                                                                                                                                                                                                                                                I think it's clear where this debate is headed in light of Minister Joly's response to the Conservative's motion was that the very motion proposed by the conservatives was islamaphobic.  Case closed.  So any objection, counter thought, difference of opinion, etc is now a sign of islamaphobia?  Best keep your mouth shut and move on I say.\n",
              "Name: comment_text, dtype: object"
            ]
          },
          "execution_count": 16,
          "metadata": {},
          "output_type": "execute_result"
        }
      ],
      "source": [
        "regex = r' {2,}'\n",
        "print(corp.str.count(regex, flags=re.IGNORECASE).sum())\n",
        "corp[corp.str.contains(regex, na=False, case=False)].head()"
      ]
    },
    {
      "cell_type": "code",
      "execution_count": 17,
      "metadata": {},
      "outputs": [
        {
          "name": "stdout",
          "output_type": "stream",
          "text": [
            "0\n"
          ]
        }
      ],
      "source": [
        "corp = corp.str.replace(regex, ' ', regex=True, case=False)\n",
        "print(corp.str.count(regex, flags=re.IGNORECASE).sum())"
      ]
    },
    {
      "cell_type": "markdown",
      "metadata": {},
      "source": [
        "## Preprocess data\n",
        "\n",
        "Remove stopwords and punctuation, then lemmatize. Code copied from Data_preprocess_Eric.ipynb."
      ]
    },
    {
      "cell_type": "code",
      "execution_count": 18,
      "metadata": {},
      "outputs": [],
      "source": [
        "# load English language model\n",
        "nlp = spacy.load('en_core_web_sm')\n",
        "\n",
        "# function that returns list of lemmatized tokens with stop words and\n",
        "# punctuation marks removed\n",
        "def preprocess(text):\n",
        "    doc = nlp(text) # tokenize\n",
        "\n",
        "    final_tokens = []\n",
        "\n",
        "    for token in doc:\n",
        "        if token.is_stop or token.is_punct:\n",
        "           continue # skip punctuation marks and stop words\n",
        "        final_tokens.append(token.lemma_) # lemmatize token\n",
        "\n",
        "    return \" \".join(final_tokens) # convert list to space-separated string"
      ]
    },
    {
      "cell_type": "code",
      "execution_count": 19,
      "metadata": {},
      "outputs": [
        {
          "data": {
            "text/plain": [
              "0                                                                                                                                                                                                                                                                                                                                                                                        chance turn active proponent slavery\n",
              "1                                                                                                                                                                                                                                       moment critical mass approach deed Gupta Co like huge turbine engine slow halt reverse direction wheel justice set motion leave hiding room unintended consequence uneasy sleep ahead\n",
              "2                                                                                                                                                                                                                                                                                                                                                           hey listen say go crap prove reporter say uh actually Ben Buh bye\n",
              "3         owe $ number M plus interest($_number_Billion number audits state collect interest correct $ number million taxis plus $ number million interest number number oil company sue state want $ number m plus $ number m interest number state interest rate low oil company set legislature let number year interest new law include unbelievable provision year company pay zero additional interest delinquent taxis\n",
              "4                                                                                                                                                                                                                                                                                                                                           reason tooth law unlawful law way force free electricity want green pay like body\n",
              "                                                                                                                                                                                                                 ...                                                                                                                                                                                                         \n",
              "360830                                                                                                                                                                                                                                                                                                                                                                                              beat wife simple question\n",
              "360831                                                                                                                                                                                                                                                                                              fascist dictator continue insanity human civil right National Security State purview Hitler Stalin Mao Pol Pot ad nauseum\n",
              "360832                                                                                                                                                                                                                                                                                                                                       Sean Hannity lightweight foolish commentator Fox News head try act tough big boy\n",
              "360833                                                                                                                                                                                                                                                                                                                    number country impossible national citizenship new Cdn citizen want citizenship country origin able\n",
              "360834                                                                                                                                                                                                                                                                                                                                                                                     datum strategy track foreign buyer\n",
              "Name: comment_text, Length: 360835, dtype: object"
            ]
          },
          "execution_count": 19,
          "metadata": {},
          "output_type": "execute_result"
        }
      ],
      "source": [
        "corp_pp = corp.apply(lambda comment: preprocess(comment))\n",
        "corp_pp"
      ]
    },
    {
      "cell_type": "markdown",
      "metadata": {},
      "source": [
        "## Create new df with cleaned + preprocessed comments + target"
      ]
    },
    {
      "cell_type": "code",
      "execution_count": 47,
      "metadata": {},
      "outputs": [
        {
          "data": {
            "text/html": [
              "<div>\n",
              "<style scoped>\n",
              "    .dataframe tbody tr th:only-of-type {\n",
              "        vertical-align: middle;\n",
              "    }\n",
              "\n",
              "    .dataframe tbody tr th {\n",
              "        vertical-align: top;\n",
              "    }\n",
              "\n",
              "    .dataframe thead th {\n",
              "        text-align: right;\n",
              "    }\n",
              "</style>\n",
              "<table border=\"1\" class=\"dataframe\">\n",
              "  <thead>\n",
              "    <tr style=\"text-align: right;\">\n",
              "      <th></th>\n",
              "      <th>comment_clean</th>\n",
              "      <th>comment_clean_preproc</th>\n",
              "      <th>toxic</th>\n",
              "    </tr>\n",
              "  </thead>\n",
              "  <tbody>\n",
              "    <tr>\n",
              "      <th>0</th>\n",
              "      <td>Well, what are the chances he will turn out to have been an active proponent of slavery?</td>\n",
              "      <td>chance turn active proponent slavery</td>\n",
              "      <td>0</td>\n",
              "    </tr>\n",
              "    <tr>\n",
              "      <th>1</th>\n",
              "      <td>The moment of critical mass is approaching when the deeds of Gupta &amp; Co, like huge turbine engines slow down, halt and the reverse direction of the wheels of justice are set in motion leaving no hiding room. ‘...unintended consequences’…. uneasy sleep ahead for many.</td>\n",
              "      <td>moment critical mass approach deed Gupta Co like huge turbine engine slow halt reverse direction wheel justice set motion leave hiding room unintended consequence uneasy sleep ahead</td>\n",
              "      <td>0</td>\n",
              "    </tr>\n",
              "    <tr>\n",
              "      <th>2</th>\n",
              "      <td>\"Hey listen to me,\" he said. \"I'm not going to put up with your crap about all this.\" He shouldn't have to prove himself to a reporter, he said. Uh, actually Ben, you do. And you didn't. Buh-bye.</td>\n",
              "      <td>hey listen say go crap prove reporter say uh actually Ben Buh bye</td>\n",
              "      <td>1</td>\n",
              "    </tr>\n",
              "    <tr>\n",
              "      <th>3</th>\n",
              "      <td>We are already owed $_number_ M plus interest($_number_Billion) from _number_ audits the state has not collected. This amount of interest doesn't seem correct... '$_number_ million in taxes, plus another $_number_ million in interest between _number_ and _number_' When oil companies sued the state they wanted $_number_ M plus $_number_ M interest from _number_. Is the state interest rate is much lower than the one oil companies set for us, or the legislature is letting them off with only _number_ years of interest? \"The new law includes the unbelievable provision that after three years the companies will pay zero additional interest on delinquent taxes.\"</td>\n",
              "      <td>owe $ number M plus interest($_number_Billion number audits state collect interest correct $ number million taxis plus $ number million interest number number oil company sue state want $ number m plus $ number m interest number state interest rate low oil company set legislature let number year interest new law include unbelievable provision year company pay zero additional interest delinquent taxis</td>\n",
              "      <td>0</td>\n",
              "    </tr>\n",
              "    <tr>\n",
              "      <th>4</th>\n",
              "      <td>There is a reason there are no teeth to the law. It is an unlawful law. There is no way anyone can be forced to give someone else free electricity. Not yet at least. You want to be green , pay for it yourself like every body else must.</td>\n",
              "      <td>reason tooth law unlawful law way force free electricity want green pay like body</td>\n",
              "      <td>0</td>\n",
              "    </tr>\n",
              "    <tr>\n",
              "      <th>...</th>\n",
              "      <td>...</td>\n",
              "      <td>...</td>\n",
              "      <td>...</td>\n",
              "    </tr>\n",
              "    <tr>\n",
              "      <th>360830</th>\n",
              "      <td>Do you still beat your wife? Simple question.</td>\n",
              "      <td>beat wife simple question</td>\n",
              "      <td>0</td>\n",
              "    </tr>\n",
              "    <tr>\n",
              "      <th>360831</th>\n",
              "      <td>The fascist dictator continues the insanity against all human and civil rights by the National Security State formerly the purview of Hitler, Stalin, Mao, Pol Pot, ad nauseum.</td>\n",
              "      <td>fascist dictator continue insanity human civil right National Security State purview Hitler Stalin Mao Pol Pot ad nauseum</td>\n",
              "      <td>1</td>\n",
              "    </tr>\n",
              "    <tr>\n",
              "      <th>360832</th>\n",
              "      <td>Sean Hannity is a lightweight foolish commentator on Fox News. He is in over his head in trying to act tough with the big boys.</td>\n",
              "      <td>Sean Hannity lightweight foolish commentator Fox News head try act tough big boy</td>\n",
              "      <td>0</td>\n",
              "    </tr>\n",
              "    <tr>\n",
              "      <th>360833</th>\n",
              "      <td>There are a number of countries which make it impossible for their nationals to give up citizenship. Even if a new Cdn citizen wanted to give up their citizenship in their country of origin they may not be able to.</td>\n",
              "      <td>number country impossible national citizenship new Cdn citizen want citizenship country origin able</td>\n",
              "      <td>0</td>\n",
              "    </tr>\n",
              "    <tr>\n",
              "      <th>360834</th>\n",
              "      <td>Where's data strategy to track % of foreign buyers?</td>\n",
              "      <td>datum strategy track foreign buyer</td>\n",
              "      <td>0</td>\n",
              "    </tr>\n",
              "  </tbody>\n",
              "</table>\n",
              "<p>360835 rows × 3 columns</p>\n",
              "</div>"
            ],
            "text/plain": [
              "                                                                                                                                                                                                                                                                                                                                                                                                                                                                                                                                                                                                                                                                                  comment_clean  \\\n",
              "0                                                                                                                                                                                                                                                                                                                                                                                                                                                                                                                                                                                                      Well, what are the chances he will turn out to have been an active proponent of slavery?   \n",
              "1                                                                                                                                                                                                                                                                                                                                                                                                                   The moment of critical mass is approaching when the deeds of Gupta & Co, like huge turbine engines slow down, halt and the reverse direction of the wheels of justice are set in motion leaving no hiding room. ‘...unintended consequences’…. uneasy sleep ahead for many.   \n",
              "2                                                                                                                                                                                                                                                                                                                                                                                                                                                                                           \"Hey listen to me,\" he said. \"I'm not going to put up with your crap about all this.\" He shouldn't have to prove himself to a reporter, he said. Uh, actually Ben, you do. And you didn't. Buh-bye.   \n",
              "3       We are already owed $_number_ M plus interest($_number_Billion) from _number_ audits the state has not collected. This amount of interest doesn't seem correct... '$_number_ million in taxes, plus another $_number_ million in interest between _number_ and _number_' When oil companies sued the state they wanted $_number_ M plus $_number_ M interest from _number_. Is the state interest rate is much lower than the one oil companies set for us, or the legislature is letting them off with only _number_ years of interest? \"The new law includes the unbelievable provision that after three years the companies will pay zero additional interest on delinquent taxes.\"    \n",
              "4                                                                                                                                                                                                                                                                                                                                                                                                                                                   There is a reason there are no teeth to the law. It is an unlawful law. There is no way anyone can be forced to give someone else free electricity. Not yet at least. You want to be green , pay for it yourself like every body else must.   \n",
              "...                                                                                                                                                                                                                                                                                                                                                                                                                                                                                                                                                                                                                                                                                         ...   \n",
              "360830                                                                                                                                                                                                                                                                                                                                                                                                                                                                                                                                                                                                                                            Do you still beat your wife? Simple question.   \n",
              "360831                                                                                                                                                                                                                                                                                                                                                                                                                                                                                                          The fascist dictator continues the insanity against all human and civil rights by the National Security State formerly the purview of Hitler, Stalin, Mao, Pol Pot, ad nauseum.   \n",
              "360832                                                                                                                                                                                                                                                                                                                                                                                                                                                                                                                                                          Sean Hannity is a lightweight foolish commentator on Fox News. He is in over his head in trying to act tough with the big boys.   \n",
              "360833                                                                                                                                                                                                                                                                                                                                                                                                                                                                   There are a number of countries which make it impossible for their nationals to give up citizenship. Even if a new Cdn citizen wanted to give up their citizenship in their country of origin they may not be able to.   \n",
              "360834                                                                                                                                                                                                                                                                                                                                                                                                                                                                                                                                                                                                                                      Where's data strategy to track % of foreign buyers?   \n",
              "\n",
              "                                                                                                                                                                                                                                                                                                                                                                                                      comment_clean_preproc  \\\n",
              "0                                                                                                                                                                                                                                                                                                                                                                                      chance turn active proponent slavery   \n",
              "1                                                                                                                                                                                                                                     moment critical mass approach deed Gupta Co like huge turbine engine slow halt reverse direction wheel justice set motion leave hiding room unintended consequence uneasy sleep ahead   \n",
              "2                                                                                                                                                                                                                                                                                                                                                         hey listen say go crap prove reporter say uh actually Ben Buh bye   \n",
              "3       owe $ number M plus interest($_number_Billion number audits state collect interest correct $ number million taxis plus $ number million interest number number oil company sue state want $ number m plus $ number m interest number state interest rate low oil company set legislature let number year interest new law include unbelievable provision year company pay zero additional interest delinquent taxis   \n",
              "4                                                                                                                                                                                                                                                                                                                                         reason tooth law unlawful law way force free electricity want green pay like body   \n",
              "...                                                                                                                                                                                                                                                                                                                                                                                                                     ...   \n",
              "360830                                                                                                                                                                                                                                                                                                                                                                                            beat wife simple question   \n",
              "360831                                                                                                                                                                                                                                                                                            fascist dictator continue insanity human civil right National Security State purview Hitler Stalin Mao Pol Pot ad nauseum   \n",
              "360832                                                                                                                                                                                                                                                                                                                                     Sean Hannity lightweight foolish commentator Fox News head try act tough big boy   \n",
              "360833                                                                                                                                                                                                                                                                                                                  number country impossible national citizenship new Cdn citizen want citizenship country origin able   \n",
              "360834                                                                                                                                                                                                                                                                                                                                                                                   datum strategy track foreign buyer   \n",
              "\n",
              "        toxic  \n",
              "0           0  \n",
              "1           0  \n",
              "2           1  \n",
              "3           0  \n",
              "4           0  \n",
              "...       ...  \n",
              "360830      0  \n",
              "360831      1  \n",
              "360832      0  \n",
              "360833      0  \n",
              "360834      0  \n",
              "\n",
              "[360835 rows x 3 columns]"
            ]
          },
          "execution_count": 47,
          "metadata": {},
          "output_type": "execute_result"
        }
      ],
      "source": [
        "df_new = pd.concat([corp, corp_pp, df['toxic']], axis=1)\n",
        "df_new.columns = ['comment_clean', 'comment_clean_preproc', 'toxic']\n",
        "df_new"
      ]
    },
    {
      "cell_type": "markdown",
      "metadata": {},
      "source": [
        "## Save CSV file with cleaned and preprocessed comments"
      ]
    },
    {
      "cell_type": "code",
      "execution_count": 48,
      "metadata": {},
      "outputs": [],
      "source": [
        "df_new.to_csv('data/data_usampl_60_40_comments_cleaned_preproc.csv', index=False)"
      ]
    }
  ],
  "metadata": {
    "colab": {
      "provenance": []
    },
    "kernelspec": {
      "display_name": "Python 3",
      "name": "python3"
    },
    "language_info": {
      "codemirror_mode": {
        "name": "ipython",
        "version": 3
      },
      "file_extension": ".py",
      "mimetype": "text/x-python",
      "name": "python",
      "nbconvert_exporter": "python",
      "pygments_lexer": "ipython3",
      "version": "3.11.3"
    }
  },
  "nbformat": 4,
  "nbformat_minor": 0
}
