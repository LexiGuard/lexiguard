{
  "cells": [
    {
      "cell_type": "markdown",
      "metadata": {
        "id": "8ChnD36qHhuy"
      },
      "source": [
        "# Data cleaning FINAL (Michael)"
      ]
    },
    {
      "cell_type": "markdown",
      "metadata": {
        "id": "sLTUtsD6HupB"
      },
      "source": [
        "## Setup"
      ]
    },
    {
      "cell_type": "code",
      "execution_count": 1,
      "metadata": {
        "colab": {
          "base_uri": "https://localhost:8080/"
        },
        "id": "nisbn3mTG0fj",
        "outputId": "c3a65a47-0bea-4de2-c594-1b5ca57dec48"
      },
      "outputs": [],
      "source": [
        "# import the usual suspects / basics\n",
        "import pandas as pd\n",
        "import numpy as np\n",
        "import re\n",
        "import pickle\n",
        "import os\n",
        "\n",
        "# tqdm\n",
        "from tqdm import tqdm\n",
        "tqdm.pandas()\n",
        "\n",
        "# spaCy\n",
        "import spacy\n",
        "#!python -m spacy download en_core_web_sm # must be run just once\n",
        "\n",
        "# fastText\n",
        "import fasttext\n",
        "\n",
        "# display all df columns (default is 20)\n",
        "pd.options.display.max_columns = None\n",
        "\n",
        "# show all data in columns so that full comment is visible\n",
        "pd.options.display.max_colwidth = None"
      ]
    },
    {
      "cell_type": "markdown",
      "metadata": {
        "id": "-MP847vfIJMN"
      },
      "source": [
        "## Load data"
      ]
    },
    {
      "cell_type": "code",
      "execution_count": 2,
      "metadata": {
        "id": "r6YNY0NIIL4d"
      },
      "outputs": [],
      "source": [
        "df = pd.read_csv('data/undersampled_data_60_40_ft.csv')"
      ]
    },
    {
      "cell_type": "code",
      "execution_count": 3,
      "metadata": {},
      "outputs": [
        {
          "name": "stdout",
          "output_type": "stream",
          "text": [
            "<class 'pandas.core.frame.DataFrame'>\n",
            "RangeIndex: 360301 entries, 0 to 360300\n",
            "Data columns (total 7 columns):\n",
            " #   Column                    Non-Null Count   Dtype \n",
            "---  ------                    --------------   ----- \n",
            " 0   Unnamed: 0                360301 non-null  int64 \n",
            " 1   comment_text              360301 non-null  object\n",
            " 2   toxic                     360301 non-null  int64 \n",
            " 3   stopwords_punct_lemma     360273 non-null  object\n",
            " 4   toxic_label_ft            360301 non-null  object\n",
            " 5   toxic_label_comment_text  360301 non-null  object\n",
            " 6   vector_fast_text          360301 non-null  object\n",
            "dtypes: int64(2), object(5)\n",
            "memory usage: 19.2+ MB\n"
          ]
        }
      ],
      "source": [
        "df.info()"
      ]
    },
    {
      "cell_type": "markdown",
      "metadata": {},
      "source": [
        "## Optional: Create smaller sample from data to speed up things while experimenting"
      ]
    },
    {
      "cell_type": "code",
      "execution_count": 4,
      "metadata": {},
      "outputs": [
        {
          "name": "stdout",
          "output_type": "stream",
          "text": [
            "Using full data (360301 rows).\n"
          ]
        }
      ],
      "source": [
        "sample_size = None\n",
        "\n",
        "# uncomment to create sample of desired size\n",
        "#sample_size = 1_000\n",
        "\n",
        "if sample_size != None:\n",
        "    # ratio toxic/nontoxic\n",
        "    tox_perc = 0.4\n",
        "    nontox_perc = 0.6\n",
        "\n",
        "    # number of toxic/nontoxic rows\n",
        "    sample_size_tox = int(sample_size * tox_perc)\n",
        "    sample_size_nontox = int(sample_size * nontox_perc)\n",
        "\n",
        "    sample_tox = df[df['toxic'] == 1].sample(sample_size_tox,\n",
        "                                             random_state=42)\n",
        "    sample_nontox = df[df['toxic'] == 0].sample(sample_size_nontox,\n",
        "                                                random_state=42)\n",
        "\n",
        "    df = pd.concat([sample_tox, sample_nontox])\n",
        "    print(f'Using sample ({df.shape[0]} rows).')\n",
        "\n",
        "else:\n",
        "    print(f'Using full data ({df.shape[0]} rows).')"
      ]
    },
    {
      "cell_type": "markdown",
      "metadata": {},
      "source": [
        "## Create corpus"
      ]
    },
    {
      "cell_type": "code",
      "execution_count": 5,
      "metadata": {},
      "outputs": [],
      "source": [
        "corp = df['comment_text']"
      ]
    },
    {
      "cell_type": "markdown",
      "metadata": {},
      "source": [
        "## Data cleaning"
      ]
    },
    {
      "cell_type": "markdown",
      "metadata": {},
      "source": [
        "### Show data size before cleaning"
      ]
    },
    {
      "cell_type": "code",
      "execution_count": 6,
      "metadata": {},
      "outputs": [
        {
          "name": "stdout",
          "output_type": "stream",
          "text": [
            "Number of words in corpus before cleaning: 18,101,931\n"
          ]
        }
      ],
      "source": [
        "# count 'words' (rough regex method)\n",
        "num_words_before = corp.str.count(r'\\S+', flags=re.I).sum()\n",
        "\n",
        "print(f'Number of words in corpus before cleaning: {num_words_before:,}')"
      ]
    },
    {
      "cell_type": "markdown",
      "metadata": {},
      "source": [
        "### Remove anchor HTML tags (\\<a\\>)\n",
        "\n",
        "TODO: Do this with an HTML parser like Beautiful Soup."
      ]
    },
    {
      "cell_type": "code",
      "execution_count": 7,
      "metadata": {},
      "outputs": [
        {
          "name": "stdout",
          "output_type": "stream",
          "text": [
            "77\n"
          ]
        },
        {
          "data": {
            "text/plain": [
              "8286                                                                                                                                You can buy from our large and diverse collection of salwar kameez, party wear suits, bollywood collection, cotton kurtis, Anarrkali suits,Bollywood saree and many other products.....\\nWe Have Some For You In Your Budget For more…\\nPlz visit:- <a href= \"http://www.dooiitt.com/\">Designer Salwar Kameez</a>\n",
              "28632                                                                                                                                                   <a href=\"http://www.newfitnessbooster.com/dermessence/\">Dermessence</a> has most essential nutrients that this formula has and that act directly and indirectly in combating again signs from the inside out. for more information please visit http://www.newfitnessbooster.com/dermessence/\n",
              "32256                                                                                                                                     <a href=\"http://www.replicaswatchesuks.co.uk\" title=\"fake rolex watches\">fake rolex watches</a>\\n\\n<a href=\"http://www.visitdevonandcornwall.co.uk\" title=\"breitling replica\">breitling replica</a>\\n\\n<a href=\"http://www.replicawatches2u.uk.com\" title=\"swiss replica watches\">swiss replica watches</a>\n",
              "32888                                                                                                                                                                                              Tomorrowland 2017 in clebration of this festival related all information provided in our article.\\n Like timeing,rules and regulation,weekand date.etc.\\n Plz visit:- <a href=\"http://www.dooiitt.com/category/tomorrowland/\">Tomorrowland2017</a>\n",
              "45338    Shri Krishna Janmashtami is the Hindu festival celebrated every year on Krishna paksh ashtami of Bhadrapada month according to the Hindu calendar. The day is also known as gokulashtami, saatam aatham, rohiniashtami etc. Janmashtami is the celebration of Lord Krishna's birth that was eighth avatar of Lord Vishnu.\\nfor more\\nPlz visit:- <a href=\"http://www.dooiitt.com/category/indianfestivals/janmashtami/\">Janmashtami 2017</a>\n",
              "Name: comment_text, dtype: object"
            ]
          },
          "execution_count": 7,
          "metadata": {},
          "output_type": "execute_result"
        }
      ],
      "source": [
        "regex = r'<a .*?>|</a>' # *? for non-greedy repetition\n",
        "\n",
        "# count matches\n",
        "print(corp.str.count(regex, flags=re.I).sum())\n",
        "\n",
        "# show some rows containing the pattern\n",
        "corp[corp.str.contains(regex, na=False, case=False)].head()"
      ]
    },
    {
      "cell_type": "code",
      "execution_count": 8,
      "metadata": {},
      "outputs": [
        {
          "name": "stdout",
          "output_type": "stream",
          "text": [
            "0\n"
          ]
        }
      ],
      "source": [
        "# replace pattern\n",
        "corp = corp.str.replace(regex, '', regex=True, case=False)\n",
        "\n",
        "# count matches again, should be 0\n",
        "print(corp.str.count(regex, flags=re.I).sum())"
      ]
    },
    {
      "cell_type": "markdown",
      "metadata": {},
      "source": [
        "### Remove URLs"
      ]
    },
    {
      "cell_type": "code",
      "execution_count": 9,
      "metadata": {},
      "outputs": [
        {
          "name": "stdout",
          "output_type": "stream",
          "text": [
            "9725\n"
          ]
        },
        {
          "data": {
            "text/plain": [
              "3                      We are already owed $488 M plus interest($2Billion) from 2006 audits the state has not collected.\\nhttps://www.adn.com/energy/article/oil-audit-draft/2014/11/20/\\n\\nThis amount of interest doesn't seem correct...\\n\\n'$416 million in taxes, plus another $368 million in interest between 2007 and 2009'\\n\\nWhen oil companies sued the state they wanted $100 M plus $400 M interest from 2006.\\nhttps://www.adn.com/business-economy/energy/2016/12/16/state-wins-case-against-oil-companies-worth-an-estimated-500-million/\\n\\nIs the state interest rate is much lower than the one oil companies set for us, or the legislature is letting them off with only 3 years of interest?\\n\\n \"The new law includes the unbelievable provision that after three years the companies will pay zero additional interest on delinquent taxes.\"\\nhttps://www.adn.com/opinions/2016/11/29/with-pfd-cut-on-the-line-oil-company-arguments-about-fine-points-of-tax-regs-will-backfire/\n",
              "65                                                                                                                                                                                                                                                         http://hedgeclippers.org\\nWHO ARE THE HEDGE CLIPPERS?\\nWhistleblowers for Working People  \\n\\nInstead of draining the swamp, Donald Trump brought it into the White House. Members of Trump’s inner circle include Wall Street billionaires with a history of destroying jobs, harming working people, and protecting the wealthiest Americans at everyone else’s expense. Hedge Clippers unites organizations and movements to cut through Trump’s swamp, and blow the whistle on Trump’s advisors who put their own financial gain before the public good. We’re giving Americans the tools and infrastructure to fight, and win, a multi-year battle against Trump’s agenda in Washington, and in states, cities, and towns across America.\n",
              "75                                                                                                                                                             WATCH KIRK CALDWELL LIE ON YOU TUBE DEBATE!! This will show you all how much kirk lies! On the link below as he debates with Ben he talks about how bad Ben is for going down Kapiolani messing up all the monkey pod trees! Now this hippocrite and Hart has plans to go down kapiolani destroying the trees !' Well where is the mayor why dont he do a press conference condeming them going down kapiolani destroying trees.. ?? Why because lies and GGP and his pal jennifer Sabas and all his ala moana friends dont want it going down Kona street and how would they know to build the parking lot blocking the path unless they knew the route was going to change.. \\nGo to 11:17. And watch lying kirk .. rail now going down kapiolani!! \\nhttps://m.youtube.com/watch?v=eIPTPIx3wtw\\nWhat now lex or keala whats his excuse?\n",
              "91                                                                                                                                                                                                                                                                                                                                                                                                                                                                                                                                                                                                                                                                                                                                                                                                                Pushing the costs on to others while keeping the profits. the continuing bad idea of gmos.... .http://www.oregonlive.com/business/index.ssf/2017/01/grass_seed_industry_fearful_ab.html\n",
              "100    More comprehensive with better nuance specific to US Prosperity Gospel movements:\\n\\nhttps://en.wikipedia.org/wiki/Prosperity_theology\\n\\n teachers of prosperity theology usually draw attention to its descriptions of physical wealth. Frequently quoted verses include:\\nMalachi 3:10: \"Bring to the storehouse a full tenth of what you earn so there will be food in my house. Test me in this,\" says the Lord All-Powerful. \"I will open the windows of heaven for you and pour out all the blessings you need\" \\nMatthew 25:14–30: the Parable of the talents\\nJohn 10:10: \"I am come that they might have life, and that they might have it more abundantly\" \\nPhilippians 4:19: \"My God shall supply all your need according to his riches in glory by Christ Jesus\" \\n Prosperity theology casts itself as the reclamation of true doctrine and thus part of a path to Christian dominion over secular society  Prosperity churches place a strong emphasis on the importance of giving\n",
              "Name: comment_text, dtype: object"
            ]
          },
          "execution_count": 9,
          "metadata": {},
          "output_type": "execute_result"
        }
      ],
      "source": [
        "regex = r'https?://\\S+'\n",
        "print(corp.str.count(regex, flags=re.I).sum())\n",
        "corp[corp.str.contains(regex, na=False, case=False)].head()"
      ]
    },
    {
      "cell_type": "code",
      "execution_count": 10,
      "metadata": {},
      "outputs": [
        {
          "name": "stdout",
          "output_type": "stream",
          "text": [
            "0\n"
          ]
        }
      ],
      "source": [
        "corp = corp.str.replace(regex, '', regex=True, case=False)\n",
        "print(corp.str.count(regex, flags=re.I).sum())"
      ]
    },
    {
      "cell_type": "markdown",
      "metadata": {},
      "source": [
        "### Remove whitespace except for spaces\n",
        "\n",
        "\\r actually causes an error when loading the saved csv file with read_csv() (just C engine, Python engine works).  \n",
        "\\u2028 --> Unicode line seperator."
      ]
    },
    {
      "cell_type": "code",
      "execution_count": 11,
      "metadata": {},
      "outputs": [
        {
          "name": "stdout",
          "output_type": "stream",
          "text": [
            "392656\n"
          ]
        },
        {
          "data": {
            "text/plain": [
              "1                                                                                                                                                                                                                                                                                                                                                                           The moment of critical mass is approaching when the deeds of Gupta & Co, like huge turbine engines slow down, halt and the reverse direction of the wheels of justice are set in motion leaving no hiding room.\\n\\n‘...unintended consequences’…. uneasy sleep ahead for many.\n",
              "2                                                                                                                                                                                                                                                                                                                                                                                                                                                 \"Hey listen to me,\" he said. \"I'm not going to put up with your crap about all this.\" He shouldn't have to prove himself to a reporter, he said.\\n\\nUh, actually Ben, you do.  And you didn't.  Buh-bye.\n",
              "3    We are already owed $488 M plus interest($2Billion) from 2006 audits the state has not collected.\\n\\n\\nThis amount of interest doesn't seem correct...\\n\\n'$416 million in taxes, plus another $368 million in interest between 2007 and 2009'\\n\\nWhen oil companies sued the state they wanted $100 M plus $400 M interest from 2006.\\n\\n\\nIs the state interest rate is much lower than the one oil companies set for us, or the legislature is letting them off with only 3 years of interest?\\n\\n \"The new law includes the unbelievable provision that after three years the companies will pay zero additional interest on delinquent taxes.\"\\n\n",
              "4                                                                                                                                                                                                                                                                                                                                                                                                           There is a reason there are no teeth to the law. It is an unlawful law. There is no way anyone can be forced to give someone else free electricity. Not yet at least.\\n\\nYou want to be green , pay for it yourself like every body else must.\n",
              "7                                                                                                                                                                                                                                                                                                    I think it's clear where this debate is headed in light of Minister Joly's response to the Conservative's motion was that the very motion proposed by the conservatives was islamaphobic.  Case closed.\\n\\nSo any objection, counter thought, difference of opinion, etc is now a sign of islamaphobia?  Best keep your mouth shut and move on I say.\n",
              "Name: comment_text, dtype: object"
            ]
          },
          "execution_count": 11,
          "metadata": {},
          "output_type": "execute_result"
        }
      ],
      "source": [
        "regex = r'[\\t\\n\\r\\f\\v\\u2028]'\n",
        "print(corp.str.count(regex, flags=re.I).sum())\n",
        "corp[corp.str.contains(regex, na=False, case=False)].head()"
      ]
    },
    {
      "cell_type": "code",
      "execution_count": 12,
      "metadata": {},
      "outputs": [
        {
          "name": "stdout",
          "output_type": "stream",
          "text": [
            "0\n"
          ]
        }
      ],
      "source": [
        "corp = corp.str.replace(regex, ' ', regex=True, case=False)\n",
        "print(corp.str.count(regex, flags=re.I).sum())"
      ]
    },
    {
      "cell_type": "markdown",
      "metadata": {},
      "source": [
        "### Remove numbers"
      ]
    },
    {
      "cell_type": "code",
      "execution_count": 13,
      "metadata": {},
      "outputs": [
        {
          "name": "stdout",
          "output_type": "stream",
          "text": [
            "168643\n"
          ]
        },
        {
          "data": {
            "text/plain": [
              "3     We are already owed $488 M plus interest($2Billion) from 2006 audits the state has not collected.   This amount of interest doesn't seem correct...  '$416 million in taxes, plus another $368 million in interest between 2007 and 2009'  When oil companies sued the state they wanted $100 M plus $400 M interest from 2006.   Is the state interest rate is much lower than the one oil companies set for us, or the legislature is letting them off with only 3 years of interest?   \"The new law includes the unbelievable provision that after three years the companies will pay zero additional interest on delinquent taxes.\" \n",
              "9                                                                                                                                                                                                                                                                                                        Why leave my basement? It's 1800 square feet with full bar stocked with Guinness, Old Speckled Hen., some Gibsons and a modest amount of wine.  Movie theater, spare guest room and full bath, gym, office, spacious utility room laundry. Big popcorn maker, hot dog cooker, and a really neat margarita maker.  How's your trailer?\n",
              "24                                                                                                                                                                                                                                                                                                                                                                                                                          Survey tell us 60% of Muslims in Europe want separate sharia law for themselves, and 40% believe killing infidels is justified if the Prophet Mohammad is insulted.  Lone wolf terrorists have many friends. @; (>\n",
              "42                                                                                        You know you're being lied to when someone takes a brief peak, like the cost of power on the open market in 2008, and uses that as the point of comparison for how far things have gone down. Power prices fluctuate. If EWEB thought the peak would be the price forever, that in itself makes a compelling case for mismanagement. Add in that another board member has already apologized for the Seneca dirty power fiasco, and I don't trust John Simpson in the slightest way.  If he thinks EWEB is doing a great job, he's almost all alone.\n",
              "52                                                                                                                                                                                                                                                                                And now it begins.  Look for the shuffling of money from different budgets into Rail.  10K here, 100K there and a couple of million from over there.  The tax rate won't change - for now.   But other services and capital spending will get hit. The roads will get repaved at a slower rate. The parks will get cleaned up even less often than now, etc.\n",
              "Name: comment_text, dtype: object"
            ]
          },
          "execution_count": 13,
          "metadata": {},
          "output_type": "execute_result"
        }
      ],
      "source": [
        "regex = r'\\d+'\n",
        "print(corp.str.count(regex, flags=re.I).sum())\n",
        "corp[corp.str.contains(regex, na=False, case=False)].head()"
      ]
    },
    {
      "cell_type": "code",
      "execution_count": 14,
      "metadata": {},
      "outputs": [
        {
          "name": "stdout",
          "output_type": "stream",
          "text": [
            "0\n"
          ]
        }
      ],
      "source": [
        "corp = corp.str.replace(regex, ' ', regex=True, case=False)\n",
        "print(corp.str.count(regex, flags=re.I).sum())"
      ]
    },
    {
      "cell_type": "markdown",
      "metadata": {},
      "source": [
        "### Manually \"unmask\" morst frequent swearwords, insults etc. (e.g. f*ck, cr@p)\n",
        "\n",
        "Also correct some (on-purpose) misspellings that reflect pronunciation, e.g. \"huuuge\", \"stooopid\".\n",
        "\n",
        "TODO: Implement autocorrection."
      ]
    },
    {
      "cell_type": "code",
      "execution_count": 15,
      "metadata": {},
      "outputs": [
        {
          "name": "stdout",
          "output_type": "stream",
          "text": [
            "3944\n"
          ]
        },
        {
          "data": {
            "text/plain": [
              "comment_text\n",
              "[]              357089\n",
              "[sh*t]              77\n",
              "[***]               49\n",
              "[a**]               44\n",
              "[****]              36\n",
              "[*****]             32\n",
              "[s**t]              32\n",
              "[f***]              27\n",
              "[p***y]             25\n",
              "[f**k]              24\n",
              "[p****]             19\n",
              "[p*ssy]             19\n",
              "[s***]              17\n",
              "[a**.]              17\n",
              "[F***]              16\n",
              "[h*ll]              16\n",
              "[*is*]              14\n",
              "[sh*t.]             12\n",
              "[h***]              12\n",
              "[*any*]             12\n",
              "[*not*]             11\n",
              "[sh**]              11\n",
              "[pu**y]             11\n",
              "[cr*p]              11\n",
              "[F*ck]              10\n",
              "[f***ing]           10\n",
              "[**]                10\n",
              "[*sigh*]            10\n",
              "[***, ***]           9\n",
              "[****, ****]         9\n",
              "[*are*]              9\n",
              "[s**t.]              9\n",
              "[*&^%]               9\n",
              "[*some*]             8\n",
              "[a**es]              8\n",
              "[b*tch]              8\n",
              "[*only*]             8\n",
              "[*ss]                8\n",
              "[*you*]              8\n",
              "[*lol*]              8\n",
              "[*could*]            8\n",
              "[f*ck]               8\n",
              "[*did*]              7\n",
              "[bullsh*t]           7\n",
              "[****ing]            7\n",
              "[*I]                 7\n",
              "[f*cking]            7\n",
              "[a**hole]            7\n",
              "[p*ssy.]             6\n",
              "[*and*]              6\n",
              "[A**]                6\n",
              "[a**hole.]           6\n",
              "[d*mn]               6\n",
              "[bats**t]            6\n",
              "[sh*t,]              6\n",
              "[*The]               6\n",
              "[\"F***]              6\n",
              "Name: count, dtype: int64"
            ]
          },
          "execution_count": 15,
          "metadata": {},
          "output_type": "execute_result"
        }
      ],
      "source": [
        "# search patterns used to create list of replacements (see next cell)\n",
        "\n",
        "regex = r'\\S*\\*\\S+'\n",
        "#regex = r'\\S*@\\S+'\n",
        "#regex = r'\\S*#\\S+'\n",
        "#regex = r'\\S*a{3,}\\S*'\n",
        "#regex = r'\\S*e{3,}\\S*'\n",
        "#regex = r'\\S*i{3,}\\S*'\n",
        "#regex = r'\\S*o{3,}\\S*'\n",
        "#regex = r'\\S*u{3,}\\S*'\n",
        "\n",
        "print(corp.str.count(regex, flags=re.I).sum())\n",
        "all_matches = corp.str.findall(regex, flags=re.I).value_counts()\n",
        "all_matches[all_matches > 5]"
      ]
    },
    {
      "cell_type": "code",
      "execution_count": 16,
      "metadata": {},
      "outputs": [],
      "source": [
        "match_list = '(?i)f*ck, (?i)sh*t, (?i)s**t, (?i)f***, (?i)p***y, (?i)b*tch, (?i)f**k, (?i)p*ssy, (?i)p****, (?i)s***, (?i)a**, (?i)h*ll, (?i)h***, (?i)sh*t, (?i)pu**y, (?i)sh**, (?i)cr*p, (?i)@ss, (?i)cr@p, (?i)b@lls, (?i)f@ck, (?i)waaay, (?i)waaaay, (?i)riiiight, (?i)soo+, (?i)stooooopid, (?i)huu+ge, (?i)yuu+ge, (?i)suu+re'\\\n",
        "    .replace('*', r'\\*').split(', ')\n",
        "replace_list = 'fuck, shit, shit, fuck, pussy, bitch, fuck, pussy, pussy, shit, ass, hell, hell, shit, pussy, shit, crap, ass, crap, balls, fuck, way, way, right, so, stupid, huge, huge, sure'\\\n",
        "    .split(', ')\n",
        "\n",
        "corp.replace(match_list, replace_list, regex=True, inplace=True)"
      ]
    },
    {
      "cell_type": "markdown",
      "metadata": {},
      "source": [
        "### Remove multiple spaces"
      ]
    },
    {
      "cell_type": "code",
      "execution_count": 17,
      "metadata": {},
      "outputs": [
        {
          "name": "stdout",
          "output_type": "stream",
          "text": [
            "634227\n"
          ]
        },
        {
          "data": {
            "text/plain": [
              "1                                                                                                                                                                                                                                                                                                                                          The moment of critical mass is approaching when the deeds of Gupta & Co, like huge turbine engines slow down, halt and the reverse direction of the wheels of justice are set in motion leaving no hiding room.  ‘...unintended consequences’…. uneasy sleep ahead for many.\n",
              "2                                                                                                                                                                                                                                                                                                                                                                                                                \"Hey listen to me,\" he said. \"I'm not going to put up with your crap about all this.\" He shouldn't have to prove himself to a reporter, he said.  Uh, actually Ben, you do.  And you didn't.  Buh-bye.\n",
              "3    We are already owed $  M plus interest($ Billion) from   audits the state has not collected.   This amount of interest doesn't seem correct...  '$  million in taxes, plus another $  million in interest between   and  '  When oil companies sued the state they wanted $  M plus $  M interest from  .   Is the state interest rate is much lower than the one oil companies set for us, or the legislature is letting them off with only   years of interest?   \"The new law includes the unbelievable provision that after three years the companies will pay zero additional interest on delinquent taxes.\" \n",
              "4                                                                                                                                                                                                                                                                                                                                                                          There is a reason there are no teeth to the law. It is an unlawful law. There is no way anyone can be forced to give someone else free electricity. Not yet at least.  You want to be green , pay for it yourself like every body else must.\n",
              "7                                                                                                                                                                                                                                                                   I think it's clear where this debate is headed in light of Minister Joly's response to the Conservative's motion was that the very motion proposed by the conservatives was islamaphobic.  Case closed.  So any objection, counter thought, difference of opinion, etc is now a sign of islamaphobia?  Best keep your mouth shut and move on I say.\n",
              "Name: comment_text, dtype: object"
            ]
          },
          "execution_count": 17,
          "metadata": {},
          "output_type": "execute_result"
        }
      ],
      "source": [
        "regex = r' {2,}'\n",
        "print(corp.str.count(regex, flags=re.I).sum())\n",
        "corp[corp.str.contains(regex, na=False, case=False)].head()"
      ]
    },
    {
      "cell_type": "code",
      "execution_count": 18,
      "metadata": {},
      "outputs": [
        {
          "name": "stdout",
          "output_type": "stream",
          "text": [
            "0\n"
          ]
        }
      ],
      "source": [
        "corp = corp.str.replace(regex, ' ', regex=True, case=False)\n",
        "print(corp.str.count(regex, flags=re.I).sum())"
      ]
    },
    {
      "cell_type": "markdown",
      "metadata": {},
      "source": [
        "### Show data size after cleaning"
      ]
    },
    {
      "cell_type": "code",
      "execution_count": 19,
      "metadata": {},
      "outputs": [
        {
          "name": "stdout",
          "output_type": "stream",
          "text": [
            "Number of words in corpus after cleaning: 18,059,436 (before: 18,101,931)\n"
          ]
        }
      ],
      "source": [
        "num_words_after = corp.str.count(r'\\S+', flags=re.I).sum()\n",
        "\n",
        "print(f'Number of words in corpus after cleaning: {num_words_after:,} (before: {num_words_before:,})')"
      ]
    },
    {
      "cell_type": "markdown",
      "metadata": {},
      "source": [
        "## Preprocess data with spaCy (based on Eric's pipeline)\n",
        "\n",
        "See: https://realpython.com/natural-language-processing-spacy-python/\n",
        "\n",
        "TODO: Check if NLTK is faster."
      ]
    },
    {
      "cell_type": "code",
      "execution_count": 20,
      "metadata": {},
      "outputs": [],
      "source": [
        "# load English language model\n",
        "nlp = spacy.load('en_core_web_sm')"
      ]
    },
    {
      "cell_type": "markdown",
      "metadata": {},
      "source": [
        "### Tokenize, remove punctuation, make lower case, lemmatize, remove stop words"
      ]
    },
    {
      "cell_type": "code",
      "execution_count": 21,
      "metadata": {},
      "outputs": [],
      "source": [
        "def preprocess(s):\n",
        "    doc = nlp(s)\n",
        "    \n",
        "    tokens = [token.text.lower()\n",
        "              for token in doc\n",
        "              if not token.is_punct]\n",
        "    \n",
        "    tokens_lemma = [token.lemma_.lower()\n",
        "              for token in doc\n",
        "              if not token.is_punct]\n",
        "    \n",
        "    tokens_lemma_stop = [token.lemma_.lower()\n",
        "              for token in doc\n",
        "              if not token.is_punct and not token.is_stop]\n",
        "    \n",
        "    # convert lists to space-separated strings and return as Series\n",
        "    return pd.Series([' '.join(tokens),\n",
        "                      ' '.join(tokens_lemma),\n",
        "                      ' '.join(tokens_lemma_stop)],\n",
        "                      index=['clean_pp',\n",
        "                             'clean_pp_lemma',\n",
        "                             'clean_pp_lemma_stop'])"
      ]
    },
    {
      "cell_type": "code",
      "execution_count": 22,
      "metadata": {},
      "outputs": [
        {
          "name": "stderr",
          "output_type": "stream",
          "text": [
            "100%|██████████| 360301/360301 [1:05:28<00:00, 91.71it/s] \n"
          ]
        },
        {
          "data": {
            "text/html": [
              "<div>\n",
              "<style scoped>\n",
              "    .dataframe tbody tr th:only-of-type {\n",
              "        vertical-align: middle;\n",
              "    }\n",
              "\n",
              "    .dataframe tbody tr th {\n",
              "        vertical-align: top;\n",
              "    }\n",
              "\n",
              "    .dataframe thead th {\n",
              "        text-align: right;\n",
              "    }\n",
              "</style>\n",
              "<table border=\"1\" class=\"dataframe\">\n",
              "  <thead>\n",
              "    <tr style=\"text-align: right;\">\n",
              "      <th></th>\n",
              "      <th>clean_pp</th>\n",
              "      <th>clean_pp_lemma</th>\n",
              "      <th>clean_pp_lemma_stop</th>\n",
              "    </tr>\n",
              "  </thead>\n",
              "  <tbody>\n",
              "    <tr>\n",
              "      <th>0</th>\n",
              "      <td>well what are the chances he will turn out to have been an active proponent of slavery</td>\n",
              "      <td>well what be the chance he will turn out to have be an active proponent of slavery</td>\n",
              "      <td>chance turn active proponent slavery</td>\n",
              "    </tr>\n",
              "    <tr>\n",
              "      <th>1</th>\n",
              "      <td>the moment of critical mass is approaching when the deeds of gupta co like huge turbine engines slow down halt and the reverse direction of the wheels of justice are set in motion leaving no hiding room unintended consequences uneasy sleep ahead for many</td>\n",
              "      <td>the moment of critical mass be approach when the deed of gupta co like huge turbine engine slow down halt and the reverse direction of the wheel of justice be set in motion leave no hiding room unintended consequence uneasy sleep ahead for many</td>\n",
              "      <td>moment critical mass approach deed gupta co like huge turbine engine slow halt reverse direction wheel justice set motion leave hiding room unintended consequence uneasy sleep ahead</td>\n",
              "    </tr>\n",
              "    <tr>\n",
              "      <th>2</th>\n",
              "      <td>hey listen to me he said i 'm not going to put up with your crap about all this he should n't have to prove himself to a reporter he said uh actually ben you do and you did n't buh bye</td>\n",
              "      <td>hey listen to i he say i be not go to put up with your crap about all this he should not have to prove himself to a reporter he say uh actually ben you do and you do not buh bye</td>\n",
              "      <td>hey listen say go crap prove reporter say uh actually ben buh bye</td>\n",
              "    </tr>\n",
              "    <tr>\n",
              "      <th>3</th>\n",
              "      <td>we are already owed $ m plus interest($ billion from audits the state has not collected this amount of interest does n't seem correct $ million in taxes plus another $ million in interest between and when oil companies sued the state they wanted $ m plus $ m interest from is the state interest rate is much lower than the one oil companies set for us or the legislature is letting them off with only years of interest the new law includes the unbelievable provision that after three years the companies will pay zero additional interest on delinquent taxes</td>\n",
              "      <td>we be already owe $ m plus interest($ billion from audits the state have not collect this amount of interest do not seem correct $ million in taxis plus another $ million in interest between and when oil company sue the state they want $ m plus $ m interest from be the state interest rate be much low than the one oil company set for we or the legislature be let they off with only year of interest the new law include the unbelievable provision that after three year the company will pay zero additional interest on delinquent taxis</td>\n",
              "      <td>owe $ m plus interest($ billion audits state collect interest correct $ million taxis plus $ million interest oil company sue state want $ m plus $ m interest state interest rate low oil company set legislature let year interest new law include unbelievable provision year company pay zero additional interest delinquent taxis</td>\n",
              "    </tr>\n",
              "    <tr>\n",
              "      <th>4</th>\n",
              "      <td>there is a reason there are no teeth to the law it is an unlawful law there is no way anyone can be forced to give someone else free electricity not yet at least you want to be green pay for it yourself like every body else must</td>\n",
              "      <td>there be a reason there be no tooth to the law it be an unlawful law there be no way anyone can be force to give someone else free electricity not yet at least you want to be green pay for it yourself like every body else must</td>\n",
              "      <td>reason tooth law unlawful law way force free electricity want green pay like body</td>\n",
              "    </tr>\n",
              "  </tbody>\n",
              "</table>\n",
              "</div>"
            ],
            "text/plain": [
              "                                                                                                                                                                                                                                                                                                                                                                                                                                                                                                                                                                        clean_pp  \\\n",
              "0                                                                                                                                                                                                                                                                                                                                                                                                                                                                                         well what are the chances he will turn out to have been an active proponent of slavery   \n",
              "1                                                                                                                                                                                                                                                                                                                 the moment of critical mass is approaching when the deeds of gupta co like huge turbine engines slow down halt and the reverse direction of the wheels of justice are set in motion leaving no hiding room unintended consequences uneasy sleep ahead for many   \n",
              "2                                                                                                                                                                                                                                                                                                                                                                                       hey listen to me he said i 'm not going to put up with your crap about all this he should n't have to prove himself to a reporter he said uh actually ben you do and you did n't buh bye   \n",
              "3  we are already owed $ m plus interest($ billion from audits the state has not collected this amount of interest does n't seem correct $ million in taxes plus another $ million in interest between and when oil companies sued the state they wanted $ m plus $ m interest from is the state interest rate is much lower than the one oil companies set for us or the legislature is letting them off with only years of interest the new law includes the unbelievable provision that after three years the companies will pay zero additional interest on delinquent taxes   \n",
              "4                                                                                                                                                                                                                                                                                                                                           there is a reason there are no teeth to the law it is an unlawful law there is no way anyone can be forced to give someone else free electricity not yet at least you want to be green pay for it yourself like every body else must   \n",
              "\n",
              "                                                                                                                                                                                                                                                                                                                                                                                                                                                                                                                                           clean_pp_lemma  \\\n",
              "0                                                                                                                                                                                                                                                                                                                                                                                                                                                                      well what be the chance he will turn out to have be an active proponent of slavery   \n",
              "1                                                                                                                                                                                                                                                                                                    the moment of critical mass be approach when the deed of gupta co like huge turbine engine slow down halt and the reverse direction of the wheel of justice be set in motion leave no hiding room unintended consequence uneasy sleep ahead for many   \n",
              "2                                                                                                                                                                                                                                                                                                                                                                       hey listen to i he say i be not go to put up with your crap about all this he should not have to prove himself to a reporter he say uh actually ben you do and you do not buh bye   \n",
              "3  we be already owe $ m plus interest($ billion from audits the state have not collect this amount of interest do not seem correct $ million in taxis plus another $ million in interest between and when oil company sue the state they want $ m plus $ m interest from be the state interest rate be much low than the one oil company set for we or the legislature be let they off with only year of interest the new law include the unbelievable provision that after three year the company will pay zero additional interest on delinquent taxis   \n",
              "4                                                                                                                                                                                                                                                                                                                      there be a reason there be no tooth to the law it be an unlawful law there be no way anyone can be force to give someone else free electricity not yet at least you want to be green pay for it yourself like every body else must   \n",
              "\n",
              "                                                                                                                                                                                                                                                                                                                      clean_pp_lemma_stop  \n",
              "0                                                                                                                                                                                                                                                                                                    chance turn active proponent slavery  \n",
              "1                                                                                                                                                   moment critical mass approach deed gupta co like huge turbine engine slow halt reverse direction wheel justice set motion leave hiding room unintended consequence uneasy sleep ahead  \n",
              "2                                                                                                                                                                                                                                                                       hey listen say go crap prove reporter say uh actually ben buh bye  \n",
              "3  owe $ m plus interest($ billion audits state collect interest correct $ million taxis plus $ million interest oil company sue state want $ m plus $ m interest state interest rate low oil company set legislature let year interest new law include unbelievable provision year company pay zero additional interest delinquent taxis  \n",
              "4                                                                                                                                                                                                                                                       reason tooth law unlawful law way force free electricity want green pay like body  "
            ]
          },
          "execution_count": 22,
          "metadata": {},
          "output_type": "execute_result"
        }
      ],
      "source": [
        "corp_pp = corp.progress_apply(preprocess)\n",
        "corp_pp.head()"
      ]
    },
    {
      "cell_type": "markdown",
      "metadata": {},
      "source": [
        "## Create new df with raw + cleaned + preprocessed comments + target"
      ]
    },
    {
      "cell_type": "code",
      "execution_count": 23,
      "metadata": {},
      "outputs": [
        {
          "data": {
            "text/html": [
              "<div>\n",
              "<style scoped>\n",
              "    .dataframe tbody tr th:only-of-type {\n",
              "        vertical-align: middle;\n",
              "    }\n",
              "\n",
              "    .dataframe tbody tr th {\n",
              "        vertical-align: top;\n",
              "    }\n",
              "\n",
              "    .dataframe thead th {\n",
              "        text-align: right;\n",
              "    }\n",
              "</style>\n",
              "<table border=\"1\" class=\"dataframe\">\n",
              "  <thead>\n",
              "    <tr style=\"text-align: right;\">\n",
              "      <th></th>\n",
              "      <th>raw</th>\n",
              "      <th>clean</th>\n",
              "      <th>clean_pp</th>\n",
              "      <th>clean_pp_lemma</th>\n",
              "      <th>clean_pp_lemma_stop</th>\n",
              "      <th>toxic</th>\n",
              "    </tr>\n",
              "  </thead>\n",
              "  <tbody>\n",
              "    <tr>\n",
              "      <th>0</th>\n",
              "      <td>Well, what are the chances he will turn out to have been an active proponent of slavery?</td>\n",
              "      <td>Well, what are the chances he will turn out to have been an active proponent of slavery?</td>\n",
              "      <td>well what are the chances he will turn out to have been an active proponent of slavery</td>\n",
              "      <td>well what be the chance he will turn out to have be an active proponent of slavery</td>\n",
              "      <td>chance turn active proponent slavery</td>\n",
              "      <td>0</td>\n",
              "    </tr>\n",
              "    <tr>\n",
              "      <th>1</th>\n",
              "      <td>The moment of critical mass is approaching when the deeds of Gupta &amp; Co, like huge turbine engines slow down, halt and the reverse direction of the wheels of justice are set in motion leaving no hiding room.\\n\\n‘...unintended consequences’…. uneasy sleep ahead for many.</td>\n",
              "      <td>The moment of critical mass is approaching when the deeds of Gupta &amp; Co, like huge turbine engines slow down, halt and the reverse direction of the wheels of justice are set in motion leaving no hiding room. ‘...unintended consequences’…. uneasy sleep ahead for many.</td>\n",
              "      <td>the moment of critical mass is approaching when the deeds of gupta co like huge turbine engines slow down halt and the reverse direction of the wheels of justice are set in motion leaving no hiding room unintended consequences uneasy sleep ahead for many</td>\n",
              "      <td>the moment of critical mass be approach when the deed of gupta co like huge turbine engine slow down halt and the reverse direction of the wheel of justice be set in motion leave no hiding room unintended consequence uneasy sleep ahead for many</td>\n",
              "      <td>moment critical mass approach deed gupta co like huge turbine engine slow halt reverse direction wheel justice set motion leave hiding room unintended consequence uneasy sleep ahead</td>\n",
              "      <td>0</td>\n",
              "    </tr>\n",
              "    <tr>\n",
              "      <th>2</th>\n",
              "      <td>\"Hey listen to me,\" he said. \"I'm not going to put up with your crap about all this.\" He shouldn't have to prove himself to a reporter, he said.\\n\\nUh, actually Ben, you do.  And you didn't.  Buh-bye.</td>\n",
              "      <td>\"Hey listen to me,\" he said. \"I'm not going to put up with your crap about all this.\" He shouldn't have to prove himself to a reporter, he said. Uh, actually Ben, you do. And you didn't. Buh-bye.</td>\n",
              "      <td>hey listen to me he said i 'm not going to put up with your crap about all this he should n't have to prove himself to a reporter he said uh actually ben you do and you did n't buh bye</td>\n",
              "      <td>hey listen to i he say i be not go to put up with your crap about all this he should not have to prove himself to a reporter he say uh actually ben you do and you do not buh bye</td>\n",
              "      <td>hey listen say go crap prove reporter say uh actually ben buh bye</td>\n",
              "      <td>1</td>\n",
              "    </tr>\n",
              "    <tr>\n",
              "      <th>3</th>\n",
              "      <td>We are already owed $488 M plus interest($2Billion) from 2006 audits the state has not collected.\\nhttps://www.adn.com/energy/article/oil-audit-draft/2014/11/20/\\n\\nThis amount of interest doesn't seem correct...\\n\\n'$416 million in taxes, plus another $368 million in interest between 2007 and 2009'\\n\\nWhen oil companies sued the state they wanted $100 M plus $400 M interest from 2006.\\nhttps://www.adn.com/business-economy/energy/2016/12/16/state-wins-case-against-oil-companies-worth-an-estimated-500-million/\\n\\nIs the state interest rate is much lower than the one oil companies set for us, or the legislature is letting them off with only 3 years of interest?\\n\\n \"The new law includes the unbelievable provision that after three years the companies will pay zero additional interest on delinquent taxes.\"\\nhttps://www.adn.com/opinions/2016/11/29/with-pfd-cut-on-the-line-oil-company-arguments-about-fine-points-of-tax-regs-will-backfire/</td>\n",
              "      <td>We are already owed $ M plus interest($ Billion) from audits the state has not collected. This amount of interest doesn't seem correct... '$ million in taxes, plus another $ million in interest between and ' When oil companies sued the state they wanted $ M plus $ M interest from . Is the state interest rate is much lower than the one oil companies set for us, or the legislature is letting them off with only years of interest? \"The new law includes the unbelievable provision that after three years the companies will pay zero additional interest on delinquent taxes.\"</td>\n",
              "      <td>we are already owed $ m plus interest($ billion from audits the state has not collected this amount of interest does n't seem correct $ million in taxes plus another $ million in interest between and when oil companies sued the state they wanted $ m plus $ m interest from is the state interest rate is much lower than the one oil companies set for us or the legislature is letting them off with only years of interest the new law includes the unbelievable provision that after three years the companies will pay zero additional interest on delinquent taxes</td>\n",
              "      <td>we be already owe $ m plus interest($ billion from audits the state have not collect this amount of interest do not seem correct $ million in taxis plus another $ million in interest between and when oil company sue the state they want $ m plus $ m interest from be the state interest rate be much low than the one oil company set for we or the legislature be let they off with only year of interest the new law include the unbelievable provision that after three year the company will pay zero additional interest on delinquent taxis</td>\n",
              "      <td>owe $ m plus interest($ billion audits state collect interest correct $ million taxis plus $ million interest oil company sue state want $ m plus $ m interest state interest rate low oil company set legislature let year interest new law include unbelievable provision year company pay zero additional interest delinquent taxis</td>\n",
              "      <td>0</td>\n",
              "    </tr>\n",
              "    <tr>\n",
              "      <th>4</th>\n",
              "      <td>There is a reason there are no teeth to the law. It is an unlawful law. There is no way anyone can be forced to give someone else free electricity. Not yet at least.\\n\\nYou want to be green , pay for it yourself like every body else must.</td>\n",
              "      <td>There is a reason there are no teeth to the law. It is an unlawful law. There is no way anyone can be forced to give someone else free electricity. Not yet at least. You want to be green , pay for it yourself like every body else must.</td>\n",
              "      <td>there is a reason there are no teeth to the law it is an unlawful law there is no way anyone can be forced to give someone else free electricity not yet at least you want to be green pay for it yourself like every body else must</td>\n",
              "      <td>there be a reason there be no tooth to the law it be an unlawful law there be no way anyone can be force to give someone else free electricity not yet at least you want to be green pay for it yourself like every body else must</td>\n",
              "      <td>reason tooth law unlawful law way force free electricity want green pay like body</td>\n",
              "      <td>0</td>\n",
              "    </tr>\n",
              "  </tbody>\n",
              "</table>\n",
              "</div>"
            ],
            "text/plain": [
              "                                                                                                                                                                                                                                                                                                                                                                                                                                                                                                                                                                                                                                                                                                                                                                                                                                                                                                                                                                                  raw  \\\n",
              "0                                                                                                                                                                                                                                                                                                                                                                                                                                                                                                                                                                                                                                                                                                                                                                                                                                                                                            Well, what are the chances he will turn out to have been an active proponent of slavery?   \n",
              "1                                                                                                                                                                                                                                                                                                                                                                                                                                                                                                                                                                                                                                                                                                      The moment of critical mass is approaching when the deeds of Gupta & Co, like huge turbine engines slow down, halt and the reverse direction of the wheels of justice are set in motion leaving no hiding room.\\n\\n‘...unintended consequences’…. uneasy sleep ahead for many.   \n",
              "2                                                                                                                                                                                                                                                                                                                                                                                                                                                                                                                                                                                                                                                                                                                                                                            \"Hey listen to me,\" he said. \"I'm not going to put up with your crap about all this.\" He shouldn't have to prove himself to a reporter, he said.\\n\\nUh, actually Ben, you do.  And you didn't.  Buh-bye.   \n",
              "3  We are already owed $488 M plus interest($2Billion) from 2006 audits the state has not collected.\\nhttps://www.adn.com/energy/article/oil-audit-draft/2014/11/20/\\n\\nThis amount of interest doesn't seem correct...\\n\\n'$416 million in taxes, plus another $368 million in interest between 2007 and 2009'\\n\\nWhen oil companies sued the state they wanted $100 M plus $400 M interest from 2006.\\nhttps://www.adn.com/business-economy/energy/2016/12/16/state-wins-case-against-oil-companies-worth-an-estimated-500-million/\\n\\nIs the state interest rate is much lower than the one oil companies set for us, or the legislature is letting them off with only 3 years of interest?\\n\\n \"The new law includes the unbelievable provision that after three years the companies will pay zero additional interest on delinquent taxes.\"\\nhttps://www.adn.com/opinions/2016/11/29/with-pfd-cut-on-the-line-oil-company-arguments-about-fine-points-of-tax-regs-will-backfire/   \n",
              "4                                                                                                                                                                                                                                                                                                                                                                                                                                                                                                                                                                                                                                                                                                                                      There is a reason there are no teeth to the law. It is an unlawful law. There is no way anyone can be forced to give someone else free electricity. Not yet at least.\\n\\nYou want to be green , pay for it yourself like every body else must.   \n",
              "\n",
              "                                                                                                                                                                                                                                                                                                                                                                                                                                                                                                                                                                                           clean  \\\n",
              "0                                                                                                                                                                                                                                                                                                                                                                                                                                                                                                       Well, what are the chances he will turn out to have been an active proponent of slavery?   \n",
              "1                                                                                                                                                                                                                                                                                                                    The moment of critical mass is approaching when the deeds of Gupta & Co, like huge turbine engines slow down, halt and the reverse direction of the wheels of justice are set in motion leaving no hiding room. ‘...unintended consequences’…. uneasy sleep ahead for many.   \n",
              "2                                                                                                                                                                                                                                                                                                                                                                                            \"Hey listen to me,\" he said. \"I'm not going to put up with your crap about all this.\" He shouldn't have to prove himself to a reporter, he said. Uh, actually Ben, you do. And you didn't. Buh-bye.   \n",
              "3  We are already owed $ M plus interest($ Billion) from audits the state has not collected. This amount of interest doesn't seem correct... '$ million in taxes, plus another $ million in interest between and ' When oil companies sued the state they wanted $ M plus $ M interest from . Is the state interest rate is much lower than the one oil companies set for us, or the legislature is letting them off with only years of interest? \"The new law includes the unbelievable provision that after three years the companies will pay zero additional interest on delinquent taxes.\"    \n",
              "4                                                                                                                                                                                                                                                                                                                                                    There is a reason there are no teeth to the law. It is an unlawful law. There is no way anyone can be forced to give someone else free electricity. Not yet at least. You want to be green , pay for it yourself like every body else must.   \n",
              "\n",
              "                                                                                                                                                                                                                                                                                                                                                                                                                                                                                                                                                                        clean_pp  \\\n",
              "0                                                                                                                                                                                                                                                                                                                                                                                                                                                                                         well what are the chances he will turn out to have been an active proponent of slavery   \n",
              "1                                                                                                                                                                                                                                                                                                                 the moment of critical mass is approaching when the deeds of gupta co like huge turbine engines slow down halt and the reverse direction of the wheels of justice are set in motion leaving no hiding room unintended consequences uneasy sleep ahead for many   \n",
              "2                                                                                                                                                                                                                                                                                                                                                                                       hey listen to me he said i 'm not going to put up with your crap about all this he should n't have to prove himself to a reporter he said uh actually ben you do and you did n't buh bye   \n",
              "3  we are already owed $ m plus interest($ billion from audits the state has not collected this amount of interest does n't seem correct $ million in taxes plus another $ million in interest between and when oil companies sued the state they wanted $ m plus $ m interest from is the state interest rate is much lower than the one oil companies set for us or the legislature is letting them off with only years of interest the new law includes the unbelievable provision that after three years the companies will pay zero additional interest on delinquent taxes   \n",
              "4                                                                                                                                                                                                                                                                                                                                           there is a reason there are no teeth to the law it is an unlawful law there is no way anyone can be forced to give someone else free electricity not yet at least you want to be green pay for it yourself like every body else must   \n",
              "\n",
              "                                                                                                                                                                                                                                                                                                                                                                                                                                                                                                                                           clean_pp_lemma  \\\n",
              "0                                                                                                                                                                                                                                                                                                                                                                                                                                                                      well what be the chance he will turn out to have be an active proponent of slavery   \n",
              "1                                                                                                                                                                                                                                                                                                    the moment of critical mass be approach when the deed of gupta co like huge turbine engine slow down halt and the reverse direction of the wheel of justice be set in motion leave no hiding room unintended consequence uneasy sleep ahead for many   \n",
              "2                                                                                                                                                                                                                                                                                                                                                                       hey listen to i he say i be not go to put up with your crap about all this he should not have to prove himself to a reporter he say uh actually ben you do and you do not buh bye   \n",
              "3  we be already owe $ m plus interest($ billion from audits the state have not collect this amount of interest do not seem correct $ million in taxis plus another $ million in interest between and when oil company sue the state they want $ m plus $ m interest from be the state interest rate be much low than the one oil company set for we or the legislature be let they off with only year of interest the new law include the unbelievable provision that after three year the company will pay zero additional interest on delinquent taxis   \n",
              "4                                                                                                                                                                                                                                                                                                                      there be a reason there be no tooth to the law it be an unlawful law there be no way anyone can be force to give someone else free electricity not yet at least you want to be green pay for it yourself like every body else must   \n",
              "\n",
              "                                                                                                                                                                                                                                                                                                                      clean_pp_lemma_stop  \\\n",
              "0                                                                                                                                                                                                                                                                                                    chance turn active proponent slavery   \n",
              "1                                                                                                                                                   moment critical mass approach deed gupta co like huge turbine engine slow halt reverse direction wheel justice set motion leave hiding room unintended consequence uneasy sleep ahead   \n",
              "2                                                                                                                                                                                                                                                                       hey listen say go crap prove reporter say uh actually ben buh bye   \n",
              "3  owe $ m plus interest($ billion audits state collect interest correct $ million taxis plus $ million interest oil company sue state want $ m plus $ m interest state interest rate low oil company set legislature let year interest new law include unbelievable provision year company pay zero additional interest delinquent taxis   \n",
              "4                                                                                                                                                                                                                                                       reason tooth law unlawful law way force free electricity want green pay like body   \n",
              "\n",
              "   toxic  \n",
              "0      0  \n",
              "1      0  \n",
              "2      1  \n",
              "3      0  \n",
              "4      0  "
            ]
          },
          "execution_count": 23,
          "metadata": {},
          "output_type": "execute_result"
        }
      ],
      "source": [
        "df_new = pd.concat([df['comment_text'],\n",
        "                    corp,\n",
        "                    corp_pp['clean_pp'],\n",
        "                    corp_pp['clean_pp_lemma'],\n",
        "                    corp_pp['clean_pp_lemma_stop'],\n",
        "                    df['toxic']], axis=1)\n",
        "\n",
        "# column names\n",
        "df_new.columns = ['raw',\n",
        "                  'clean',\n",
        "                  'clean_pp',\n",
        "                  'clean_pp_lemma',\n",
        "                  'clean_pp_lemma_stop',\n",
        "                  'toxic']\n",
        "\n",
        "df_new.head()"
      ]
    },
    {
      "cell_type": "markdown",
      "metadata": {},
      "source": [
        "## Drop rows with NaN's"
      ]
    },
    {
      "cell_type": "code",
      "execution_count": 24,
      "metadata": {},
      "outputs": [
        {
          "name": "stdout",
          "output_type": "stream",
          "text": [
            "Rows with NaN's before dropping: 360301\n",
            "Rows after: 360301\n",
            "Rows dropped: 0\n"
          ]
        }
      ],
      "source": [
        "rows_before = df_new.shape[0]\n",
        "print(\"Rows with NaN's before dropping:\", rows_before)\n",
        "df_new.dropna(inplace=True)\n",
        "df_new.reset_index(drop=True, inplace=True)\n",
        "rows_after = df_new.shape[0]\n",
        "print('Rows after:', rows_after)\n",
        "print('Rows dropped:', rows_before - rows_after)"
      ]
    },
    {
      "cell_type": "markdown",
      "metadata": {},
      "source": [
        "## Create fastText vectors"
      ]
    },
    {
      "cell_type": "code",
      "execution_count": 25,
      "metadata": {},
      "outputs": [],
      "source": [
        "# # create temp file for fastText\n",
        "# df_new.comment_clean_preproc.to_csv('data/fasttext_training_data_tmp.csv',\n",
        "#                                     index=False, header=False)\n",
        "\n",
        "# # run unsupervised learning to get embeddings\n",
        "# ft = fasttext.train_unsupervised('data/fasttext_training_data_tmp.csv')\n",
        "\n",
        "# # delete temp file\n",
        "# os.remove('data/fasttext_training_data_tmp.csv')"
      ]
    },
    {
      "cell_type": "code",
      "execution_count": 26,
      "metadata": {},
      "outputs": [],
      "source": [
        "# # add fastText vectors to df\n",
        "# df_new['ft_vector'] = df_new['comment_clean_preproc']\\\n",
        "#     .map(ft.get_sentence_vector)"
      ]
    },
    {
      "cell_type": "code",
      "execution_count": 27,
      "metadata": {},
      "outputs": [
        {
          "name": "stdout",
          "output_type": "stream",
          "text": [
            "<class 'pandas.core.frame.DataFrame'>\n",
            "RangeIndex: 360301 entries, 0 to 360300\n",
            "Data columns (total 6 columns):\n",
            " #   Column               Non-Null Count   Dtype \n",
            "---  ------               --------------   ----- \n",
            " 0   raw                  360301 non-null  object\n",
            " 1   clean                360301 non-null  object\n",
            " 2   clean_pp             360301 non-null  object\n",
            " 3   clean_pp_lemma       360301 non-null  object\n",
            " 4   clean_pp_lemma_stop  360301 non-null  object\n",
            " 5   toxic                360301 non-null  int64 \n",
            "dtypes: int64(1), object(5)\n",
            "memory usage: 16.5+ MB\n"
          ]
        }
      ],
      "source": [
        "df_new.info()"
      ]
    },
    {
      "cell_type": "markdown",
      "metadata": {},
      "source": [
        "## Save CSV file"
      ]
    },
    {
      "cell_type": "code",
      "execution_count": 28,
      "metadata": {},
      "outputs": [],
      "source": [
        "df_new.to_csv('data/data_usampl_60_40_FINAL.csv', index=False)"
      ]
    },
    {
      "cell_type": "code",
      "execution_count": 29,
      "metadata": {},
      "outputs": [
        {
          "data": {
            "text/html": [
              "<div>\n",
              "<style scoped>\n",
              "    .dataframe tbody tr th:only-of-type {\n",
              "        vertical-align: middle;\n",
              "    }\n",
              "\n",
              "    .dataframe tbody tr th {\n",
              "        vertical-align: top;\n",
              "    }\n",
              "\n",
              "    .dataframe thead th {\n",
              "        text-align: right;\n",
              "    }\n",
              "</style>\n",
              "<table border=\"1\" class=\"dataframe\">\n",
              "  <thead>\n",
              "    <tr style=\"text-align: right;\">\n",
              "      <th></th>\n",
              "      <th>raw</th>\n",
              "      <th>clean</th>\n",
              "      <th>clean_pp</th>\n",
              "      <th>clean_pp_lemma</th>\n",
              "      <th>clean_pp_lemma_stop</th>\n",
              "      <th>toxic</th>\n",
              "    </tr>\n",
              "  </thead>\n",
              "  <tbody>\n",
              "    <tr>\n",
              "      <th>0</th>\n",
              "      <td>Well, what are the chances he will turn out to have been an active proponent of slavery?</td>\n",
              "      <td>Well, what are the chances he will turn out to have been an active proponent of slavery?</td>\n",
              "      <td>well what are the chances he will turn out to have been an active proponent of slavery</td>\n",
              "      <td>well what be the chance he will turn out to have be an active proponent of slavery</td>\n",
              "      <td>chance turn active proponent slavery</td>\n",
              "      <td>0</td>\n",
              "    </tr>\n",
              "    <tr>\n",
              "      <th>1</th>\n",
              "      <td>The moment of critical mass is approaching when the deeds of Gupta &amp; Co, like huge turbine engines slow down, halt and the reverse direction of the wheels of justice are set in motion leaving no hiding room.\\n\\n‘...unintended consequences’…. uneasy sleep ahead for many.</td>\n",
              "      <td>The moment of critical mass is approaching when the deeds of Gupta &amp; Co, like huge turbine engines slow down, halt and the reverse direction of the wheels of justice are set in motion leaving no hiding room. ‘...unintended consequences’…. uneasy sleep ahead for many.</td>\n",
              "      <td>the moment of critical mass is approaching when the deeds of gupta co like huge turbine engines slow down halt and the reverse direction of the wheels of justice are set in motion leaving no hiding room unintended consequences uneasy sleep ahead for many</td>\n",
              "      <td>the moment of critical mass be approach when the deed of gupta co like huge turbine engine slow down halt and the reverse direction of the wheel of justice be set in motion leave no hiding room unintended consequence uneasy sleep ahead for many</td>\n",
              "      <td>moment critical mass approach deed gupta co like huge turbine engine slow halt reverse direction wheel justice set motion leave hiding room unintended consequence uneasy sleep ahead</td>\n",
              "      <td>0</td>\n",
              "    </tr>\n",
              "    <tr>\n",
              "      <th>2</th>\n",
              "      <td>\"Hey listen to me,\" he said. \"I'm not going to put up with your crap about all this.\" He shouldn't have to prove himself to a reporter, he said.\\n\\nUh, actually Ben, you do.  And you didn't.  Buh-bye.</td>\n",
              "      <td>\"Hey listen to me,\" he said. \"I'm not going to put up with your crap about all this.\" He shouldn't have to prove himself to a reporter, he said. Uh, actually Ben, you do. And you didn't. Buh-bye.</td>\n",
              "      <td>hey listen to me he said i 'm not going to put up with your crap about all this he should n't have to prove himself to a reporter he said uh actually ben you do and you did n't buh bye</td>\n",
              "      <td>hey listen to i he say i be not go to put up with your crap about all this he should not have to prove himself to a reporter he say uh actually ben you do and you do not buh bye</td>\n",
              "      <td>hey listen say go crap prove reporter say uh actually ben buh bye</td>\n",
              "      <td>1</td>\n",
              "    </tr>\n",
              "    <tr>\n",
              "      <th>3</th>\n",
              "      <td>We are already owed $488 M plus interest($2Billion) from 2006 audits the state has not collected.\\nhttps://www.adn.com/energy/article/oil-audit-draft/2014/11/20/\\n\\nThis amount of interest doesn't seem correct...\\n\\n'$416 million in taxes, plus another $368 million in interest between 2007 and 2009'\\n\\nWhen oil companies sued the state they wanted $100 M plus $400 M interest from 2006.\\nhttps://www.adn.com/business-economy/energy/2016/12/16/state-wins-case-against-oil-companies-worth-an-estimated-500-million/\\n\\nIs the state interest rate is much lower than the one oil companies set for us, or the legislature is letting them off with only 3 years of interest?\\n\\n \"The new law includes the unbelievable provision that after three years the companies will pay zero additional interest on delinquent taxes.\"\\nhttps://www.adn.com/opinions/2016/11/29/with-pfd-cut-on-the-line-oil-company-arguments-about-fine-points-of-tax-regs-will-backfire/</td>\n",
              "      <td>We are already owed $ M plus interest($ Billion) from audits the state has not collected. This amount of interest doesn't seem correct... '$ million in taxes, plus another $ million in interest between and ' When oil companies sued the state they wanted $ M plus $ M interest from . Is the state interest rate is much lower than the one oil companies set for us, or the legislature is letting them off with only years of interest? \"The new law includes the unbelievable provision that after three years the companies will pay zero additional interest on delinquent taxes.\"</td>\n",
              "      <td>we are already owed $ m plus interest($ billion from audits the state has not collected this amount of interest does n't seem correct $ million in taxes plus another $ million in interest between and when oil companies sued the state they wanted $ m plus $ m interest from is the state interest rate is much lower than the one oil companies set for us or the legislature is letting them off with only years of interest the new law includes the unbelievable provision that after three years the companies will pay zero additional interest on delinquent taxes</td>\n",
              "      <td>we be already owe $ m plus interest($ billion from audits the state have not collect this amount of interest do not seem correct $ million in taxis plus another $ million in interest between and when oil company sue the state they want $ m plus $ m interest from be the state interest rate be much low than the one oil company set for we or the legislature be let they off with only year of interest the new law include the unbelievable provision that after three year the company will pay zero additional interest on delinquent taxis</td>\n",
              "      <td>owe $ m plus interest($ billion audits state collect interest correct $ million taxis plus $ million interest oil company sue state want $ m plus $ m interest state interest rate low oil company set legislature let year interest new law include unbelievable provision year company pay zero additional interest delinquent taxis</td>\n",
              "      <td>0</td>\n",
              "    </tr>\n",
              "    <tr>\n",
              "      <th>4</th>\n",
              "      <td>There is a reason there are no teeth to the law. It is an unlawful law. There is no way anyone can be forced to give someone else free electricity. Not yet at least.\\n\\nYou want to be green , pay for it yourself like every body else must.</td>\n",
              "      <td>There is a reason there are no teeth to the law. It is an unlawful law. There is no way anyone can be forced to give someone else free electricity. Not yet at least. You want to be green , pay for it yourself like every body else must.</td>\n",
              "      <td>there is a reason there are no teeth to the law it is an unlawful law there is no way anyone can be forced to give someone else free electricity not yet at least you want to be green pay for it yourself like every body else must</td>\n",
              "      <td>there be a reason there be no tooth to the law it be an unlawful law there be no way anyone can be force to give someone else free electricity not yet at least you want to be green pay for it yourself like every body else must</td>\n",
              "      <td>reason tooth law unlawful law way force free electricity want green pay like body</td>\n",
              "      <td>0</td>\n",
              "    </tr>\n",
              "    <tr>\n",
              "      <th>...</th>\n",
              "      <td>...</td>\n",
              "      <td>...</td>\n",
              "      <td>...</td>\n",
              "      <td>...</td>\n",
              "      <td>...</td>\n",
              "      <td>...</td>\n",
              "    </tr>\n",
              "    <tr>\n",
              "      <th>360296</th>\n",
              "      <td>Do you still beat your wife? Simple question.</td>\n",
              "      <td>Do you still beat your wife? Simple question.</td>\n",
              "      <td>do you still beat your wife simple question</td>\n",
              "      <td>do you still beat your wife simple question</td>\n",
              "      <td>beat wife simple question</td>\n",
              "      <td>0</td>\n",
              "    </tr>\n",
              "    <tr>\n",
              "      <th>360297</th>\n",
              "      <td>The fascist dictator continues the insanity against all human and civil rights by the National Security State formerly the purview of Hitler, Stalin, Mao, Pol Pot, ad nauseum.</td>\n",
              "      <td>The fascist dictator continues the insanity against all human and civil rights by the National Security State formerly the purview of Hitler, Stalin, Mao, Pol Pot, ad nauseum.</td>\n",
              "      <td>the fascist dictator continues the insanity against all human and civil rights by the national security state formerly the purview of hitler stalin mao pol pot ad nauseum</td>\n",
              "      <td>the fascist dictator continue the insanity against all human and civil right by the national security state formerly the purview of hitler stalin mao pol pot ad nauseum</td>\n",
              "      <td>fascist dictator continue insanity human civil right national security state purview hitler stalin mao pol pot ad nauseum</td>\n",
              "      <td>1</td>\n",
              "    </tr>\n",
              "    <tr>\n",
              "      <th>360298</th>\n",
              "      <td>Sean Hannity is a lightweight foolish commentator on Fox News.  He is in over his head in trying to act tough with the big boys.</td>\n",
              "      <td>Sean Hannity is a lightweight foolish commentator on Fox News. He is in over his head in trying to act tough with the big boys.</td>\n",
              "      <td>sean hannity is a lightweight foolish commentator on fox news he is in over his head in trying to act tough with the big boys</td>\n",
              "      <td>sean hannity be a lightweight foolish commentator on fox news he be in over his head in try to act tough with the big boy</td>\n",
              "      <td>sean hannity lightweight foolish commentator fox news head try act tough big boy</td>\n",
              "      <td>0</td>\n",
              "    </tr>\n",
              "    <tr>\n",
              "      <th>360299</th>\n",
              "      <td>There are a number of countries which make it impossible for their nationals to give up citizenship.  Even if a new Cdn citizen wanted to give up their citizenship in their country of origin they may not be able to.</td>\n",
              "      <td>There are a number of countries which make it impossible for their nationals to give up citizenship. Even if a new Cdn citizen wanted to give up their citizenship in their country of origin they may not be able to.</td>\n",
              "      <td>there are a number of countries which make it impossible for their nationals to give up citizenship even if a new cdn citizen wanted to give up their citizenship in their country of origin they may not be able to</td>\n",
              "      <td>there be a number of country which make it impossible for their national to give up citizenship even if a new cdn citizen want to give up their citizenship in their country of origin they may not be able to</td>\n",
              "      <td>number country impossible national citizenship new cdn citizen want citizenship country origin able</td>\n",
              "      <td>0</td>\n",
              "    </tr>\n",
              "    <tr>\n",
              "      <th>360300</th>\n",
              "      <td>Where's data strategy to track % of foreign buyers?</td>\n",
              "      <td>Where's data strategy to track % of foreign buyers?</td>\n",
              "      <td>where 's data strategy to track of foreign buyers</td>\n",
              "      <td>where 's datum strategy to track of foreign buyer</td>\n",
              "      <td>datum strategy track foreign buyer</td>\n",
              "      <td>0</td>\n",
              "    </tr>\n",
              "  </tbody>\n",
              "</table>\n",
              "<p>360301 rows × 6 columns</p>\n",
              "</div>"
            ],
            "text/plain": [
              "                                                                                                                                                                                                                                                                                                                                                                                                                                                                                                                                                                                                                                                                                                                                                                                                                                                                                                                                                                                       raw  \\\n",
              "0                                                                                                                                                                                                                                                                                                                                                                                                                                                                                                                                                                                                                                                                                                                                                                                                                                                                                                 Well, what are the chances he will turn out to have been an active proponent of slavery?   \n",
              "1                                                                                                                                                                                                                                                                                                                                                                                                                                                                                                                                                                                                                                                                                                           The moment of critical mass is approaching when the deeds of Gupta & Co, like huge turbine engines slow down, halt and the reverse direction of the wheels of justice are set in motion leaving no hiding room.\\n\\n‘...unintended consequences’…. uneasy sleep ahead for many.   \n",
              "2                                                                                                                                                                                                                                                                                                                                                                                                                                                                                                                                                                                                                                                                                                                                                                                 \"Hey listen to me,\" he said. \"I'm not going to put up with your crap about all this.\" He shouldn't have to prove himself to a reporter, he said.\\n\\nUh, actually Ben, you do.  And you didn't.  Buh-bye.   \n",
              "3       We are already owed $488 M plus interest($2Billion) from 2006 audits the state has not collected.\\nhttps://www.adn.com/energy/article/oil-audit-draft/2014/11/20/\\n\\nThis amount of interest doesn't seem correct...\\n\\n'$416 million in taxes, plus another $368 million in interest between 2007 and 2009'\\n\\nWhen oil companies sued the state they wanted $100 M plus $400 M interest from 2006.\\nhttps://www.adn.com/business-economy/energy/2016/12/16/state-wins-case-against-oil-companies-worth-an-estimated-500-million/\\n\\nIs the state interest rate is much lower than the one oil companies set for us, or the legislature is letting them off with only 3 years of interest?\\n\\n \"The new law includes the unbelievable provision that after three years the companies will pay zero additional interest on delinquent taxes.\"\\nhttps://www.adn.com/opinions/2016/11/29/with-pfd-cut-on-the-line-oil-company-arguments-about-fine-points-of-tax-regs-will-backfire/   \n",
              "4                                                                                                                                                                                                                                                                                                                                                                                                                                                                                                                                                                                                                                                                                                                                           There is a reason there are no teeth to the law. It is an unlawful law. There is no way anyone can be forced to give someone else free electricity. Not yet at least.\\n\\nYou want to be green , pay for it yourself like every body else must.   \n",
              "...                                                                                                                                                                                                                                                                                                                                                                                                                                                                                                                                                                                                                                                                                                                                                                                                                                                                                                                                                                                    ...   \n",
              "360296                                                                                                                                                                                                                                                                                                                                                                                                                                                                                                                                                                                                                                                                                                                                                                                                                                                                                                                                       Do you still beat your wife? Simple question.   \n",
              "360297                                                                                                                                                                                                                                                                                                                                                                                                                                                                                                                                                                                                                                                                                                                                                                                                     The fascist dictator continues the insanity against all human and civil rights by the National Security State formerly the purview of Hitler, Stalin, Mao, Pol Pot, ad nauseum.   \n",
              "360298                                                                                                                                                                                                                                                                                                                                                                                                                                                                                                                                                                                                                                                                                                                                                                                                                                                    Sean Hannity is a lightweight foolish commentator on Fox News.  He is in over his head in trying to act tough with the big boys.   \n",
              "360299                                                                                                                                                                                                                                                                                                                                                                                                                                                                                                                                                                                                                                                                                                                                                             There are a number of countries which make it impossible for their nationals to give up citizenship.  Even if a new Cdn citizen wanted to give up their citizenship in their country of origin they may not be able to.   \n",
              "360300                                                                                                                                                                                                                                                                                                                                                                                                                                                                                                                                                                                                                                                                                                                                                                                                                                                                                                                                 Where's data strategy to track % of foreign buyers?   \n",
              "\n",
              "                                                                                                                                                                                                                                                                                                                                                                                                                                                                                                                                                                                                clean  \\\n",
              "0                                                                                                                                                                                                                                                                                                                                                                                                                                                                                                            Well, what are the chances he will turn out to have been an active proponent of slavery?   \n",
              "1                                                                                                                                                                                                                                                                                                                         The moment of critical mass is approaching when the deeds of Gupta & Co, like huge turbine engines slow down, halt and the reverse direction of the wheels of justice are set in motion leaving no hiding room. ‘...unintended consequences’…. uneasy sleep ahead for many.   \n",
              "2                                                                                                                                                                                                                                                                                                                                                                                                 \"Hey listen to me,\" he said. \"I'm not going to put up with your crap about all this.\" He shouldn't have to prove himself to a reporter, he said. Uh, actually Ben, you do. And you didn't. Buh-bye.   \n",
              "3       We are already owed $ M plus interest($ Billion) from audits the state has not collected. This amount of interest doesn't seem correct... '$ million in taxes, plus another $ million in interest between and ' When oil companies sued the state they wanted $ M plus $ M interest from . Is the state interest rate is much lower than the one oil companies set for us, or the legislature is letting them off with only years of interest? \"The new law includes the unbelievable provision that after three years the companies will pay zero additional interest on delinquent taxes.\"    \n",
              "4                                                                                                                                                                                                                                                                                                                                                         There is a reason there are no teeth to the law. It is an unlawful law. There is no way anyone can be forced to give someone else free electricity. Not yet at least. You want to be green , pay for it yourself like every body else must.   \n",
              "...                                                                                                                                                                                                                                                                                                                                                                                                                                                                                                                                                                                               ...   \n",
              "360296                                                                                                                                                                                                                                                                                                                                                                                                                                                                                                                                                  Do you still beat your wife? Simple question.   \n",
              "360297                                                                                                                                                                                                                                                                                                                                                                                                                The fascist dictator continues the insanity against all human and civil rights by the National Security State formerly the purview of Hitler, Stalin, Mao, Pol Pot, ad nauseum.   \n",
              "360298                                                                                                                                                                                                                                                                                                                                                                                                                                                                Sean Hannity is a lightweight foolish commentator on Fox News. He is in over his head in trying to act tough with the big boys.   \n",
              "360299                                                                                                                                                                                                                                                                                                                                                                         There are a number of countries which make it impossible for their nationals to give up citizenship. Even if a new Cdn citizen wanted to give up their citizenship in their country of origin they may not be able to.   \n",
              "360300                                                                                                                                                                                                                                                                                                                                                                                                                                                                                                                                            Where's data strategy to track % of foreign buyers?   \n",
              "\n",
              "                                                                                                                                                                                                                                                                                                                                                                                                                                                                                                                                                                             clean_pp  \\\n",
              "0                                                                                                                                                                                                                                                                                                                                                                                                                                                                                              well what are the chances he will turn out to have been an active proponent of slavery   \n",
              "1                                                                                                                                                                                                                                                                                                                      the moment of critical mass is approaching when the deeds of gupta co like huge turbine engines slow down halt and the reverse direction of the wheels of justice are set in motion leaving no hiding room unintended consequences uneasy sleep ahead for many   \n",
              "2                                                                                                                                                                                                                                                                                                                                                                                            hey listen to me he said i 'm not going to put up with your crap about all this he should n't have to prove himself to a reporter he said uh actually ben you do and you did n't buh bye   \n",
              "3       we are already owed $ m plus interest($ billion from audits the state has not collected this amount of interest does n't seem correct $ million in taxes plus another $ million in interest between and when oil companies sued the state they wanted $ m plus $ m interest from is the state interest rate is much lower than the one oil companies set for us or the legislature is letting them off with only years of interest the new law includes the unbelievable provision that after three years the companies will pay zero additional interest on delinquent taxes   \n",
              "4                                                                                                                                                                                                                                                                                                                                                there is a reason there are no teeth to the law it is an unlawful law there is no way anyone can be forced to give someone else free electricity not yet at least you want to be green pay for it yourself like every body else must   \n",
              "...                                                                                                                                                                                                                                                                                                                                                                                                                                                                                                                                                                               ...   \n",
              "360296                                                                                                                                                                                                                                                                                                                                                                                                                                                                                                                                    do you still beat your wife simple question   \n",
              "360297                                                                                                                                                                                                                                                                                                                                                                                                     the fascist dictator continues the insanity against all human and civil rights by the national security state formerly the purview of hitler stalin mao pol pot ad nauseum   \n",
              "360298                                                                                                                                                                                                                                                                                                                                                                                                                                                  sean hannity is a lightweight foolish commentator on fox news he is in over his head in trying to act tough with the big boys   \n",
              "360299                                                                                                                                                                                                                                                                                                                                                           there are a number of countries which make it impossible for their nationals to give up citizenship even if a new cdn citizen wanted to give up their citizenship in their country of origin they may not be able to   \n",
              "360300                                                                                                                                                                                                                                                                                                                                                                                                                                                                                                                              where 's data strategy to track of foreign buyers   \n",
              "\n",
              "                                                                                                                                                                                                                                                                                                                                                                                                                                                                                                                                                clean_pp_lemma  \\\n",
              "0                                                                                                                                                                                                                                                                                                                                                                                                                                                                           well what be the chance he will turn out to have be an active proponent of slavery   \n",
              "1                                                                                                                                                                                                                                                                                                         the moment of critical mass be approach when the deed of gupta co like huge turbine engine slow down halt and the reverse direction of the wheel of justice be set in motion leave no hiding room unintended consequence uneasy sleep ahead for many   \n",
              "2                                                                                                                                                                                                                                                                                                                                                                            hey listen to i he say i be not go to put up with your crap about all this he should not have to prove himself to a reporter he say uh actually ben you do and you do not buh bye   \n",
              "3       we be already owe $ m plus interest($ billion from audits the state have not collect this amount of interest do not seem correct $ million in taxis plus another $ million in interest between and when oil company sue the state they want $ m plus $ m interest from be the state interest rate be much low than the one oil company set for we or the legislature be let they off with only year of interest the new law include the unbelievable provision that after three year the company will pay zero additional interest on delinquent taxis   \n",
              "4                                                                                                                                                                                                                                                                                                                           there be a reason there be no tooth to the law it be an unlawful law there be no way anyone can be force to give someone else free electricity not yet at least you want to be green pay for it yourself like every body else must   \n",
              "...                                                                                                                                                                                                                                                                                                                                                                                                                                                                                                                                                        ...   \n",
              "360296                                                                                                                                                                                                                                                                                                                                                                                                                                                                                                             do you still beat your wife simple question   \n",
              "360297                                                                                                                                                                                                                                                                                                                                                                                the fascist dictator continue the insanity against all human and civil right by the national security state formerly the purview of hitler stalin mao pol pot ad nauseum   \n",
              "360298                                                                                                                                                                                                                                                                                                                                                                                                                               sean hannity be a lightweight foolish commentator on fox news he be in over his head in try to act tough with the big boy   \n",
              "360299                                                                                                                                                                                                                                                                                                                                          there be a number of country which make it impossible for their national to give up citizenship even if a new cdn citizen want to give up their citizenship in their country of origin they may not be able to   \n",
              "360300                                                                                                                                                                                                                                                                                                                                                                                                                                                                                                       where 's datum strategy to track of foreign buyer   \n",
              "\n",
              "                                                                                                                                                                                                                                                                                                                           clean_pp_lemma_stop  \\\n",
              "0                                                                                                                                                                                                                                                                                                         chance turn active proponent slavery   \n",
              "1                                                                                                                                                        moment critical mass approach deed gupta co like huge turbine engine slow halt reverse direction wheel justice set motion leave hiding room unintended consequence uneasy sleep ahead   \n",
              "2                                                                                                                                                                                                                                                                            hey listen say go crap prove reporter say uh actually ben buh bye   \n",
              "3       owe $ m plus interest($ billion audits state collect interest correct $ million taxis plus $ million interest oil company sue state want $ m plus $ m interest state interest rate low oil company set legislature let year interest new law include unbelievable provision year company pay zero additional interest delinquent taxis   \n",
              "4                                                                                                                                                                                                                                                            reason tooth law unlawful law way force free electricity want green pay like body   \n",
              "...                                                                                                                                                                                                                                                                                                                                        ...   \n",
              "360296                                                                                                                                                                                                                                                                                                               beat wife simple question   \n",
              "360297                                                                                                                                                                                                               fascist dictator continue insanity human civil right national security state purview hitler stalin mao pol pot ad nauseum   \n",
              "360298                                                                                                                                                                                                                                                        sean hannity lightweight foolish commentator fox news head try act tough big boy   \n",
              "360299                                                                                                                                                                                                                                     number country impossible national citizenship new cdn citizen want citizenship country origin able   \n",
              "360300                                                                                                                                                                                                                                                                                                      datum strategy track foreign buyer   \n",
              "\n",
              "        toxic  \n",
              "0           0  \n",
              "1           0  \n",
              "2           1  \n",
              "3           0  \n",
              "4           0  \n",
              "...       ...  \n",
              "360296      0  \n",
              "360297      1  \n",
              "360298      0  \n",
              "360299      0  \n",
              "360300      0  \n",
              "\n",
              "[360301 rows x 6 columns]"
            ]
          },
          "execution_count": 29,
          "metadata": {},
          "output_type": "execute_result"
        }
      ],
      "source": [
        "pd.read_csv('data/data_usampl_60_40_FINAL.csv')"
      ]
    }
  ],
  "metadata": {
    "colab": {
      "provenance": []
    },
    "kernelspec": {
      "display_name": "Python 3",
      "name": "python3"
    },
    "language_info": {
      "codemirror_mode": {
        "name": "ipython",
        "version": 3
      },
      "file_extension": ".py",
      "mimetype": "text/x-python",
      "name": "python",
      "nbconvert_exporter": "python",
      "pygments_lexer": "ipython3",
      "version": "3.11.3"
    }
  },
  "nbformat": 4,
  "nbformat_minor": 0
}
