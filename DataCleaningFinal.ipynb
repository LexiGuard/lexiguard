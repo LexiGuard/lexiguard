{
 "cells": [
  {
   "cell_type": "markdown",
   "metadata": {},
   "source": [
    "## <span style=\"color: yellow;\"><b>Data Cleaning</b></span>\n"
   ]
  },
  {
   "cell_type": "markdown",
   "metadata": {},
   "source": [
    "### Import"
   ]
  },
  {
   "cell_type": "code",
   "execution_count": null,
   "metadata": {},
   "outputs": [],
   "source": [
    "import pandas as pd"
   ]
  },
  {
   "cell_type": "markdown",
   "metadata": {},
   "source": [
    "### Data from all_data.csv to merged"
   ]
  },
  {
   "cell_type": "code",
   "execution_count": null,
   "metadata": {},
   "outputs": [],
   "source": [
    "merged = pd.read_csv('data/all_data.csv')"
   ]
  },
  {
   "cell_type": "code",
   "execution_count": null,
   "metadata": {},
   "outputs": [],
   "source": [
    "print(f'No of Columns : {len(merged.columns)}')\n",
    "print(f'No of Rows : {len(merged)}')"
   ]
  },
  {
   "cell_type": "code",
   "execution_count": null,
   "metadata": {},
   "outputs": [],
   "source": [
    "merged.isnull().sum()"
   ]
  },
  {
   "cell_type": "markdown",
   "metadata": {},
   "source": [
    "### Data Cleaning"
   ]
  },
  {
   "cell_type": "code",
   "execution_count": null,
   "metadata": {},
   "outputs": [],
   "source": [
    "# Step 1 - Add new column toxic, toxicity >= 0.5 then toxic = 1 otherwise toxic = 0\n",
    "\n",
    "merged['toxic'] = (merged['toxicity'] >= 0.5).astype(int)"
   ]
  },
  {
   "cell_type": "code",
   "execution_count": null,
   "metadata": {},
   "outputs": [],
   "source": [
    "merged['toxic'].unique()"
   ]
  },
  {
   "cell_type": "code",
   "execution_count": null,
   "metadata": {},
   "outputs": [],
   "source": [
    "merged['toxicity'].unique()"
   ]
  },
  {
   "cell_type": "code",
   "execution_count": null,
   "metadata": {},
   "outputs": [],
   "source": [
    "# Step 2\n",
    "# drop rows for below columns where values are NaNs\n",
    "\n",
    "columns_to_check = ['asian', 'atheist', 'bisexual', 'black', 'buddhist', 'christian',\n",
    "                    'female', 'heterosexual', 'hindu', 'homosexual_gay_or_lesbian',\n",
    "                    'intellectual_or_learning_disability', 'jewish', 'latino', 'male',\n",
    "                    'muslim', 'other_disability', 'other_gender', 'other_race_or_ethnicity',\n",
    "                    'other_religion', 'other_sexual_orientation', 'physical_disability',\n",
    "                    'psychiatric_or_mental_illness', 'transgender', 'white']\n",
    "\n",
    "# Drop rows where all specified columns have NaN values\n",
    "merged.dropna(subset=columns_to_check, how='all', inplace=True)\n",
    "\n"
   ]
  },
  {
   "cell_type": "code",
   "execution_count": null,
   "metadata": {},
   "outputs": [],
   "source": [
    "# Step 3 - Drop columns parent_id, publication_id, article_id\n",
    "\n",
    "columns_to_drop = ['parent_id', 'publication_id', 'article_id']\n",
    "merged = merged.drop(columns=columns_to_drop)"
   ]
  },
  {
   "cell_type": "code",
   "execution_count": null,
   "metadata": {},
   "outputs": [],
   "source": [
    "# Step 4 - remove NaNs columns of comment_text\n",
    "\n",
    "# comment_text                                2\n",
    "# 2 rows having NaNs\n",
    "\n",
    "\n",
    "merged = merged.dropna(subset=['comment_text'])\n"
   ]
  },
  {
   "cell_type": "code",
   "execution_count": null,
   "metadata": {},
   "outputs": [],
   "source": [
    "# Step 5 - create .csv file from merged dataset\n",
    "\n",
    "merged.to_csv('data/merged_data.csv', index=False)"
   ]
  },
  {
   "cell_type": "markdown",
   "metadata": {},
   "source": [
    "### Checking how the data is balanced"
   ]
  },
  {
   "cell_type": "code",
   "execution_count": null,
   "metadata": {},
   "outputs": [],
   "source": [
    "# Checking how the data is balanced\n",
    "toxic_counts = merged['toxic'].value_counts()\n",
    "print(toxic_counts)\n",
    "\n",
    "toxic_percentages = ((toxic_counts / len(merged)) * 100).round(1)\n",
    "print(toxic_percentages)"
   ]
  },
  {
   "cell_type": "markdown",
   "metadata": {},
   "source": [
    "<span style=\"color: yellow;\"><b>Imbalanced data. Work on this after EDA</b></span>"
   ]
  },
  {
   "cell_type": "markdown",
   "metadata": {},
   "source": [
    "### No of rows and columns after Data Cleaning"
   ]
  },
  {
   "cell_type": "code",
   "execution_count": null,
   "metadata": {},
   "outputs": [],
   "source": [
    "print(f'No of Columns : {len(merged.columns)}')\n",
    "print(f'No of Rows : {len(merged)}')"
   ]
  }
 ],
 "metadata": {
  "interpreter": {
   "hash": "7ee5ce8695951d3743acb1574d7cbc518a435066b16546d59d44a9748127e061"
  },
  "kernelspec": {
   "display_name": "Python 3 (ipykernel)",
   "language": "python",
   "name": "python3"
  },
  "language_info": {
   "codemirror_mode": {
    "name": "ipython",
    "version": 3
   },
   "file_extension": ".py",
   "mimetype": "text/x-python",
   "name": "python",
   "nbconvert_exporter": "python",
   "pygments_lexer": "ipython3",
   "version": "3.11.3"
  }
 },
 "nbformat": 4,
 "nbformat_minor": 4
}
