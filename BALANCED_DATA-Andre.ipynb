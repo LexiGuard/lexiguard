{
 "cells": [
  {
   "cell_type": "markdown",
   "metadata": {},
   "source": [
    "# Balancing data"
   ]
  },
  {
   "cell_type": "markdown",
   "metadata": {},
   "source": [
    "## Import"
   ]
  },
  {
   "cell_type": "code",
   "execution_count": 1,
   "metadata": {},
   "outputs": [],
   "source": [
    "import pandas as pd\n",
    "import numpy as np\n",
    "\n",
    "# Under Sampling\n",
    "from imblearn.under_sampling import RandomUnderSampler"
   ]
  },
  {
   "cell_type": "markdown",
   "metadata": {},
   "source": [
    "## Load Data"
   ]
  },
  {
   "cell_type": "code",
   "execution_count": 2,
   "metadata": {},
   "outputs": [],
   "source": [
    "data = pd.read_csv('data/train.csv') #nrows=1000)\n",
    "\n",
    "# Drop rows with null values in comment_text\n",
    "df_cleaned = data.dropna(subset=['comment_text'])\n",
    "df_train = df_cleaned[['comment_text','target']]\n",
    "\n",
    "# Add new column toxic, toxicity >= 0.5 then toxic = 1 otherwise toxic = 0\n",
    "df_train = df_train.copy()\n",
    "df_train['toxic'] = np.where(df_train['target'] >= 0.50, 1, 0)\n",
    "\n",
    "# Just remains toxic and comment_text\n",
    "df_train = df_train.drop(['target'], axis=1)"
   ]
  },
  {
   "cell_type": "markdown",
   "metadata": {},
   "source": [
    "## Showing Unbalanced data"
   ]
  },
  {
   "cell_type": "code",
   "execution_count": 3,
   "metadata": {},
   "outputs": [
    {
     "name": "stdout",
     "output_type": "stream",
     "text": [
      "         Count Percentage\n",
      "toxic                    \n",
      "0      1660537     92.00%\n",
      "1       144334      8.00%\n"
     ]
    }
   ],
   "source": [
    "# Get counts and percentages\n",
    "counts = df_train['toxic'].value_counts()\n",
    "percentages = df_train['toxic'].value_counts(normalize=True) * 100\n",
    "# Display counts and percentages\n",
    "result_df = pd.DataFrame({'Count': counts, 'Percentage': percentages})\n",
    "result_df['Percentage'] = result_df['Percentage'].map('{:.2f}%'.format)\n",
    "print(result_df)"
   ]
  },
  {
   "cell_type": "markdown",
   "metadata": {},
   "source": [
    "##  Random Under Sampling"
   ]
  },
  {
   "cell_type": "code",
   "execution_count": 4,
   "metadata": {},
   "outputs": [],
   "source": [
    "# Define X and y\n",
    "X = df_train['comment_text']\n",
    "y = df_train['toxic']\n",
    "\n",
    "# Proportion for the minority class (toxic)\n",
    "proportion = 0.4  #40% of the data will be toxic\n",
    "\n",
    "# Instantiate RandomUnderSampler\n",
    "under_sampler = RandomUnderSampler(sampling_strategy=proportion, random_state=42)\n",
    "\n",
    "# Fit and transform the data\n",
    "X_resampled, y_resampled = under_sampler.fit_resample(X.to_frame(), y)\n",
    "\n",
    "# Create a new DataFrame with the resampled data\n",
    "df_resampled = pd.concat([X_resampled, y_resampled], axis=1)"
   ]
  },
  {
   "cell_type": "code",
   "execution_count": 5,
   "metadata": {},
   "outputs": [
    {
     "name": "stdout",
     "output_type": "stream",
     "text": [
      "        Count Percentage\n",
      "toxic                   \n",
      "0      360835     71.43%\n",
      "1      144334     28.57%\n"
     ]
    }
   ],
   "source": [
    "# Get counts and percentages\n",
    "counts = df_resampled['toxic'].value_counts()\n",
    "percentages = df_resampled['toxic'].value_counts(normalize=True) * 100\n",
    "# Display counts and percentages\n",
    "result_df = pd.DataFrame({'Count': counts, 'Percentage': percentages})\n",
    "result_df['Percentage'] = result_df['Percentage'].map('{:.2f}%'.format)\n",
    "print(result_df)"
   ]
  },
  {
   "cell_type": "markdown",
   "metadata": {},
   "source": [
    "## Manual Under Sampling"
   ]
  },
  {
   "cell_type": "code",
   "execution_count": 6,
   "metadata": {},
   "outputs": [],
   "source": [
    "# Define the desired proportions\n",
    "proportion_toxic = 0.4  # 40% will be toxic\n",
    "proportion_non_toxic = 0.6  # 60% will be non-toxic\n",
    "\n",
    "# Separate the data into toxic and non-toxic\n",
    "toxic_data = df_train[y == 1]\n",
    "non_toxic_data = df_train[y == 0]\n",
    "\n",
    "# Calculate the number of samples for each class\n",
    "num_toxic_samples = int(len(df_train) * proportion_toxic)\n",
    "num_non_toxic_samples = int(len(df_train) * proportion_non_toxic)\n",
    "\n",
    "# Randomly sample the data with replacement\n",
    "sampled_toxic_data = toxic_data.sample(n=num_toxic_samples, replace=True, random_state=42)\n",
    "sampled_non_toxic_data = non_toxic_data.sample(n=num_non_toxic_samples, replace=True, random_state=42)\n",
    "\n",
    "# Concatenate the sampled data\n",
    "df_resampled_manual = pd.concat([sampled_toxic_data, sampled_non_toxic_data])\n",
    "\n",
    "# Shuffle the rows of the resulting DataFrame\n",
    "df_resampled_manual = df_resampled_manual.sample(frac=1, random_state=42).reset_index(drop=True)"
   ]
  },
  {
   "cell_type": "code",
   "execution_count": 7,
   "metadata": {},
   "outputs": [
    {
     "name": "stdout",
     "output_type": "stream",
     "text": [
      "         Count Percentage\n",
      "toxic                    \n",
      "0      1082922     60.00%\n",
      "1       721948     40.00%\n"
     ]
    }
   ],
   "source": [
    "# Get counts and percentages\n",
    "counts = df_resampled_manual['toxic'].value_counts()\n",
    "percentages = df_resampled_manual['toxic'].value_counts(normalize=True) * 100\n",
    "# Display counts and percentages\n",
    "result_df = pd.DataFrame({'Count': counts, 'Percentage': percentages})\n",
    "result_df['Percentage'] = result_df['Percentage'].map('{:.2f}%'.format)\n",
    "print(result_df)"
   ]
  },
  {
   "cell_type": "markdown",
   "metadata": {},
   "source": [
    "## Manual 2 Under Sampling"
   ]
  },
  {
   "cell_type": "code",
   "execution_count": 8,
   "metadata": {},
   "outputs": [],
   "source": [
    "# Calculate the undersample size for class 0\n",
    "undersample_size_0 = int(df_train['toxic'].value_counts()[1] / 0.3 * 0.7)\n",
    "\n",
    "# Undersample class 0 and keep all samples from class 1\n",
    "undersampled_data = pd.concat([\n",
    "    df_train[df_train['toxic'] == 0].sample(n=undersample_size_0, random_state=42),\n",
    "    df_train[df_train['toxic'] == 1]],\n",
    "    ignore_index=True)\n",
    "\n",
    "# Shuffle the undersampled data\n",
    "undersampled_data = undersampled_data.sample(frac=1, random_state=42)\n"
   ]
  },
  {
   "cell_type": "code",
   "execution_count": 9,
   "metadata": {},
   "outputs": [
    {
     "name": "stdout",
     "output_type": "stream",
     "text": [
      "        Count Percentage\n",
      "toxic                   \n",
      "0      336779     70.00%\n",
      "1      144334     30.00%\n"
     ]
    }
   ],
   "source": [
    "# Get counts and percentages\n",
    "counts = undersampled_data['toxic'].value_counts()\n",
    "percentages = undersampled_data['toxic'].value_counts(normalize=True) * 100\n",
    "# Display counts and percentages\n",
    "result_df = pd.DataFrame({'Count': counts, 'Percentage': percentages})\n",
    "result_df['Percentage'] = result_df['Percentage'].map('{:.2f}%'.format)\n",
    "print(result_df)"
   ]
  }
 ],
 "metadata": {
  "kernelspec": {
   "display_name": ".venv",
   "language": "python",
   "name": "python3"
  },
  "language_info": {
   "codemirror_mode": {
    "name": "ipython",
    "version": 3
   },
   "file_extension": ".py",
   "mimetype": "text/x-python",
   "name": "python",
   "nbconvert_exporter": "python",
   "pygments_lexer": "ipython3",
   "version": "3.11.3"
  }
 },
 "nbformat": 4,
 "nbformat_minor": 2
}
