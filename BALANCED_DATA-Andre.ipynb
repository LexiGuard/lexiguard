{
 "cells": [
  {
   "cell_type": "markdown",
   "metadata": {},
   "source": [
    "# Balancing data"
   ]
  },
  {
   "cell_type": "markdown",
   "metadata": {},
   "source": [
    "## Import"
   ]
  },
  {
   "cell_type": "code",
   "execution_count": 1,
   "metadata": {},
   "outputs": [],
   "source": [
    "import pandas as pd\n",
    "import numpy as np\n",
    "\n",
    "# Under Sampling\n",
    "from imblearn.under_sampling import RandomUnderSampler"
   ]
  },
  {
   "cell_type": "markdown",
   "metadata": {},
   "source": [
    "## Load and clean Data"
   ]
  },
  {
   "cell_type": "code",
   "execution_count": 3,
   "metadata": {},
   "outputs": [],
   "source": [
    "# Read all data\n",
    "data = pd.read_csv('data/pos_data.csv')"
   ]
  },
  {
   "cell_type": "code",
   "execution_count": 5,
   "metadata": {},
   "outputs": [],
   "source": [
    "# Drop columns\n",
    "data.drop(['id', 'split', 'created_date', 'publication_id',\n",
    "       'parent_id', 'article_id', 'rating', 'funny', 'wow', 'sad', 'likes',\n",
    "       'disagree', 'severe_toxicity', 'obscene', 'sexual_explicit',\n",
    "       'identity_attack', 'insult', 'threat', 'male', 'female', 'transgender',\n",
    "       'other_gender', 'heterosexual', 'homosexual_gay_or_lesbian', 'bisexual',\n",
    "       'other_sexual_orientation', 'christian', 'jewish', 'muslim', 'hindu',\n",
    "       'buddhist', 'atheist', 'other_religion', 'black', 'white', 'asian',\n",
    "       'latino', 'other_race_or_ethnicity', 'physical_disability',\n",
    "       'intellectual_or_learning_disability', 'psychiatric_or_mental_illness',\n",
    "       'other_disability', 'identity_annotator_count',\n",
    "       'toxicity_annotator_count'], axis=1, inplace=True)"
   ]
  },
  {
   "cell_type": "code",
   "execution_count": 7,
   "metadata": {},
   "outputs": [],
   "source": [
    "# Drop rows with null values\n",
    "df_cleaned = data.dropna(subset=['comment_text'])\n",
    "\n",
    "# Add new column toxic, toxicity >= 0.5 then toxic = 1 otherwise toxic = 0\n",
    "df_train = df_cleaned.copy()\n",
    "df_train['toxic'] = np.where(df_train['toxicity'] >= 0.50, 1, 0)"
   ]
  },
  {
   "cell_type": "markdown",
   "metadata": {},
   "source": [
    "## Showing Unbalanced data"
   ]
  },
  {
   "cell_type": "code",
   "execution_count": 9,
   "metadata": {},
   "outputs": [
    {
     "name": "stdout",
     "output_type": "stream",
     "text": [
      "         Count Percentage\n",
      "toxic                    \n",
      "0      1839730     92.01%\n",
      "1       159782      7.99%\n"
     ]
    }
   ],
   "source": [
    "# Show Unbalanced Data\n",
    "# Get counts and percentages\n",
    "counts = df_train['toxic'].value_counts()\n",
    "percentages = df_train['toxic'].value_counts(normalize=True) * 100\n",
    "# Display counts and percentages\n",
    "result_df = pd.DataFrame({'Count': counts, 'Percentage': percentages})\n",
    "result_df['Percentage'] = result_df['Percentage'].map('{:.2f}%'.format)\n",
    "print(result_df)"
   ]
  },
  {
   "cell_type": "markdown",
   "metadata": {},
   "source": [
    "## NOT WORKING"
   ]
  },
  {
   "cell_type": "markdown",
   "metadata": {},
   "source": [
    "### <span style=\"color:red\"> Random Under Sampling </span>"
   ]
  },
  {
   "cell_type": "code",
   "execution_count": null,
   "metadata": {},
   "outputs": [],
   "source": [
    "'''# Define X and y\n",
    "X = df_train['comment_text']\n",
    "y = df_train['toxic']\n",
    "\n",
    "# Proportion for the minority class (toxic)\n",
    "proportion = 0.4  #40% of the data will be toxic\n",
    "\n",
    "# Instantiate RandomUnderSampler\n",
    "under_sampler = RandomUnderSampler(sampling_strategy=proportion, random_state=42)\n",
    "\n",
    "# Fit and transform the data\n",
    "X_resampled, y_resampled = under_sampler.fit_resample(X.to_frame(), y)\n",
    "\n",
    "# Create a new DataFrame with the resampled data\n",
    "df_resampled = pd.concat([X_resampled, y_resampled], axis=1)'''"
   ]
  },
  {
   "cell_type": "code",
   "execution_count": null,
   "metadata": {},
   "outputs": [],
   "source": [
    "'''# Get counts and percentages\n",
    "counts = df_resampled['toxic'].value_counts()\n",
    "percentages = df_resampled['toxic'].value_counts(normalize=True) * 100\n",
    "# Display counts and percentages\n",
    "result_df = pd.DataFrame({'Count': counts, 'Percentage': percentages})\n",
    "result_df['Percentage'] = result_df['Percentage'].map('{:.2f}%'.format)\n",
    "print(result_df)'''"
   ]
  },
  {
   "cell_type": "markdown",
   "metadata": {},
   "source": [
    "### <span style=\"color:red\">Manual Under Sampling</span>"
   ]
  },
  {
   "cell_type": "code",
   "execution_count": null,
   "metadata": {},
   "outputs": [],
   "source": [
    "'''# Define the desired proportions\n",
    "proportion_toxic = 0.4  # 40% will be toxic\n",
    "proportion_non_toxic = 0.6  # 60% will be non-toxic\n",
    "\n",
    "# Separate the data into toxic and non-toxic\n",
    "toxic_data = df_train[y == 1]\n",
    "non_toxic_data = df_train[y == 0]\n",
    "\n",
    "# Calculate the number of samples for each class\n",
    "num_toxic_samples = int(len(df_train) * proportion_toxic)\n",
    "num_non_toxic_samples = int(len(df_train) * proportion_non_toxic)\n",
    "\n",
    "# Randomly sample the data with replacement\n",
    "sampled_toxic_data = toxic_data.sample(n=num_toxic_samples, replace=True, random_state=42)\n",
    "sampled_non_toxic_data = non_toxic_data.sample(n=num_non_toxic_samples, replace=True, random_state=42)\n",
    "\n",
    "# Concatenate the sampled data\n",
    "df_resampled_manual = pd.concat([sampled_toxic_data, sampled_non_toxic_data])\n",
    "\n",
    "# Shuffle the rows of the resulting DataFrame\n",
    "df_resampled_manual = df_resampled_manual.sample(frac=1, random_state=42).reset_index(drop=True)'''"
   ]
  },
  {
   "cell_type": "code",
   "execution_count": null,
   "metadata": {},
   "outputs": [],
   "source": [
    "'''# Get counts and percentages\n",
    "counts = df_resampled_manual['toxic'].value_counts()\n",
    "percentages = df_resampled_manual['toxic'].value_counts(normalize=True) * 100\n",
    "# Display counts and percentages\n",
    "result_df = pd.DataFrame({'Count': counts, 'Percentage': percentages})\n",
    "result_df['Percentage'] = result_df['Percentage'].map('{:.2f}%'.format)\n",
    "print(result_df)'''"
   ]
  },
  {
   "cell_type": "markdown",
   "metadata": {},
   "source": [
    "## Manual 2 Under Sampling"
   ]
  },
  {
   "cell_type": "code",
   "execution_count": 10,
   "metadata": {},
   "outputs": [],
   "source": [
    "# Calculate the undersample size for class 0\n",
    "undersample_size_0 = int(df_train['toxic'].value_counts()[1] / 0.4 * 0.6)\n",
    "\n",
    "# Undersample class 0 and keep all samples from class 1\n",
    "undersampled_data = pd.concat([\n",
    "    df_train[df_train['toxic'] == 0].sample(n=undersample_size_0, random_state=42),\n",
    "    df_train[df_train['toxic'] == 1]],\n",
    "    ignore_index=True)\n",
    "\n",
    "# Shuffle the undersampled data\n",
    "undersampled_data = undersampled_data.sample(frac=1, random_state=42)\n"
   ]
  },
  {
   "cell_type": "code",
   "execution_count": 17,
   "metadata": {},
   "outputs": [
    {
     "name": "stdout",
     "output_type": "stream",
     "text": [
      "        Count Percentage\n",
      "toxic                   \n",
      "0      239673     60.00%\n",
      "1      159782     40.00%\n"
     ]
    }
   ],
   "source": [
    "# Get counts and percentages\n",
    "counts = undersampled_data['toxic'].value_counts()\n",
    "percentages = undersampled_data['toxic'].value_counts(normalize=True) * 100\n",
    "# Display counts and percentages\n",
    "result_df = pd.DataFrame({'Count': counts, 'Percentage': percentages})\n",
    "result_df['Percentage'] = result_df['Percentage'].map('{:.2f}%'.format)\n",
    "print(result_df)"
   ]
  },
  {
   "cell_type": "code",
   "execution_count": 14,
   "metadata": {},
   "outputs": [],
   "source": [
    "# undersampled_data.to_csv('data/undersampled_data_60_40.csv', index=False)"
   ]
  }
 ],
 "metadata": {
  "kernelspec": {
   "display_name": ".venv",
   "language": "python",
   "name": "python3"
  },
  "language_info": {
   "codemirror_mode": {
    "name": "ipython",
    "version": 3
   },
   "file_extension": ".py",
   "mimetype": "text/x-python",
   "name": "python",
   "nbconvert_exporter": "python",
   "pygments_lexer": "ipython3",
   "version": "3.11.3"
  }
 },
 "nbformat": 4,
 "nbformat_minor": 2
}
