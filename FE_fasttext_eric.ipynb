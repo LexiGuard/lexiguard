{
 "cells": [
  {
   "cell_type": "markdown",
   "metadata": {},
   "source": [
    "## Set up"
   ]
  },
  {
   "cell_type": "code",
   "execution_count": 148,
   "metadata": {},
   "outputs": [],
   "source": [
    "import pandas as pd\n",
    "from tqdm import tqdm\n",
    "from sklearn.model_selection import train_test_split\n",
    "import fasttext\n",
    "import numpy as np\n",
    "from sklearn.model_selection import train_test_split\n",
    "from imblearn.over_sampling import SMOTE\n",
    "from sklearn.linear_model import LogisticRegression\n",
    "from sklearn.metrics import classification_report\n",
    "import matplotlib.pyplot as plt\n",
    "import seaborn as sns\n",
    "from sklearn.metrics import confusion_matrix\n"
   ]
  },
  {
   "cell_type": "markdown",
   "metadata": {},
   "source": [
    "## Get data"
   ]
  },
  {
   "cell_type": "markdown",
   "metadata": {},
   "source": [
    "The data was cleaned and pre-processed already in data_preprocess_eric"
   ]
  },
  {
   "cell_type": "code",
   "execution_count": 2,
   "metadata": {},
   "outputs": [
    {
     "data": {
      "text/html": [
       "<div>\n",
       "<style scoped>\n",
       "    .dataframe tbody tr th:only-of-type {\n",
       "        vertical-align: middle;\n",
       "    }\n",
       "\n",
       "    .dataframe tbody tr th {\n",
       "        vertical-align: top;\n",
       "    }\n",
       "\n",
       "    .dataframe thead th {\n",
       "        text-align: right;\n",
       "    }\n",
       "</style>\n",
       "<table border=\"1\" class=\"dataframe\">\n",
       "  <thead>\n",
       "    <tr style=\"text-align: right;\">\n",
       "      <th></th>\n",
       "      <th>comment_text</th>\n",
       "      <th>toxic</th>\n",
       "      <th>stopwords_punct_lemma</th>\n",
       "      <th>vector_spacy</th>\n",
       "      <th>pos_tags</th>\n",
       "      <th>pos_tags_str</th>\n",
       "    </tr>\n",
       "  </thead>\n",
       "  <tbody>\n",
       "    <tr>\n",
       "      <th>0</th>\n",
       "      <td>This is so cool. It's like, 'would you want yo...</td>\n",
       "      <td>0</td>\n",
       "      <td>cool like want mother read great idea</td>\n",
       "      <td>[ 0.57358134  0.40742856 -2.652657   -2.634505...</td>\n",
       "      <td>[('This', 'DT'), ('is', 'VBZ'), ('so', 'RB'), ...</td>\n",
       "      <td>DT VBZ RB JJ . PRP VBZ IN , FW PRP VBP PRP$ NN...</td>\n",
       "    </tr>\n",
       "    <tr>\n",
       "      <th>1</th>\n",
       "      <td>Thank you!! This would make my life a lot less...</td>\n",
       "      <td>0</td>\n",
       "      <td>thank life lot anxiety inducing let way</td>\n",
       "      <td>[ 2.39850569e+00  8.94715786e-02 -3.68755722e+...</td>\n",
       "      <td>[('Thank', 'NNP'), ('you', 'PRP'), ('!', '.'),...</td>\n",
       "      <td>NNP PRP . . DT MD VB PRP$ NN DT NN JJR JJ . VB...</td>\n",
       "    </tr>\n",
       "    <tr>\n",
       "      <th>2</th>\n",
       "      <td>This is such an urgent design problem; kudos t...</td>\n",
       "      <td>0</td>\n",
       "      <td>urgent design problem kudo take impressive</td>\n",
       "      <td>[ 0.9049366   1.0650175  -1.8506068  -0.667853...</td>\n",
       "      <td>[('This', 'DT'), ('is', 'VBZ'), ('such', 'JJ')...</td>\n",
       "      <td>DT VBZ JJ DT JJ NN NN : VB TO PRP IN VBG PRP I...</td>\n",
       "    </tr>\n",
       "    <tr>\n",
       "      <th>3</th>\n",
       "      <td>Is this something I'll be able to install on m...</td>\n",
       "      <td>0</td>\n",
       "      <td>able install site release</td>\n",
       "      <td>[ 2.15365     0.84712    -1.303075   -1.185065...</td>\n",
       "      <td>[('Is', 'VBZ'), ('this', 'DT'), ('something', ...</td>\n",
       "      <td>VBZ DT NN PRP MD VB JJ TO VB IN PRP$ NN . WRB ...</td>\n",
       "    </tr>\n",
       "    <tr>\n",
       "      <th>4</th>\n",
       "      <td>haha you guys are a bunch of losers.</td>\n",
       "      <td>1</td>\n",
       "      <td>haha guy bunch loser</td>\n",
       "      <td>[-1.30565000e+00 -1.20353746e+00 -1.54419506e+...</td>\n",
       "      <td>[('haha', 'NN'), ('you', 'PRP'), ('guys', 'NNS...</td>\n",
       "      <td>NN PRP NNS VBP DT NN IN NNS .</td>\n",
       "    </tr>\n",
       "  </tbody>\n",
       "</table>\n",
       "</div>"
      ],
      "text/plain": [
       "                                        comment_text  toxic  \\\n",
       "0  This is so cool. It's like, 'would you want yo...      0   \n",
       "1  Thank you!! This would make my life a lot less...      0   \n",
       "2  This is such an urgent design problem; kudos t...      0   \n",
       "3  Is this something I'll be able to install on m...      0   \n",
       "4               haha you guys are a bunch of losers.      1   \n",
       "\n",
       "                        stopwords_punct_lemma  \\\n",
       "0       cool like want mother read great idea   \n",
       "1     thank life lot anxiety inducing let way   \n",
       "2  urgent design problem kudo take impressive   \n",
       "3                   able install site release   \n",
       "4                        haha guy bunch loser   \n",
       "\n",
       "                                        vector_spacy  \\\n",
       "0  [ 0.57358134  0.40742856 -2.652657   -2.634505...   \n",
       "1  [ 2.39850569e+00  8.94715786e-02 -3.68755722e+...   \n",
       "2  [ 0.9049366   1.0650175  -1.8506068  -0.667853...   \n",
       "3  [ 2.15365     0.84712    -1.303075   -1.185065...   \n",
       "4  [-1.30565000e+00 -1.20353746e+00 -1.54419506e+...   \n",
       "\n",
       "                                            pos_tags  \\\n",
       "0  [('This', 'DT'), ('is', 'VBZ'), ('so', 'RB'), ...   \n",
       "1  [('Thank', 'NNP'), ('you', 'PRP'), ('!', '.'),...   \n",
       "2  [('This', 'DT'), ('is', 'VBZ'), ('such', 'JJ')...   \n",
       "3  [('Is', 'VBZ'), ('this', 'DT'), ('something', ...   \n",
       "4  [('haha', 'NN'), ('you', 'PRP'), ('guys', 'NNS...   \n",
       "\n",
       "                                        pos_tags_str  \n",
       "0  DT VBZ RB JJ . PRP VBZ IN , FW PRP VBP PRP$ NN...  \n",
       "1  NNP PRP . . DT MD VB PRP$ NN DT NN JJR JJ . VB...  \n",
       "2  DT VBZ JJ DT JJ NN NN : VB TO PRP IN VBG PRP I...  \n",
       "3  VBZ DT NN PRP MD VB JJ TO VB IN PRP$ NN . WRB ...  \n",
       "4                      NN PRP NNS VBP DT NN IN NNS .  "
      ]
     },
     "execution_count": 2,
     "metadata": {},
     "output_type": "execute_result"
    }
   ],
   "source": [
    "df = pd.read_csv('data/merged_pp_df.csv')\n",
    "df = df.dropna(subset=['stopwords_punct_lemma'])\n",
    "df.head()"
   ]
  },
  {
   "cell_type": "code",
   "execution_count": 3,
   "metadata": {},
   "outputs": [],
   "source": [
    "X = df['stopwords_punct_lemma']\n",
    "y = df['toxic']"
   ]
  },
  {
   "cell_type": "markdown",
   "metadata": {},
   "source": [
    "### Create labels fasttext as per convention"
   ]
  },
  {
   "cell_type": "code",
   "execution_count": 4,
   "metadata": {},
   "outputs": [
    {
     "data": {
      "text/html": [
       "<div>\n",
       "<style scoped>\n",
       "    .dataframe tbody tr th:only-of-type {\n",
       "        vertical-align: middle;\n",
       "    }\n",
       "\n",
       "    .dataframe tbody tr th {\n",
       "        vertical-align: top;\n",
       "    }\n",
       "\n",
       "    .dataframe thead th {\n",
       "        text-align: right;\n",
       "    }\n",
       "</style>\n",
       "<table border=\"1\" class=\"dataframe\">\n",
       "  <thead>\n",
       "    <tr style=\"text-align: right;\">\n",
       "      <th></th>\n",
       "      <th>comment_text</th>\n",
       "      <th>toxic</th>\n",
       "      <th>stopwords_punct_lemma</th>\n",
       "      <th>vector_spacy</th>\n",
       "      <th>pos_tags</th>\n",
       "      <th>pos_tags_str</th>\n",
       "      <th>toxic_label_ft</th>\n",
       "    </tr>\n",
       "  </thead>\n",
       "  <tbody>\n",
       "    <tr>\n",
       "      <th>0</th>\n",
       "      <td>This is so cool. It's like, 'would you want yo...</td>\n",
       "      <td>0</td>\n",
       "      <td>cool like want mother read great idea</td>\n",
       "      <td>[ 0.57358134  0.40742856 -2.652657   -2.634505...</td>\n",
       "      <td>[('This', 'DT'), ('is', 'VBZ'), ('so', 'RB'), ...</td>\n",
       "      <td>DT VBZ RB JJ . PRP VBZ IN , FW PRP VBP PRP$ NN...</td>\n",
       "      <td>__label__0</td>\n",
       "    </tr>\n",
       "    <tr>\n",
       "      <th>1</th>\n",
       "      <td>Thank you!! This would make my life a lot less...</td>\n",
       "      <td>0</td>\n",
       "      <td>thank life lot anxiety inducing let way</td>\n",
       "      <td>[ 2.39850569e+00  8.94715786e-02 -3.68755722e+...</td>\n",
       "      <td>[('Thank', 'NNP'), ('you', 'PRP'), ('!', '.'),...</td>\n",
       "      <td>NNP PRP . . DT MD VB PRP$ NN DT NN JJR JJ . VB...</td>\n",
       "      <td>__label__0</td>\n",
       "    </tr>\n",
       "    <tr>\n",
       "      <th>2</th>\n",
       "      <td>This is such an urgent design problem; kudos t...</td>\n",
       "      <td>0</td>\n",
       "      <td>urgent design problem kudo take impressive</td>\n",
       "      <td>[ 0.9049366   1.0650175  -1.8506068  -0.667853...</td>\n",
       "      <td>[('This', 'DT'), ('is', 'VBZ'), ('such', 'JJ')...</td>\n",
       "      <td>DT VBZ JJ DT JJ NN NN : VB TO PRP IN VBG PRP I...</td>\n",
       "      <td>__label__0</td>\n",
       "    </tr>\n",
       "  </tbody>\n",
       "</table>\n",
       "</div>"
      ],
      "text/plain": [
       "                                        comment_text  toxic  \\\n",
       "0  This is so cool. It's like, 'would you want yo...      0   \n",
       "1  Thank you!! This would make my life a lot less...      0   \n",
       "2  This is such an urgent design problem; kudos t...      0   \n",
       "\n",
       "                        stopwords_punct_lemma  \\\n",
       "0       cool like want mother read great idea   \n",
       "1     thank life lot anxiety inducing let way   \n",
       "2  urgent design problem kudo take impressive   \n",
       "\n",
       "                                        vector_spacy  \\\n",
       "0  [ 0.57358134  0.40742856 -2.652657   -2.634505...   \n",
       "1  [ 2.39850569e+00  8.94715786e-02 -3.68755722e+...   \n",
       "2  [ 0.9049366   1.0650175  -1.8506068  -0.667853...   \n",
       "\n",
       "                                            pos_tags  \\\n",
       "0  [('This', 'DT'), ('is', 'VBZ'), ('so', 'RB'), ...   \n",
       "1  [('Thank', 'NNP'), ('you', 'PRP'), ('!', '.'),...   \n",
       "2  [('This', 'DT'), ('is', 'VBZ'), ('such', 'JJ')...   \n",
       "\n",
       "                                        pos_tags_str toxic_label_ft  \n",
       "0  DT VBZ RB JJ . PRP VBZ IN , FW PRP VBP PRP$ NN...     __label__0  \n",
       "1  NNP PRP . . DT MD VB PRP$ NN DT NN JJR JJ . VB...     __label__0  \n",
       "2  DT VBZ JJ DT JJ NN NN : VB TO PRP IN VBG PRP I...     __label__0  "
      ]
     },
     "execution_count": 4,
     "metadata": {},
     "output_type": "execute_result"
    }
   ],
   "source": [
    "df['toxic_label_ft'] = \"__label__\" + df['toxic'].astype(str)\n",
    "df.head(3)"
   ]
  },
  {
   "cell_type": "code",
   "execution_count": 5,
   "metadata": {},
   "outputs": [
    {
     "data": {
      "text/html": [
       "<div>\n",
       "<style scoped>\n",
       "    .dataframe tbody tr th:only-of-type {\n",
       "        vertical-align: middle;\n",
       "    }\n",
       "\n",
       "    .dataframe tbody tr th {\n",
       "        vertical-align: top;\n",
       "    }\n",
       "\n",
       "    .dataframe thead th {\n",
       "        text-align: right;\n",
       "    }\n",
       "</style>\n",
       "<table border=\"1\" class=\"dataframe\">\n",
       "  <thead>\n",
       "    <tr style=\"text-align: right;\">\n",
       "      <th></th>\n",
       "      <th>comment_text</th>\n",
       "      <th>toxic</th>\n",
       "      <th>stopwords_punct_lemma</th>\n",
       "      <th>vector_spacy</th>\n",
       "      <th>pos_tags</th>\n",
       "      <th>pos_tags_str</th>\n",
       "      <th>toxic_label_ft</th>\n",
       "      <th>toxic_label_comment_text</th>\n",
       "    </tr>\n",
       "  </thead>\n",
       "  <tbody>\n",
       "    <tr>\n",
       "      <th>0</th>\n",
       "      <td>This is so cool. It's like, 'would you want yo...</td>\n",
       "      <td>0</td>\n",
       "      <td>cool like want mother read great idea</td>\n",
       "      <td>[ 0.57358134  0.40742856 -2.652657   -2.634505...</td>\n",
       "      <td>[('This', 'DT'), ('is', 'VBZ'), ('so', 'RB'), ...</td>\n",
       "      <td>DT VBZ RB JJ . PRP VBZ IN , FW PRP VBP PRP$ NN...</td>\n",
       "      <td>__label__0</td>\n",
       "      <td>__label__0 cool like want mother read great idea</td>\n",
       "    </tr>\n",
       "    <tr>\n",
       "      <th>1</th>\n",
       "      <td>Thank you!! This would make my life a lot less...</td>\n",
       "      <td>0</td>\n",
       "      <td>thank life lot anxiety inducing let way</td>\n",
       "      <td>[ 2.39850569e+00  8.94715786e-02 -3.68755722e+...</td>\n",
       "      <td>[('Thank', 'NNP'), ('you', 'PRP'), ('!', '.'),...</td>\n",
       "      <td>NNP PRP . . DT MD VB PRP$ NN DT NN JJR JJ . VB...</td>\n",
       "      <td>__label__0</td>\n",
       "      <td>__label__0 thank life lot anxiety inducing let...</td>\n",
       "    </tr>\n",
       "    <tr>\n",
       "      <th>2</th>\n",
       "      <td>This is such an urgent design problem; kudos t...</td>\n",
       "      <td>0</td>\n",
       "      <td>urgent design problem kudo take impressive</td>\n",
       "      <td>[ 0.9049366   1.0650175  -1.8506068  -0.667853...</td>\n",
       "      <td>[('This', 'DT'), ('is', 'VBZ'), ('such', 'JJ')...</td>\n",
       "      <td>DT VBZ JJ DT JJ NN NN : VB TO PRP IN VBG PRP I...</td>\n",
       "      <td>__label__0</td>\n",
       "      <td>__label__0 urgent design problem kudo take imp...</td>\n",
       "    </tr>\n",
       "  </tbody>\n",
       "</table>\n",
       "</div>"
      ],
      "text/plain": [
       "                                        comment_text  toxic  \\\n",
       "0  This is so cool. It's like, 'would you want yo...      0   \n",
       "1  Thank you!! This would make my life a lot less...      0   \n",
       "2  This is such an urgent design problem; kudos t...      0   \n",
       "\n",
       "                        stopwords_punct_lemma  \\\n",
       "0       cool like want mother read great idea   \n",
       "1     thank life lot anxiety inducing let way   \n",
       "2  urgent design problem kudo take impressive   \n",
       "\n",
       "                                        vector_spacy  \\\n",
       "0  [ 0.57358134  0.40742856 -2.652657   -2.634505...   \n",
       "1  [ 2.39850569e+00  8.94715786e-02 -3.68755722e+...   \n",
       "2  [ 0.9049366   1.0650175  -1.8506068  -0.667853...   \n",
       "\n",
       "                                            pos_tags  \\\n",
       "0  [('This', 'DT'), ('is', 'VBZ'), ('so', 'RB'), ...   \n",
       "1  [('Thank', 'NNP'), ('you', 'PRP'), ('!', '.'),...   \n",
       "2  [('This', 'DT'), ('is', 'VBZ'), ('such', 'JJ')...   \n",
       "\n",
       "                                        pos_tags_str toxic_label_ft  \\\n",
       "0  DT VBZ RB JJ . PRP VBZ IN , FW PRP VBP PRP$ NN...     __label__0   \n",
       "1  NNP PRP . . DT MD VB PRP$ NN DT NN JJR JJ . VB...     __label__0   \n",
       "2  DT VBZ JJ DT JJ NN NN : VB TO PRP IN VBG PRP I...     __label__0   \n",
       "\n",
       "                            toxic_label_comment_text  \n",
       "0   __label__0 cool like want mother read great idea  \n",
       "1  __label__0 thank life lot anxiety inducing let...  \n",
       "2  __label__0 urgent design problem kudo take imp...  "
      ]
     },
     "execution_count": 5,
     "metadata": {},
     "output_type": "execute_result"
    }
   ],
   "source": [
    "df['toxic_label_comment_text'] = df['toxic_label_ft'] + \" \" + df['stopwords_punct_lemma']\n",
    "df.head(3)"
   ]
  },
  {
   "cell_type": "markdown",
   "metadata": {},
   "source": [
    "## Split and train for the fast text model"
   ]
  },
  {
   "cell_type": "code",
   "execution_count": 6,
   "metadata": {},
   "outputs": [],
   "source": [
    "train,test = train_test_split(df,test_size=0.2, random_state=42, stratify=y) "
   ]
  },
  {
   "cell_type": "code",
   "execution_count": 11,
   "metadata": {},
   "outputs": [],
   "source": [
    "train.to_csv(\"data/fasttext_train\", columns=[\"toxic_label_comment_text\"], index=False, header=False)\n",
    "test.to_csv(\"data/fasttext_test\", columns=[\"toxic_label_comment_text\"], index=False, header=False)"
   ]
  },
  {
   "cell_type": "code",
   "execution_count": 76,
   "metadata": {},
   "outputs": [
    {
     "name": "stderr",
     "output_type": "stream",
     "text": [
      "Read 38M words\n",
      "Number of words:  446476\n",
      "Number of labels: 2\n",
      "Progress: 100.0% words/sec/thread: 3243835 lr:  0.000000 avg.loss:  0.056990 ETA:   0h 0m 0s\n"
     ]
    },
    {
     "data": {
      "text/plain": [
       "(242400, 0.9425536303630363, 0.9425536303630363)"
      ]
     },
     "execution_count": 76,
     "metadata": {},
     "output_type": "execute_result"
    }
   ],
   "source": [
    "model = fasttext.train_supervised(input=\"data/fasttext_train\", \n",
    "                                  lr=0.5, \n",
    "                                  epoch=15, \n",
    "                                  wordNgrams=2, \n",
    "                                  t=0.0001)\n",
    "model.test(\"data/fasttext_test\")"
   ]
  },
  {
   "cell_type": "markdown",
   "metadata": {},
   "source": [
    "### Get vectors"
   ]
  },
  {
   "cell_type": "code",
   "execution_count": 17,
   "metadata": {},
   "outputs": [],
   "source": [
    "def clean_text(text):\n",
    "    \"\"\"\n",
    "    Function to remove newline characters from text.\n",
    "    \"\"\"\n",
    "    # Replace newline characters with spaces\n",
    "    cleaned_text = text.replace('\\n', ' ')\n",
    "    return cleaned_text"
   ]
  },
  {
   "cell_type": "code",
   "execution_count": 18,
   "metadata": {},
   "outputs": [
    {
     "name": "stderr",
     "output_type": "stream",
     "text": [
      "100%|██████████| 1800402/1800402 [00:00<00:00, 2149941.58it/s]\n",
      "100%|██████████| 1800402/1800402 [00:26<00:00, 67276.44it/s]\n"
     ]
    }
   ],
   "source": [
    "tqdm.pandas()\n",
    "df['stopwords_punct_lemma'] = df['stopwords_punct_lemma'].progress_apply(clean_text)\n",
    "df['vector_fast_text'] = df['stopwords_punct_lemma'].progress_apply(lambda text: model.get_sentence_vector(text))"
   ]
  },
  {
   "cell_type": "code",
   "execution_count": 19,
   "metadata": {},
   "outputs": [
    {
     "data": {
      "text/html": [
       "<div>\n",
       "<style scoped>\n",
       "    .dataframe tbody tr th:only-of-type {\n",
       "        vertical-align: middle;\n",
       "    }\n",
       "\n",
       "    .dataframe tbody tr th {\n",
       "        vertical-align: top;\n",
       "    }\n",
       "\n",
       "    .dataframe thead th {\n",
       "        text-align: right;\n",
       "    }\n",
       "</style>\n",
       "<table border=\"1\" class=\"dataframe\">\n",
       "  <thead>\n",
       "    <tr style=\"text-align: right;\">\n",
       "      <th></th>\n",
       "      <th>comment_text</th>\n",
       "      <th>toxic</th>\n",
       "      <th>stopwords_punct_lemma</th>\n",
       "      <th>vector_spacy</th>\n",
       "      <th>pos_tags</th>\n",
       "      <th>pos_tags_str</th>\n",
       "      <th>toxic_label_ft</th>\n",
       "      <th>toxic_label_comment_text</th>\n",
       "      <th>vector_fast_text</th>\n",
       "    </tr>\n",
       "  </thead>\n",
       "  <tbody>\n",
       "    <tr>\n",
       "      <th>0</th>\n",
       "      <td>This is so cool. It's like, 'would you want yo...</td>\n",
       "      <td>0</td>\n",
       "      <td>cool like want mother read great idea</td>\n",
       "      <td>[ 0.57358134  0.40742856 -2.652657   -2.634505...</td>\n",
       "      <td>[('This', 'DT'), ('is', 'VBZ'), ('so', 'RB'), ...</td>\n",
       "      <td>DT VBZ RB JJ . PRP VBZ IN , FW PRP VBP PRP$ NN...</td>\n",
       "      <td>__label__0</td>\n",
       "      <td>__label__0 cool like want mother read great idea</td>\n",
       "      <td>[-0.045399435, 0.07104978, -0.047424514, -0.01...</td>\n",
       "    </tr>\n",
       "    <tr>\n",
       "      <th>1</th>\n",
       "      <td>Thank you!! This would make my life a lot less...</td>\n",
       "      <td>0</td>\n",
       "      <td>thank life lot anxiety inducing let way</td>\n",
       "      <td>[ 2.39850569e+00  8.94715786e-02 -3.68755722e+...</td>\n",
       "      <td>[('Thank', 'NNP'), ('you', 'PRP'), ('!', '.'),...</td>\n",
       "      <td>NNP PRP . . DT MD VB PRP$ NN DT NN JJR JJ . VB...</td>\n",
       "      <td>__label__0</td>\n",
       "      <td>__label__0 thank life lot anxiety inducing let...</td>\n",
       "      <td>[-0.06339683, 0.09824624, -0.066878095, -0.039...</td>\n",
       "    </tr>\n",
       "    <tr>\n",
       "      <th>2</th>\n",
       "      <td>This is such an urgent design problem; kudos t...</td>\n",
       "      <td>0</td>\n",
       "      <td>urgent design problem kudo take impressive</td>\n",
       "      <td>[ 0.9049366   1.0650175  -1.8506068  -0.667853...</td>\n",
       "      <td>[('This', 'DT'), ('is', 'VBZ'), ('such', 'JJ')...</td>\n",
       "      <td>DT VBZ JJ DT JJ NN NN : VB TO PRP IN VBG PRP I...</td>\n",
       "      <td>__label__0</td>\n",
       "      <td>__label__0 urgent design problem kudo take imp...</td>\n",
       "      <td>[-0.059046045, 0.11193881, -0.052347053, -0.04...</td>\n",
       "    </tr>\n",
       "  </tbody>\n",
       "</table>\n",
       "</div>"
      ],
      "text/plain": [
       "                                        comment_text  toxic  \\\n",
       "0  This is so cool. It's like, 'would you want yo...      0   \n",
       "1  Thank you!! This would make my life a lot less...      0   \n",
       "2  This is such an urgent design problem; kudos t...      0   \n",
       "\n",
       "                        stopwords_punct_lemma  \\\n",
       "0       cool like want mother read great idea   \n",
       "1     thank life lot anxiety inducing let way   \n",
       "2  urgent design problem kudo take impressive   \n",
       "\n",
       "                                        vector_spacy  \\\n",
       "0  [ 0.57358134  0.40742856 -2.652657   -2.634505...   \n",
       "1  [ 2.39850569e+00  8.94715786e-02 -3.68755722e+...   \n",
       "2  [ 0.9049366   1.0650175  -1.8506068  -0.667853...   \n",
       "\n",
       "                                            pos_tags  \\\n",
       "0  [('This', 'DT'), ('is', 'VBZ'), ('so', 'RB'), ...   \n",
       "1  [('Thank', 'NNP'), ('you', 'PRP'), ('!', '.'),...   \n",
       "2  [('This', 'DT'), ('is', 'VBZ'), ('such', 'JJ')...   \n",
       "\n",
       "                                        pos_tags_str toxic_label_ft  \\\n",
       "0  DT VBZ RB JJ . PRP VBZ IN , FW PRP VBP PRP$ NN...     __label__0   \n",
       "1  NNP PRP . . DT MD VB PRP$ NN DT NN JJR JJ . VB...     __label__0   \n",
       "2  DT VBZ JJ DT JJ NN NN : VB TO PRP IN VBG PRP I...     __label__0   \n",
       "\n",
       "                            toxic_label_comment_text  \\\n",
       "0   __label__0 cool like want mother read great idea   \n",
       "1  __label__0 thank life lot anxiety inducing let...   \n",
       "2  __label__0 urgent design problem kudo take imp...   \n",
       "\n",
       "                                    vector_fast_text  \n",
       "0  [-0.045399435, 0.07104978, -0.047424514, -0.01...  \n",
       "1  [-0.06339683, 0.09824624, -0.066878095, -0.039...  \n",
       "2  [-0.059046045, 0.11193881, -0.052347053, -0.04...  "
      ]
     },
     "execution_count": 19,
     "metadata": {},
     "output_type": "execute_result"
    }
   ],
   "source": [
    "df.head(3)"
   ]
  },
  {
   "cell_type": "code",
   "execution_count": 20,
   "metadata": {},
   "outputs": [],
   "source": [
    "df.drop([\"pos_tags\",\"pos_tags_str\",\"toxic_label_ft\",\"toxic_label_comment_text\"],axis=1,inplace=True)"
   ]
  },
  {
   "cell_type": "code",
   "execution_count": 21,
   "metadata": {},
   "outputs": [
    {
     "data": {
      "text/html": [
       "<div>\n",
       "<style scoped>\n",
       "    .dataframe tbody tr th:only-of-type {\n",
       "        vertical-align: middle;\n",
       "    }\n",
       "\n",
       "    .dataframe tbody tr th {\n",
       "        vertical-align: top;\n",
       "    }\n",
       "\n",
       "    .dataframe thead th {\n",
       "        text-align: right;\n",
       "    }\n",
       "</style>\n",
       "<table border=\"1\" class=\"dataframe\">\n",
       "  <thead>\n",
       "    <tr style=\"text-align: right;\">\n",
       "      <th></th>\n",
       "      <th>comment_text</th>\n",
       "      <th>toxic</th>\n",
       "      <th>stopwords_punct_lemma</th>\n",
       "      <th>vector_spacy</th>\n",
       "      <th>vector_fast_text</th>\n",
       "    </tr>\n",
       "  </thead>\n",
       "  <tbody>\n",
       "    <tr>\n",
       "      <th>0</th>\n",
       "      <td>This is so cool. It's like, 'would you want yo...</td>\n",
       "      <td>0</td>\n",
       "      <td>cool like want mother read great idea</td>\n",
       "      <td>[ 0.57358134  0.40742856 -2.652657   -2.634505...</td>\n",
       "      <td>[-0.045399435, 0.07104978, -0.047424514, -0.01...</td>\n",
       "    </tr>\n",
       "    <tr>\n",
       "      <th>1</th>\n",
       "      <td>Thank you!! This would make my life a lot less...</td>\n",
       "      <td>0</td>\n",
       "      <td>thank life lot anxiety inducing let way</td>\n",
       "      <td>[ 2.39850569e+00  8.94715786e-02 -3.68755722e+...</td>\n",
       "      <td>[-0.06339683, 0.09824624, -0.066878095, -0.039...</td>\n",
       "    </tr>\n",
       "    <tr>\n",
       "      <th>2</th>\n",
       "      <td>This is such an urgent design problem; kudos t...</td>\n",
       "      <td>0</td>\n",
       "      <td>urgent design problem kudo take impressive</td>\n",
       "      <td>[ 0.9049366   1.0650175  -1.8506068  -0.667853...</td>\n",
       "      <td>[-0.059046045, 0.11193881, -0.052347053, -0.04...</td>\n",
       "    </tr>\n",
       "  </tbody>\n",
       "</table>\n",
       "</div>"
      ],
      "text/plain": [
       "                                        comment_text  toxic  \\\n",
       "0  This is so cool. It's like, 'would you want yo...      0   \n",
       "1  Thank you!! This would make my life a lot less...      0   \n",
       "2  This is such an urgent design problem; kudos t...      0   \n",
       "\n",
       "                        stopwords_punct_lemma  \\\n",
       "0       cool like want mother read great idea   \n",
       "1     thank life lot anxiety inducing let way   \n",
       "2  urgent design problem kudo take impressive   \n",
       "\n",
       "                                        vector_spacy  \\\n",
       "0  [ 0.57358134  0.40742856 -2.652657   -2.634505...   \n",
       "1  [ 2.39850569e+00  8.94715786e-02 -3.68755722e+...   \n",
       "2  [ 0.9049366   1.0650175  -1.8506068  -0.667853...   \n",
       "\n",
       "                                    vector_fast_text  \n",
       "0  [-0.045399435, 0.07104978, -0.047424514, -0.01...  \n",
       "1  [-0.06339683, 0.09824624, -0.066878095, -0.039...  \n",
       "2  [-0.059046045, 0.11193881, -0.052347053, -0.04...  "
      ]
     },
     "execution_count": 21,
     "metadata": {},
     "output_type": "execute_result"
    }
   ],
   "source": [
    "df.head(3)"
   ]
  },
  {
   "cell_type": "code",
   "execution_count": 22,
   "metadata": {},
   "outputs": [],
   "source": [
    "df.drop([\"vector_spacy\"],axis=1,inplace=True)"
   ]
  },
  {
   "cell_type": "code",
   "execution_count": 23,
   "metadata": {},
   "outputs": [
    {
     "data": {
      "text/html": [
       "<div>\n",
       "<style scoped>\n",
       "    .dataframe tbody tr th:only-of-type {\n",
       "        vertical-align: middle;\n",
       "    }\n",
       "\n",
       "    .dataframe tbody tr th {\n",
       "        vertical-align: top;\n",
       "    }\n",
       "\n",
       "    .dataframe thead th {\n",
       "        text-align: right;\n",
       "    }\n",
       "</style>\n",
       "<table border=\"1\" class=\"dataframe\">\n",
       "  <thead>\n",
       "    <tr style=\"text-align: right;\">\n",
       "      <th></th>\n",
       "      <th>comment_text</th>\n",
       "      <th>toxic</th>\n",
       "      <th>stopwords_punct_lemma</th>\n",
       "      <th>vector_fast_text</th>\n",
       "    </tr>\n",
       "  </thead>\n",
       "  <tbody>\n",
       "    <tr>\n",
       "      <th>0</th>\n",
       "      <td>This is so cool. It's like, 'would you want yo...</td>\n",
       "      <td>0</td>\n",
       "      <td>cool like want mother read great idea</td>\n",
       "      <td>[-0.045399435, 0.07104978, -0.047424514, -0.01...</td>\n",
       "    </tr>\n",
       "    <tr>\n",
       "      <th>1</th>\n",
       "      <td>Thank you!! This would make my life a lot less...</td>\n",
       "      <td>0</td>\n",
       "      <td>thank life lot anxiety inducing let way</td>\n",
       "      <td>[-0.06339683, 0.09824624, -0.066878095, -0.039...</td>\n",
       "    </tr>\n",
       "    <tr>\n",
       "      <th>2</th>\n",
       "      <td>This is such an urgent design problem; kudos t...</td>\n",
       "      <td>0</td>\n",
       "      <td>urgent design problem kudo take impressive</td>\n",
       "      <td>[-0.059046045, 0.11193881, -0.052347053, -0.04...</td>\n",
       "    </tr>\n",
       "  </tbody>\n",
       "</table>\n",
       "</div>"
      ],
      "text/plain": [
       "                                        comment_text  toxic  \\\n",
       "0  This is so cool. It's like, 'would you want yo...      0   \n",
       "1  Thank you!! This would make my life a lot less...      0   \n",
       "2  This is such an urgent design problem; kudos t...      0   \n",
       "\n",
       "                        stopwords_punct_lemma  \\\n",
       "0       cool like want mother read great idea   \n",
       "1     thank life lot anxiety inducing let way   \n",
       "2  urgent design problem kudo take impressive   \n",
       "\n",
       "                                    vector_fast_text  \n",
       "0  [-0.045399435, 0.07104978, -0.047424514, -0.01...  \n",
       "1  [-0.06339683, 0.09824624, -0.066878095, -0.039...  \n",
       "2  [-0.059046045, 0.11193881, -0.052347053, -0.04...  "
      ]
     },
     "execution_count": 23,
     "metadata": {},
     "output_type": "execute_result"
    }
   ],
   "source": [
    "df.head(3)"
   ]
  },
  {
   "cell_type": "markdown",
   "metadata": {},
   "source": [
    "### temporary store the fast text vectors to use them with other models"
   ]
  },
  {
   "cell_type": "code",
   "execution_count": 146,
   "metadata": {},
   "outputs": [],
   "source": [
    "# only need to run once\n",
    "#df.to_csv('data/alldata_fast_text_vectors.csv')"
   ]
  },
  {
   "cell_type": "markdown",
   "metadata": {},
   "source": [
    "## Fast Text with SMOTE and Logistic Regression"
   ]
  },
  {
   "cell_type": "code",
   "execution_count": 89,
   "metadata": {},
   "outputs": [
    {
     "name": "stdout",
     "output_type": "stream",
     "text": [
      "              precision    recall  f1-score   support\n",
      "\n",
      "           0       0.99      0.94      0.97    331340\n",
      "           1       0.57      0.89      0.69     28741\n",
      "\n",
      "    accuracy                           0.94    360081\n",
      "   macro avg       0.78      0.91      0.83    360081\n",
      "weighted avg       0.96      0.94      0.94    360081\n",
      "\n"
     ]
    }
   ],
   "source": [
    "\n",
    "# Convert list of vectors into a 2D numpy array\n",
    "X = np.stack(df['vector_fast_text'].values)\n",
    "y = df['toxic'].values\n",
    "\n",
    "# Splitting the dataset into training and testing sets\n",
    "X_train, X_test, y_train, y_test = train_test_split(X, y, test_size=0.2, random_state=42)\n",
    "\n",
    "# Apply SMOTE\n",
    "smote = SMOTE(random_state=42)\n",
    "X_train_smote, y_train_smote = smote.fit_resample(X_train, y_train)\n",
    "\n",
    "# Train a model (Logistic Regression)\n",
    "clf = LogisticRegression(max_iter=2500)  # Increasing max_iter for convergence\n",
    "clf.fit(X_train_smote, y_train_smote)\n",
    "\n",
    "# Evaluate the model on the original test set\n",
    "predictions = clf.predict(X_test)\n",
    "print(classification_report(y_test, predictions))\n",
    "\n",
    "\n"
   ]
  },
  {
   "cell_type": "code",
   "execution_count": 144,
   "metadata": {},
   "outputs": [
    {
     "name": "stdout",
     "output_type": "stream",
     "text": [
      "This comment is Non-Toxic\n",
      "The probability of being Non-Toxic is: 0.7775231014852543\n",
      "The probability of being Toxic is: 0.2224768985147457\n"
     ]
    }
   ],
   "source": [
    "sentence_vector = model.get_sentence_vector(\"I love all kind of people, black, gays, muslims, Christians\")\n",
    "sentence_vector_reshaped = np.array(sentence_vector).reshape(1, -1)  # Reshape to 2D array\n",
    "\n",
    "# Now use this reshaped vector for prediction\n",
    "prediction = clf.predict(sentence_vector_reshaped)\n",
    "prediction_proba = clf.predict_proba(sentence_vector_reshaped)\n",
    "\n",
    "if prediction == 1:\n",
    "    prediction_text = 'Toxic'\n",
    "else:\n",
    "    prediction_text = 'Non-Toxic'\n",
    "\n",
    "# Output the prediction\n",
    "print(f'This comment is {prediction_text}')\n",
    "print(f'The probability of being Non-Toxic is: {prediction_proba[0][0]}')\n",
    "print(f'The probability of being Toxic is: {prediction_proba[0][1]}')"
   ]
  },
  {
   "cell_type": "code",
   "execution_count": 149,
   "metadata": {},
   "outputs": [
    {
     "data": {
      "image/png": "[encoded data removed]",
      "text/plain": [
       "<Figure size 800x600 with 2 Axes>"
      ]
     },
     "metadata": {},
     "output_type": "display_data"
    }
   ],
   "source": [
    "# Compute the confusion matrix\n",
    "cm = confusion_matrix(y_test, predictions)\n",
    "\n",
    "# Create a heatmap\n",
    "plt.figure(figsize=(8, 6))\n",
    "sns.heatmap(cm, annot=True, fmt='d', cmap='Blues', xticklabels=['Non-Toxic', 'Toxic'], yticklabels=['Non-Toxic', 'Toxic'])\n",
    "plt.title('Confusion Matrix')\n",
    "plt.ylabel('Actual Labels')\n",
    "plt.xlabel('Predicted Labels')\n",
    "plt.show()"
   ]
  },
  {
   "cell_type": "code",
   "execution_count": null,
   "metadata": {},
   "outputs": [],
   "source": []
  }
 ],
 "metadata": {
  "kernelspec": {
   "display_name": ".venv",
   "language": "python",
   "name": "python3"
  },
  "language_info": {
   "codemirror_mode": {
    "name": "ipython",
    "version": 3
   },
   "file_extension": ".py",
   "mimetype": "text/x-python",
   "name": "python",
   "nbconvert_exporter": "python",
   "pygments_lexer": "ipython3",
   "version": "3.11.3"
  }
 },
 "nbformat": 4,
 "nbformat_minor": 2
}
