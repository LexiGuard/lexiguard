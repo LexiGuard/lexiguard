{
 "cells": [
  {
   "cell_type": "code",
   "execution_count": 113,
   "metadata": {},
   "outputs": [],
   "source": [
    "import pandas as pd\n",
    "import re\n",
    "from tqdm import tqdm\n",
    "from sklearn.model_selection import train_test_split\n",
    "import fasttext\n",
    "import numpy as np\n",
    "from sklearn.pipeline import Pipeline\n",
    "from sklearn.preprocessing import MinMaxScaler\n",
    "from sklearn.linear_model import LogisticRegression\n",
    "from sklearn.metrics import accuracy_score, f1_score, roc_auc_score, precision_score, recall_score, confusion_matrix, classification_report"
   ]
  },
  {
   "cell_type": "code",
   "execution_count": 99,
   "metadata": {},
   "outputs": [],
   "source": [
    "df = pd.read_csv('data/undersampled_data_60_40.csv')\n",
    "df = df.dropna(subset=['stopwords_punct_lemma'])\n",
    "\n",
    "#drop columns I do not need\n",
    "df = df.drop(columns=['vector_spacy','pos_tags','pos_tags_str'], axis=1)"
   ]
  },
  {
   "cell_type": "code",
   "execution_count": 100,
   "metadata": {},
   "outputs": [],
   "source": [
    "X = df['comment_text']\n",
    "y = df['toxic']"
   ]
  },
  {
   "cell_type": "markdown",
   "metadata": {},
   "source": [
    "### Create labels fasttext as per convention"
   ]
  },
  {
   "cell_type": "code",
   "execution_count": 101,
   "metadata": {},
   "outputs": [
    {
     "data": {
      "text/html": [
       "<div>\n",
       "<style scoped>\n",
       "    .dataframe tbody tr th:only-of-type {\n",
       "        vertical-align: middle;\n",
       "    }\n",
       "\n",
       "    .dataframe tbody tr th {\n",
       "        vertical-align: top;\n",
       "    }\n",
       "\n",
       "    .dataframe thead th {\n",
       "        text-align: right;\n",
       "    }\n",
       "</style>\n",
       "<table border=\"1\" class=\"dataframe\">\n",
       "  <thead>\n",
       "    <tr style=\"text-align: right;\">\n",
       "      <th></th>\n",
       "      <th>comment_text</th>\n",
       "      <th>toxic</th>\n",
       "      <th>stopwords_punct_lemma</th>\n",
       "      <th>toxic_label_ft</th>\n",
       "    </tr>\n",
       "  </thead>\n",
       "  <tbody>\n",
       "    <tr>\n",
       "      <th>0</th>\n",
       "      <td>Well, what are the chances he will turn out to...</td>\n",
       "      <td>0</td>\n",
       "      <td>chance turn active proponent slavery</td>\n",
       "      <td>__label__0</td>\n",
       "    </tr>\n",
       "    <tr>\n",
       "      <th>1</th>\n",
       "      <td>The moment of critical mass is approaching whe...</td>\n",
       "      <td>0</td>\n",
       "      <td>moment critical mass approach deed Gupta Co li...</td>\n",
       "      <td>__label__0</td>\n",
       "    </tr>\n",
       "    <tr>\n",
       "      <th>2</th>\n",
       "      <td>\"Hey listen to me,\" he said. \"I'm not going to...</td>\n",
       "      <td>1</td>\n",
       "      <td>hey listen say go crap prove reporter say \\n\\n...</td>\n",
       "      <td>__label__1</td>\n",
       "    </tr>\n",
       "  </tbody>\n",
       "</table>\n",
       "</div>"
      ],
      "text/plain": [
       "                                        comment_text  toxic  \\\n",
       "0  Well, what are the chances he will turn out to...      0   \n",
       "1  The moment of critical mass is approaching whe...      0   \n",
       "2  \"Hey listen to me,\" he said. \"I'm not going to...      1   \n",
       "\n",
       "                               stopwords_punct_lemma toxic_label_ft  \n",
       "0               chance turn active proponent slavery     __label__0  \n",
       "1  moment critical mass approach deed Gupta Co li...     __label__0  \n",
       "2  hey listen say go crap prove reporter say \\n\\n...     __label__1  "
      ]
     },
     "execution_count": 101,
     "metadata": {},
     "output_type": "execute_result"
    }
   ],
   "source": [
    "df['toxic_label_ft'] = \"__label__\" + df['toxic'].astype(str)\n",
    "df.head(3)"
   ]
  },
  {
   "cell_type": "code",
   "execution_count": 103,
   "metadata": {},
   "outputs": [
    {
     "data": {
      "text/html": [
       "<div>\n",
       "<style scoped>\n",
       "    .dataframe tbody tr th:only-of-type {\n",
       "        vertical-align: middle;\n",
       "    }\n",
       "\n",
       "    .dataframe tbody tr th {\n",
       "        vertical-align: top;\n",
       "    }\n",
       "\n",
       "    .dataframe thead th {\n",
       "        text-align: right;\n",
       "    }\n",
       "</style>\n",
       "<table border=\"1\" class=\"dataframe\">\n",
       "  <thead>\n",
       "    <tr style=\"text-align: right;\">\n",
       "      <th></th>\n",
       "      <th>comment_text</th>\n",
       "      <th>toxic</th>\n",
       "      <th>stopwords_punct_lemma</th>\n",
       "      <th>toxic_label_ft</th>\n",
       "      <th>toxic_label_comment_text</th>\n",
       "    </tr>\n",
       "  </thead>\n",
       "  <tbody>\n",
       "    <tr>\n",
       "      <th>0</th>\n",
       "      <td>Well, what are the chances he will turn out to...</td>\n",
       "      <td>0</td>\n",
       "      <td>chance turn active proponent slavery</td>\n",
       "      <td>__label__0</td>\n",
       "      <td>__label__0 chance turn active proponent slavery</td>\n",
       "    </tr>\n",
       "    <tr>\n",
       "      <th>1</th>\n",
       "      <td>The moment of critical mass is approaching whe...</td>\n",
       "      <td>0</td>\n",
       "      <td>moment critical mass approach deed Gupta Co li...</td>\n",
       "      <td>__label__0</td>\n",
       "      <td>__label__0 moment critical mass approach deed ...</td>\n",
       "    </tr>\n",
       "    <tr>\n",
       "      <th>2</th>\n",
       "      <td>\"Hey listen to me,\" he said. \"I'm not going to...</td>\n",
       "      <td>1</td>\n",
       "      <td>hey listen say go crap prove reporter say \\n\\n...</td>\n",
       "      <td>__label__1</td>\n",
       "      <td>__label__1 hey listen say go crap prove report...</td>\n",
       "    </tr>\n",
       "  </tbody>\n",
       "</table>\n",
       "</div>"
      ],
      "text/plain": [
       "                                        comment_text  toxic  \\\n",
       "0  Well, what are the chances he will turn out to...      0   \n",
       "1  The moment of critical mass is approaching whe...      0   \n",
       "2  \"Hey listen to me,\" he said. \"I'm not going to...      1   \n",
       "\n",
       "                               stopwords_punct_lemma toxic_label_ft  \\\n",
       "0               chance turn active proponent slavery     __label__0   \n",
       "1  moment critical mass approach deed Gupta Co li...     __label__0   \n",
       "2  hey listen say go crap prove reporter say \\n\\n...     __label__1   \n",
       "\n",
       "                            toxic_label_comment_text  \n",
       "0    __label__0 chance turn active proponent slavery  \n",
       "1  __label__0 moment critical mass approach deed ...  \n",
       "2  __label__1 hey listen say go crap prove report...  "
      ]
     },
     "execution_count": 103,
     "metadata": {},
     "output_type": "execute_result"
    }
   ],
   "source": [
    "df['toxic_label_comment_text'] = df['toxic_label_ft'] + \" \" + df['stopwords_punct_lemma']\n",
    "df.head(3)"
   ]
  },
  {
   "cell_type": "code",
   "execution_count": 104,
   "metadata": {},
   "outputs": [],
   "source": [
    "def preprocess(text):\n",
    "    text = re.sub(r'[^\\w\\s\\']',' ',text)\n",
    "    text = re.sub(r' +', ' ',text)\n",
    "    text = text.replace('\\n', ' ').replace('\\r', ' ')\n",
    "    return text.strip().lower()"
   ]
  },
  {
   "cell_type": "code",
   "execution_count": 105,
   "metadata": {},
   "outputs": [
    {
     "name": "stderr",
     "output_type": "stream",
     "text": [
      "100%|██████████| 360301/360301 [00:02<00:00, 150723.79it/s]\n",
      "100%|██████████| 360301/360301 [00:02<00:00, 161129.22it/s]\n"
     ]
    }
   ],
   "source": [
    "tqdm.pandas()\n",
    "df['toxic_label_comment_text'] = df['toxic_label_comment_text'].progress_apply(lambda text: preprocess(text))\n",
    "df['stopwords_punct_lemma'] = df['stopwords_punct_lemma'].progress_apply(lambda text: preprocess(text))"
   ]
  },
  {
   "cell_type": "code",
   "execution_count": 106,
   "metadata": {},
   "outputs": [],
   "source": [
    "train,test = train_test_split(df,test_size=0.2, random_state=42, stratify=y) "
   ]
  },
  {
   "cell_type": "code",
   "execution_count": 107,
   "metadata": {},
   "outputs": [],
   "source": [
    "train.to_csv(\"data/fasttext_train\", columns=[\"toxic_label_comment_text\"], index=False, header=False)\n",
    "test.to_csv(\"data/fasttext_test\", columns=[\"toxic_label_comment_text\"], index=False, header=False)"
   ]
  },
  {
   "cell_type": "code",
   "execution_count": 108,
   "metadata": {},
   "outputs": [
    {
     "name": "stderr",
     "output_type": "stream",
     "text": [
      "Read 7M words\n",
      "Number of words:  111543\n",
      "Number of labels: 2\n",
      "Progress: 100.0% words/sec/thread: 2179224 lr:  0.000000 avg.loss:  0.078711 ETA:   0h 0m 0s ETA:   0h 0m 0s\n"
     ]
    },
    {
     "data": {
      "text/plain": [
       "(72061, 0.8612286812561579, 0.8612286812561579)"
      ]
     },
     "execution_count": 108,
     "metadata": {},
     "output_type": "execute_result"
    }
   ],
   "source": [
    "model = fasttext.train_supervised(input=\"data/fasttext_train\", lr=0.5, epoch=25, wordNgrams=2)\n",
    "model.test(\"data/fasttext_test\")"
   ]
  },
  {
   "cell_type": "code",
   "execution_count": 109,
   "metadata": {},
   "outputs": [
    {
     "name": "stderr",
     "output_type": "stream",
     "text": [
      "100%|██████████| 360301/360301 [00:06<00:00, 53176.92it/s]\n"
     ]
    }
   ],
   "source": [
    "df['vector_fast_text'] = df['stopwords_punct_lemma'].progress_apply(lambda text: model.get_sentence_vector(text))"
   ]
  },
  {
   "cell_type": "code",
   "execution_count": 110,
   "metadata": {},
   "outputs": [
    {
     "data": {
      "text/html": [
       "<div>\n",
       "<style scoped>\n",
       "    .dataframe tbody tr th:only-of-type {\n",
       "        vertical-align: middle;\n",
       "    }\n",
       "\n",
       "    .dataframe tbody tr th {\n",
       "        vertical-align: top;\n",
       "    }\n",
       "\n",
       "    .dataframe thead th {\n",
       "        text-align: right;\n",
       "    }\n",
       "</style>\n",
       "<table border=\"1\" class=\"dataframe\">\n",
       "  <thead>\n",
       "    <tr style=\"text-align: right;\">\n",
       "      <th></th>\n",
       "      <th>comment_text</th>\n",
       "      <th>toxic</th>\n",
       "      <th>stopwords_punct_lemma</th>\n",
       "      <th>toxic_label_ft</th>\n",
       "      <th>toxic_label_comment_text</th>\n",
       "      <th>vector_fast_text</th>\n",
       "    </tr>\n",
       "  </thead>\n",
       "  <tbody>\n",
       "    <tr>\n",
       "      <th>0</th>\n",
       "      <td>Well, what are the chances he will turn out to...</td>\n",
       "      <td>0</td>\n",
       "      <td>chance turn active proponent slavery</td>\n",
       "      <td>__label__0</td>\n",
       "      <td>__label__0 chance turn active proponent slavery</td>\n",
       "      <td>[-0.057783302, 0.045883816, -0.04878547, -0.01...</td>\n",
       "    </tr>\n",
       "    <tr>\n",
       "      <th>1</th>\n",
       "      <td>The moment of critical mass is approaching whe...</td>\n",
       "      <td>0</td>\n",
       "      <td>moment critical mass approach deed gupta co li...</td>\n",
       "      <td>__label__0</td>\n",
       "      <td>__label__0 moment critical mass approach deed ...</td>\n",
       "      <td>[-0.03851747, 0.0294842, -0.03536485, -0.00215...</td>\n",
       "    </tr>\n",
       "    <tr>\n",
       "      <th>2</th>\n",
       "      <td>\"Hey listen to me,\" he said. \"I'm not going to...</td>\n",
       "      <td>1</td>\n",
       "      <td>hey listen say go crap prove reporter say    u...</td>\n",
       "      <td>__label__1</td>\n",
       "      <td>__label__1 hey listen say go crap prove report...</td>\n",
       "      <td>[0.08621803, -0.06944817, 0.083605714, 0.00305...</td>\n",
       "    </tr>\n",
       "    <tr>\n",
       "      <th>3</th>\n",
       "      <td>We are already owed $488 M plus interest($2Bil...</td>\n",
       "      <td>0</td>\n",
       "      <td>owe 488 m plus interest 2billion 2006 audits s...</td>\n",
       "      <td>__label__0</td>\n",
       "      <td>__label__0 owe 488 m plus interest 2billion 20...</td>\n",
       "      <td>[-0.021724382, 0.018108185, -0.022645112, -0.0...</td>\n",
       "    </tr>\n",
       "    <tr>\n",
       "      <th>4</th>\n",
       "      <td>There is a reason there are no teeth to the la...</td>\n",
       "      <td>0</td>\n",
       "      <td>reason tooth law unlawful law way force free e...</td>\n",
       "      <td>__label__0</td>\n",
       "      <td>__label__0 reason tooth law unlawful law way f...</td>\n",
       "      <td>[-0.04083619, 0.032266207, -0.039522655, -0.00...</td>\n",
       "    </tr>\n",
       "    <tr>\n",
       "      <th>...</th>\n",
       "      <td>...</td>\n",
       "      <td>...</td>\n",
       "      <td>...</td>\n",
       "      <td>...</td>\n",
       "      <td>...</td>\n",
       "      <td>...</td>\n",
       "    </tr>\n",
       "    <tr>\n",
       "      <th>360830</th>\n",
       "      <td>Do you still beat your wife? Simple question.</td>\n",
       "      <td>0</td>\n",
       "      <td>beat wife simple question</td>\n",
       "      <td>__label__0</td>\n",
       "      <td>__label__0 beat wife simple question</td>\n",
       "      <td>[-0.116752625, 0.09984541, -0.11092692, 0.0111...</td>\n",
       "    </tr>\n",
       "    <tr>\n",
       "      <th>360831</th>\n",
       "      <td>The fascist dictator continues the insanity ag...</td>\n",
       "      <td>1</td>\n",
       "      <td>fascist dictator continue insanity human civil...</td>\n",
       "      <td>__label__1</td>\n",
       "      <td>__label__1 fascist dictator continue insanity ...</td>\n",
       "      <td>[0.032213554, -0.021368029, 0.024845082, -0.00...</td>\n",
       "    </tr>\n",
       "    <tr>\n",
       "      <th>360832</th>\n",
       "      <td>Sean Hannity is a lightweight foolish commenta...</td>\n",
       "      <td>0</td>\n",
       "      <td>sean hannity lightweight foolish commentator f...</td>\n",
       "      <td>__label__0</td>\n",
       "      <td>__label__0 sean hannity lightweight foolish co...</td>\n",
       "      <td>[-0.02342204, 0.014474757, -0.01676093, -0.005...</td>\n",
       "    </tr>\n",
       "    <tr>\n",
       "      <th>360833</th>\n",
       "      <td>There are a number of countries which make it ...</td>\n",
       "      <td>0</td>\n",
       "      <td>number country impossible national citizenship...</td>\n",
       "      <td>__label__0</td>\n",
       "      <td>__label__0 number country impossible national ...</td>\n",
       "      <td>[-0.014181848, 0.013809968, -0.008141792, -0.0...</td>\n",
       "    </tr>\n",
       "    <tr>\n",
       "      <th>360834</th>\n",
       "      <td>Where's data strategy to track % of foreign bu...</td>\n",
       "      <td>0</td>\n",
       "      <td>datum strategy track foreign buyer</td>\n",
       "      <td>__label__0</td>\n",
       "      <td>__label__0 datum strategy track foreign buyer</td>\n",
       "      <td>[-0.062139567, 0.04279981, -0.04441012, 0.0060...</td>\n",
       "    </tr>\n",
       "  </tbody>\n",
       "</table>\n",
       "<p>360301 rows × 6 columns</p>\n",
       "</div>"
      ],
      "text/plain": [
       "                                             comment_text  toxic  \\\n",
       "0       Well, what are the chances he will turn out to...      0   \n",
       "1       The moment of critical mass is approaching whe...      0   \n",
       "2       \"Hey listen to me,\" he said. \"I'm not going to...      1   \n",
       "3       We are already owed $488 M plus interest($2Bil...      0   \n",
       "4       There is a reason there are no teeth to the la...      0   \n",
       "...                                                   ...    ...   \n",
       "360830      Do you still beat your wife? Simple question.      0   \n",
       "360831  The fascist dictator continues the insanity ag...      1   \n",
       "360832  Sean Hannity is a lightweight foolish commenta...      0   \n",
       "360833  There are a number of countries which make it ...      0   \n",
       "360834  Where's data strategy to track % of foreign bu...      0   \n",
       "\n",
       "                                    stopwords_punct_lemma toxic_label_ft  \\\n",
       "0                    chance turn active proponent slavery     __label__0   \n",
       "1       moment critical mass approach deed gupta co li...     __label__0   \n",
       "2       hey listen say go crap prove reporter say    u...     __label__1   \n",
       "3       owe 488 m plus interest 2billion 2006 audits s...     __label__0   \n",
       "4       reason tooth law unlawful law way force free e...     __label__0   \n",
       "...                                                   ...            ...   \n",
       "360830                          beat wife simple question     __label__0   \n",
       "360831  fascist dictator continue insanity human civil...     __label__1   \n",
       "360832  sean hannity lightweight foolish commentator f...     __label__0   \n",
       "360833  number country impossible national citizenship...     __label__0   \n",
       "360834                 datum strategy track foreign buyer     __label__0   \n",
       "\n",
       "                                 toxic_label_comment_text  \\\n",
       "0         __label__0 chance turn active proponent slavery   \n",
       "1       __label__0 moment critical mass approach deed ...   \n",
       "2       __label__1 hey listen say go crap prove report...   \n",
       "3       __label__0 owe 488 m plus interest 2billion 20...   \n",
       "4       __label__0 reason tooth law unlawful law way f...   \n",
       "...                                                   ...   \n",
       "360830               __label__0 beat wife simple question   \n",
       "360831  __label__1 fascist dictator continue insanity ...   \n",
       "360832  __label__0 sean hannity lightweight foolish co...   \n",
       "360833  __label__0 number country impossible national ...   \n",
       "360834      __label__0 datum strategy track foreign buyer   \n",
       "\n",
       "                                         vector_fast_text  \n",
       "0       [-0.057783302, 0.045883816, -0.04878547, -0.01...  \n",
       "1       [-0.03851747, 0.0294842, -0.03536485, -0.00215...  \n",
       "2       [0.08621803, -0.06944817, 0.083605714, 0.00305...  \n",
       "3       [-0.021724382, 0.018108185, -0.022645112, -0.0...  \n",
       "4       [-0.04083619, 0.032266207, -0.039522655, -0.00...  \n",
       "...                                                   ...  \n",
       "360830  [-0.116752625, 0.09984541, -0.11092692, 0.0111...  \n",
       "360831  [0.032213554, -0.021368029, 0.024845082, -0.00...  \n",
       "360832  [-0.02342204, 0.014474757, -0.01676093, -0.005...  \n",
       "360833  [-0.014181848, 0.013809968, -0.008141792, -0.0...  \n",
       "360834  [-0.062139567, 0.04279981, -0.04441012, 0.0060...  \n",
       "\n",
       "[360301 rows x 6 columns]"
      ]
     },
     "execution_count": 110,
     "metadata": {},
     "output_type": "execute_result"
    }
   ],
   "source": [
    "df"
   ]
  },
  {
   "cell_type": "code",
   "execution_count": 114,
   "metadata": {},
   "outputs": [],
   "source": [
    "df.to_csv('data/undersampled_data_60_40_ft.csv')"
   ]
  },
  {
   "cell_type": "code",
   "execution_count": null,
   "metadata": {},
   "outputs": [],
   "source": []
  }
 ],
 "metadata": {
  "kernelspec": {
   "display_name": ".venv",
   "language": "python",
   "name": "python3"
  },
  "language_info": {
   "codemirror_mode": {
    "name": "ipython",
    "version": 3
   },
   "file_extension": ".py",
   "mimetype": "text/x-python",
   "name": "python",
   "nbconvert_exporter": "python",
   "pygments_lexer": "ipython3",
   "version": "3.11.3"
  }
 },
 "nbformat": 4,
 "nbformat_minor": 2
}
