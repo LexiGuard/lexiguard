{
 "cells": [
  {
   "cell_type": "markdown",
   "metadata": {},
   "source": [
    "# EDA and Visualization"
   ]
  },
  {
   "cell_type": "markdown",
   "metadata": {},
   "source": [
    "## Import, install and read"
   ]
  },
  {
   "cell_type": "code",
   "execution_count": null,
   "metadata": {},
   "outputs": [],
   "source": [
    "import pandas as pd\n",
    "import numpy as np\n",
    "import matplotlib.pyplot as plt\n",
    "import missingno as msno\n",
    "import seaborn as sns\n",
    "from statsmodels.tsa.seasonal import seasonal_decompose\n",
    "\n",
    "import warnings\n",
    "warnings.filterwarnings(\"ignore\")"
   ]
  },
  {
   "cell_type": "code",
   "execution_count": null,
   "metadata": {},
   "outputs": [],
   "source": [
    "'''df = pd.read_csv('data/all_data.csv')\n",
    "df_train = pd.read_csv('data/train.csv')\n",
    "df_test = pd.read_csv('data/test.csv')\n",
    "# df_sample = pd.read_csv('data/sample_submission.csv')\n",
    "df_test_private = pd.read_csv('data/test_private_expanded.csv')\n",
    "df_test_public = pd.read_csv('data/test_public_expanded.csv')'''\n",
    "df_tox_annot = pd.read_csv('data/toxicity_individual_annotations.csv')\n",
    "df_ident_annot = pd.read_csv('data/identity_individual_annotations.csv')\n",
    "df_merged = pd.read_csv('data/merged_data.csv')"
   ]
  },
  {
   "cell_type": "markdown",
   "metadata": {},
   "source": [
    "## EDA"
   ]
  },
  {
   "cell_type": "code",
   "execution_count": null,
   "metadata": {},
   "outputs": [],
   "source": [
    "df_merged.head(3)"
   ]
  },
  {
   "cell_type": "code",
   "execution_count": null,
   "metadata": {},
   "outputs": [],
   "source": [
    "# counting the number of occurences of each identity\n",
    "counts = df_merged['rating'].value_counts()\n",
    "\n",
    "# Plotting the distribution of the ratings\n",
    "plt.figure(figsize=(8, 5))\n",
    "plt.bar(counts.index, counts.values, color=['green', 'red'])\n",
    "plt.xticks(counts.index, ['Approved', 'Rejected'])\n",
    "plt.title('Distribution of Approved vs Rejected Ratings')\n",
    "plt.ylabel('Number of Comments')\n",
    "plt.show()"
   ]
  },
  {
   "cell_type": "markdown",
   "metadata": {},
   "source": [
    "## Missing values"
   ]
  },
  {
   "cell_type": "code",
   "execution_count": null,
   "metadata": {},
   "outputs": [],
   "source": [
    "# overview of missing values\n",
    "msno.bar(df_merged)\n",
    "msno.matrix(df_merged)\n",
    "df_merged.isna().sum()"
   ]
  },
  {
   "cell_type": "markdown",
   "metadata": {},
   "source": [
    "- 1 = toxic\n",
    "- 0 = no toxic"
   ]
  },
  {
   "cell_type": "markdown",
   "metadata": {},
   "source": [
    "## **Time-Based Analysis**\n",
    "\n",
    "- **Trends Over Time**: trends of toxic comments over time. This can help identify any temporal patterns."
   ]
  },
  {
   "cell_type": "code",
   "execution_count": null,
   "metadata": {},
   "outputs": [],
   "source": [
    "df_merged['date'] =df_merged['created_date'].str.split(' ').str[0]\n",
    "df_merged['date'] = pd.to_datetime(df_merged['date'])"
   ]
  },
  {
   "cell_type": "code",
   "execution_count": null,
   "metadata": {},
   "outputs": [],
   "source": [
    "df_merged.sort_values(by='date', inplace=True)"
   ]
  },
  {
   "cell_type": "code",
   "execution_count": null,
   "metadata": {},
   "outputs": [],
   "source": [
    "plt.figure(figsize=(10, 4))\n",
    "sns.lineplot(x='date', y='toxic', data=df_merged)\n",
    "\n",
    "# Configurando rótulos e título\n",
    "plt.title('Toxic comments over time')\n",
    "plt.xlabel('Data')\n",
    "plt.ylabel('Toxic comments')\n",
    "plt.show"
   ]
  },
  {
   "cell_type": "code",
   "execution_count": null,
   "metadata": {},
   "outputs": [],
   "source": [
    "# get only toxic comments\n",
    "daily_toxic_counts = df_merged[df_merged['toxic'] == 1].groupby('date').size()\n",
    "# get total comments\n",
    "daily_counts = df_merged['toxic'].groupby(df_merged['date']).size()\n",
    "# % of toxic comments\n",
    "daily_percentage = (daily_toxic_counts / daily_counts)*100\n",
    "\n",
    "# Plot the distribution of toxic comments over time\n",
    "plt.figure(figsize=(10, 4))\n",
    "daily_percentage.plot(kind='bar', color='red', alpha=0.7)\n",
    "\n",
    "# Manually set x-axis labels to display every 7 days\n",
    "plt.xticks(range(0, len(daily_toxic_counts), 20), [str(date.date()) for date in daily_toxic_counts.index[::20]], rotation=45)\n",
    "\n",
    "plt.title('Distribution of % Toxic Comments Over Time')\n",
    "plt.xlabel('Date')\n",
    "plt.ylabel('% of Toxic Comments')\n",
    "plt.tight_layout()\n",
    "plt.show()"
   ]
  },
  {
   "cell_type": "code",
   "execution_count": null,
   "metadata": {},
   "outputs": [],
   "source": [
    "daily_toxic_counts = df_merged[df_merged['toxic'] == 1].groupby('date').size()\n",
    "\n",
    "# Plot the distribution of toxic comments over time\n",
    "plt.figure(figsize=(10, 4))\n",
    "daily_toxic_counts.plot(kind='bar', color='red', alpha=0.7)\n",
    "\n",
    "# Manually set x-axis labels to display every 7 days\n",
    "plt.xticks(range(0, len(daily_toxic_counts), 20), [str(date.date()) for date in daily_toxic_counts.index[::20]], rotation=45)\n",
    "\n",
    "plt.title('Distribution of Toxic Comments Over Time')\n",
    "plt.xlabel('Date')\n",
    "plt.ylabel('Number of Toxic Comments')\n",
    "plt.tight_layout()\n",
    "plt.show()"
   ]
  },
  {
   "cell_type": "markdown",
   "metadata": {},
   "source": [
    "## **Reaction Metrics**\n",
    "\n",
    "- **Reactions to Toxic Comments**: Analyze how users react (likes or disagree) to toxic vs non-toxic comments. Reactions: 'funny', 'wow', 'sad', 'likes', 'disagree'"
   ]
  },
  {
   "cell_type": "code",
   "execution_count": null,
   "metadata": {},
   "outputs": [],
   "source": [
    "df_react = df_merged.loc[:, ('funny', 'wow', 'sad', 'likes', 'disagree', 'toxic')]\n",
    "# df_head = df_head[df_head['toxic'] == 1]"
   ]
  },
  {
   "cell_type": "code",
   "execution_count": null,
   "metadata": {},
   "outputs": [],
   "source": [
    "# Calculate the total number of comments with any reaction\n",
    "df_react['any_reaction'] = (df_react[['funny', 'wow', 'sad', 'likes', 'disagree']] > 0).any(axis=1)\n",
    "total_comments_with_reaction = df_react['any_reaction'].sum()\n",
    "\n",
    "# Calculate the percentage of comments with any reaction\n",
    "percentage_comments_with_reaction = (total_comments_with_reaction / len(df_react)) * 100\n",
    "\n",
    "# Print the percentage\n",
    "print(f\"Percentage of comments with any reaction: {percentage_comments_with_reaction:.2f}%\")\n",
    "\n",
    "# Plot the percentage\n",
    "plt.figure(figsize=(8, 6))\n",
    "sns.barplot(x=['Comments with Reaction', 'Comments without Reaction'], y=[percentage_comments_with_reaction, 100 - percentage_comments_with_reaction], palette=['lightblue', 'lightgrey'])\n",
    "plt.title('Percentage of Comments with Any Reaction')\n",
    "plt.ylabel('Percentage')\n",
    "plt.show()\n"
   ]
  },
  {
   "cell_type": "code",
   "execution_count": null,
   "metadata": {},
   "outputs": [],
   "source": [
    "# Calculate the total number of comments with any reaction\n",
    "df_react['any_reaction'] = (df_react[['funny', 'wow', 'sad', 'likes', 'disagree']] > 0).any(axis=1)\n",
    "\n",
    "# Create a contingency table to count occurrences\n",
    "contingency_table = pd.crosstab(df_react['toxic'], df_react['any_reaction'], margins=True, margins_name=\"Total\")\n",
    "\n",
    "# Calculate percentages\n",
    "percentage_comments_with_reaction_and_toxic = (contingency_table[True] / contingency_table['Total']) * 100\n",
    "percentage_comments_without_reaction_and_toxic = (contingency_table[False] / contingency_table['Total']) * 100\n",
    "\n",
    "# Print the percentages\n",
    "print(\"Percentage of comments with reactions by toxicity:\")\n",
    "print(f\"With toxicity: {percentage_comments_with_reaction_and_toxic[True]:.2f}%\")\n",
    "print(f\"Without toxicity: {percentage_comments_without_reaction_and_toxic[True]:.2f}%\")\n",
    "\n",
    "# Plot the percentages\n",
    "plt.figure(figsize=(10, 6))\n",
    "sns.barplot(x=contingency_table.index, y=percentage_comments_with_reaction_and_toxic, color='lightgray', label='With Reaction')\n",
    "sns.barplot(x=contingency_table.index, y=percentage_comments_without_reaction_and_toxic, color='orange', label='Without Reaction', bottom=percentage_comments_with_reaction_and_toxic)\n",
    "\n",
    "plt.title('Percentage of Comments with and without Reactions by Toxicity')\n",
    "plt.xlabel('Toxicity')\n",
    "plt.ylabel('Percentage')\n",
    "plt.legend()\n",
    "plt.show()"
   ]
  },
  {
   "cell_type": "code",
   "execution_count": null,
   "metadata": {},
   "outputs": [],
   "source": [
    "df_react_with_reaction = df_react[df_react[['funny', 'wow', 'sad', 'likes', 'disagree']].sum(axis=1) > 0]\n",
    "\n",
    "reactions = ['funny', 'wow', 'sad', 'likes', 'disagree']\n",
    "\n",
    "for reaction in reactions:\n",
    "    plt.figure(figsize=(6, 3))\n",
    "    sns.barplot(data=df_react_with_reaction, x='toxic', y=reaction, ci=None)\n",
    "    plt.title(f'Grouped Bar Chart of {reaction.capitalize()} Reactions for Comments with Reactions')\n",
    "    plt.xlabel('Toxicity')\n",
    "    plt.ylabel(f'{reaction.capitalize()} Reactions')\n",
    "    plt.show()"
   ]
  },
  {
   "cell_type": "markdown",
   "metadata": {},
   "source": [
    "-------------\n"
   ]
  },
  {
   "cell_type": "markdown",
   "metadata": {},
   "source": [
    "<font color=\"red\">\n",
    "\n",
    "### I thinks Annotator Insight is not useful for our main file because we decided not to go deep into it. But we could have this for the records\n",
    "\n",
    "</font>\n"
   ]
  },
  {
   "cell_type": "markdown",
   "metadata": {},
   "source": [
    "## **Annotator Insights**\n",
    "\n",
    "- **Annotator Count Analysis**: Examine the identity_annotator_count  to see if there’s any pattern in the number of annotators for different levels of toxicity or subgroups."
   ]
  },
  {
   "cell_type": "code",
   "execution_count": null,
   "metadata": {},
   "outputs": [],
   "source": [
    "# annotator = ['identity_annotator_count', 'toxicity_annotator_count']"
   ]
  },
  {
   "cell_type": "code",
   "execution_count": null,
   "metadata": {},
   "outputs": [],
   "source": [
    "# pd.options.display.max_rows = 999\n",
    "\n",
    "annotators = [4,10,6,5,7,9,11,8,1545,12,1814]\n",
    "\n",
    "# df_merged['identity_annotator_count'].value_counts().head(6)\n",
    "\n",
    "'''4       266136\n",
    "10       90051\n",
    "6        49506\n",
    "5        19748\n",
    "7          468\n",
    "9          279\n",
    "11         223\n",
    "8           54\n",
    "1545         7\n",
    "12           5\n",
    "1814         5'''"
   ]
  },
  {
   "cell_type": "code",
   "execution_count": null,
   "metadata": {},
   "outputs": [],
   "source": [
    "df_merged.head(10)\n",
    "# identity_annotator_count - number of human beings checked the comment for identity\n",
    "# toxicity_annotator_count - number of human beings checked for toxicity"
   ]
  },
  {
   "cell_type": "code",
   "execution_count": null,
   "metadata": {},
   "outputs": [],
   "source": [
    "df_annotator_merged = pd.merge(df_tox_annot, df_ident_annot, on='id', how='inner')"
   ]
  },
  {
   "cell_type": "code",
   "execution_count": null,
   "metadata": {},
   "outputs": [],
   "source": [
    "df_annotator_merged.shape"
   ]
  },
  {
   "cell_type": "code",
   "execution_count": 33,
   "metadata": {},
   "outputs": [],
   "source": [
    "# Just for the records\n",
    "main_columns = ['id', 'comment_text', 'split','toxicity']\n",
    "\n",
    "subtype_columns = ['severe_toxicity', 'obscene', 'insult', 'threat','identity_attack','sexual_explicit']\n",
    "\n",
    "identity_columns = ['male', 'female', 'transgender',\n",
    "'other_gender', 'heterosexual', 'homosexual_gay_or_lesbian', 'bisexual',\n",
    "'other_sexual_orientation', 'christian', 'jewish', 'muslim', 'hindu',\n",
    "'buddhist', 'atheist', 'other_religion', 'black', 'white', 'asian',\n",
    "'latino', 'other_race_or_ethnicity', 'physical_disability',\n",
    "'intellectual_or_learning_disability', 'psychiatric_or_mental_illness',\n",
    "'other_disability']\n",
    "\n",
    "metadata_columns = ['created_date', 'publication_id',\n",
    "'parent_id', 'article_id', 'rating', 'funny', 'wow', 'sad', 'likes',\n",
    "'disagree', 'identity_annotator_count',\n",
    "'toxicity_annotator_count']"
   ]
  }
 ],
 "metadata": {
  "kernelspec": {
   "display_name": ".venv",
   "language": "python",
   "name": "python3"
  },
  "language_info": {
   "codemirror_mode": {
    "name": "ipython",
    "version": 3
   },
   "file_extension": ".py",
   "mimetype": "text/x-python",
   "name": "python",
   "nbconvert_exporter": "python",
   "pygments_lexer": "ipython3",
   "version": "3.11.3"
  }
 },
 "nbformat": 4,
 "nbformat_minor": 2
}
