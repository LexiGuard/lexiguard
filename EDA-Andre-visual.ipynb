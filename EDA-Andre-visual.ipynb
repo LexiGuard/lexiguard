{
 "cells": [
  {
   "cell_type": "markdown",
   "metadata": {},
   "source": [
    "# EDA and Visualization"
   ]
  },
  {
   "cell_type": "markdown",
   "metadata": {},
   "source": [
    "## Import, install and read"
   ]
  },
  {
   "cell_type": "code",
   "execution_count": null,
   "metadata": {},
   "outputs": [],
   "source": [
    "import pandas as pd\n",
    "import numpy as np\n",
    "import matplotlib.pyplot as plt\n",
    "import missingno as msno\n",
    "import seaborn as sns\n",
    "from statsmodels.tsa.seasonal import seasonal_decompose\n",
    "\n",
    "import warnings\n",
    "warnings.filterwarnings(\"ignore\")"
   ]
  },
  {
   "cell_type": "code",
   "execution_count": null,
   "metadata": {},
   "outputs": [],
   "source": [
    "'''df = pd.read_csv('data/all_data.csv')\n",
    "df_train = pd.read_csv('data/train.csv')\n",
    "df_test = pd.read_csv('data/test.csv')\n",
    "# df_sample = pd.read_csv('data/sample_submission.csv')\n",
    "df_test_private = pd.read_csv('data/test_private_expanded.csv')\n",
    "df_test_public = pd.read_csv('data/test_public_expanded.csv')\n",
    "df_tox_annot = pd.read_csv('data/toxicity_individual_annotations.csv')\n",
    "df_ident_annot = pd.read_csv('data/identity_individual_annotations.csv')'''\n",
    "df_merged = pd.read_csv('data/merged_data.csv')"
   ]
  },
  {
   "cell_type": "markdown",
   "metadata": {},
   "source": [
    "## EDA"
   ]
  },
  {
   "cell_type": "code",
   "execution_count": null,
   "metadata": {},
   "outputs": [],
   "source": [
    "df_merged.head(3)"
   ]
  },
  {
   "cell_type": "code",
   "execution_count": null,
   "metadata": {},
   "outputs": [],
   "source": [
    "# counting\n",
    "counts = df_merged['rating'].value_counts()\n",
    "\n",
    "# Plotting\n",
    "plt.figure(figsize=(8, 5))\n",
    "plt.bar(counts.index, counts.values, color=['green', 'red'])\n",
    "plt.xticks(counts.index, ['Approved', 'Rejected'])\n",
    "plt.title('Distribution of Approved vs Rejected Ratings')\n",
    "plt.ylabel('Number of Comments')\n",
    "plt.show()"
   ]
  },
  {
   "cell_type": "code",
   "execution_count": null,
   "metadata": {},
   "outputs": [],
   "source": [
    "df_merged.info()"
   ]
  },
  {
   "cell_type": "markdown",
   "metadata": {},
   "source": [
    "## Missing values"
   ]
  },
  {
   "cell_type": "code",
   "execution_count": null,
   "metadata": {},
   "outputs": [],
   "source": [
    "# overview of missing values\n",
    "msno.bar(df_merged)\n",
    "msno.matrix(df_merged)\n",
    "df_merged.isna().sum()"
   ]
  },
  {
   "cell_type": "markdown",
   "metadata": {},
   "source": [
    "- 1 = toxic\n",
    "- 0 = no toxic"
   ]
  },
  {
   "cell_type": "markdown",
   "metadata": {},
   "source": [
    "## **Time-Based Analysis**\n",
    "\n",
    "- **Trends Over Time**: trends of toxic comments over time. This can help identify any temporal patterns."
   ]
  },
  {
   "cell_type": "code",
   "execution_count": null,
   "metadata": {},
   "outputs": [],
   "source": [
    "df_merged['date'] =df_merged['created_date'].str.split(' ').str[0]\n",
    "df_merged['date'] = pd.to_datetime(df_merged['date'])"
   ]
  },
  {
   "cell_type": "code",
   "execution_count": null,
   "metadata": {},
   "outputs": [],
   "source": [
    "df_merged.sort_values(by='date', inplace=True)"
   ]
  },
  {
   "cell_type": "code",
   "execution_count": null,
   "metadata": {},
   "outputs": [],
   "source": [
    "plt.figure(figsize=(12, 6))\n",
    "sns.lineplot(x='date', y='toxic', data=df_merged)\n",
    "\n",
    "# Configurando rótulos e título\n",
    "plt.title('Toxic comments over time')\n",
    "plt.xlabel('Data')\n",
    "plt.ylabel('Toxic comments')\n",
    "plt.show"
   ]
  },
  {
   "cell_type": "code",
   "execution_count": null,
   "metadata": {},
   "outputs": [],
   "source": [
    "daily_toxic_counts = df_merged[df_merged['toxic'] == 1].groupby('date').size()\n",
    "\n",
    "# Plot the distribution of toxic comments over time\n",
    "plt.figure(figsize=(10, 6))\n",
    "daily_toxic_counts.plot(kind='bar', color='red', alpha=0.7)\n",
    "\n",
    "# Manually set x-axis labels to display every 7 days\n",
    "plt.xticks(range(0, len(daily_toxic_counts), 20), [str(date.date()) for date in daily_toxic_counts.index[::20]], rotation=45)\n",
    "\n",
    "plt.title('Distribution of Toxic Comments Over Time')\n",
    "plt.xlabel('Date')\n",
    "plt.ylabel('Number of Toxic Comments')\n",
    "plt.tight_layout()\n",
    "plt.show()"
   ]
  },
  {
   "cell_type": "code",
   "execution_count": null,
   "metadata": {},
   "outputs": [],
   "source": [
    "# Plot the distribution of toxic comments over time\n",
    "plt.figure(figsize=(10, 6))\n",
    "\n",
    "# Use range(len(daily_toxic_counts)) as x values\n",
    "plt.bar(range(len(daily_toxic_counts)), daily_toxic_counts, color='red', alpha=0.7)\n",
    "\n",
    "# Manually set x-axis labels to display every 7 days\n",
    "plt.xticks(range(0, len(daily_toxic_counts), 20), [str(date.date()) for date in daily_toxic_counts.index[::20]], rotation=45)\n",
    "\n",
    "# Add a trendline\n",
    "x = np.arange(len(daily_toxic_counts))\n",
    "coefficients = np.polyfit(x, daily_toxic_counts, 1)\n",
    "trendline = np.polyval(coefficients, x)\n",
    "plt.plot(x, trendline, color='blue', label='Trendline')\n",
    "\n",
    "plt.title('Distribution of Toxic Comments Over Time with Trendline')\n",
    "plt.xlabel('Date')\n",
    "plt.ylabel('Number of Toxic Comments')\n",
    "plt.legend()\n",
    "plt.tight_layout()\n",
    "plt.show()"
   ]
  },
  {
   "cell_type": "markdown",
   "metadata": {},
   "source": [
    "## **Reaction Metrics**\n",
    "\n",
    "- **Reactions to Toxic Comments**: Analyze how users react (likes or disagree) to toxic vs non-toxic comments. Scatter plots or grouped bar charts could be useful here.\n",
    "\n",
    "- React: 'funny', 'wow', 'sad', 'likes', 'disagree'"
   ]
  },
  {
   "cell_type": "code",
   "execution_count": null,
   "metadata": {},
   "outputs": [],
   "source": [
    "react = ['funny', 'wow', 'sad', 'likes', 'disagree']\n",
    "# toxic_react = df_merged[df_merged['toxic'] == 1].groupby('react').size()"
   ]
  },
  {
   "cell_type": "markdown",
   "metadata": {},
   "source": [
    "## **Annotator Insights**\n",
    "\n",
    "- **Annotator Count Analysis**: Examine the identity_annotator_count  to see if there’s any pattern in the number of annotators for different levels of toxicity or subgroups."
   ]
  },
  {
   "cell_type": "code",
   "execution_count": null,
   "metadata": {},
   "outputs": [],
   "source": []
  }
 ],
 "metadata": {
  "kernelspec": {
   "display_name": ".venv",
   "language": "python",
   "name": "python3"
  },
  "language_info": {
   "codemirror_mode": {
    "name": "ipython",
    "version": 3
   },
   "file_extension": ".py",
   "mimetype": "text/x-python",
   "name": "python",
   "nbconvert_exporter": "python",
   "pygments_lexer": "ipython3",
   "version": "3.11.3"
  }
 },
 "nbformat": 4,
 "nbformat_minor": 2
}
